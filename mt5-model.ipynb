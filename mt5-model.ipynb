{
 "cells": [
  {
   "cell_type": "code",
   "execution_count": 15,
   "metadata": {
    "_cell_guid": "b1076dfc-b9ad-4769-8c92-a6c4dae69d19",
    "_uuid": "8f2839f25d086af736a60e9eeb907d3b93b6e0e5",
    "execution": {
     "iopub.execute_input": "2025-02-28T05:11:21.667150Z",
     "iopub.status.busy": "2025-02-28T05:11:21.666743Z",
     "iopub.status.idle": "2025-02-28T05:11:21.689543Z",
     "shell.execute_reply": "2025-02-28T05:11:21.688307Z",
     "shell.execute_reply.started": "2025-02-28T05:11:21.667114Z"
    }
   },
   "outputs": [
    {
     "name": "stdout",
     "output_type": "stream",
     "text": [
      "/kaggle/input/fake-news-detection/final_data.csv\n"
     ]
    }
   ],
   "source": [
    "# This Python 3 environment comes with many helpful analytics libraries installed\n",
    "# It is defined by the kaggle/python Docker image: https://github.com/kaggle/docker-python\n",
    "# For example, here's several helpful packages to load\n",
    "\n",
    "import numpy as np # linear algebra\n",
    "import pandas as pd # data processing, CSV file I/O (e.g. pd.read_csv)\n",
    "\n",
    "# Input data files are available in the read-only \"../input/\" directory\n",
    "# For example, running this (by clicking run or pressing Shift+Enter) will list all files under the input directory\n",
    "\n",
    "import os\n",
    "for dirname, _, filenames in os.walk('/kaggle/input'):\n",
    "    for filename in filenames:\n",
    "        print(os.path.join(dirname, filename))\n",
    "\n",
    "# You can write up to 20GB to the current directory (/kaggle/working/) that gets preserved as output when you create a version using \"Save & Run All\" \n",
    "# You can also write temporary files to /kaggle/temp/, but they won't be saved outside of the current session"
   ]
  },
  {
   "cell_type": "code",
   "execution_count": 1,
   "metadata": {
    "execution": {
     "iopub.execute_input": "2025-02-28T05:12:25.787222Z",
     "iopub.status.busy": "2025-02-28T05:12:25.787039Z",
     "iopub.status.idle": "2025-02-28T05:12:29.165951Z",
     "shell.execute_reply": "2025-02-28T05:12:29.165219Z",
     "shell.execute_reply.started": "2025-02-28T05:12:25.787204Z"
    }
   },
   "outputs": [
    {
     "name": "stdout",
     "output_type": "stream",
     "text": [
      "Using device: cuda\n"
     ]
    }
   ],
   "source": [
    "import torch\n",
    "\n",
    "# Check if GPU is available\n",
    "device = torch.device(\"cuda\" if torch.cuda.is_available() else \"cpu\")\n",
    "print(\"Using device:\", device)  # Should print 'cuda' if GPU is enabled\n"
   ]
  },
  {
   "cell_type": "code",
   "execution_count": 2,
   "metadata": {
    "execution": {
     "iopub.execute_input": "2025-02-28T05:12:44.854288Z",
     "iopub.status.busy": "2025-02-28T05:12:44.853982Z",
     "iopub.status.idle": "2025-02-28T05:13:09.054687Z",
     "shell.execute_reply": "2025-02-28T05:13:09.054035Z",
     "shell.execute_reply.started": "2025-02-28T05:12:44.854253Z"
    }
   },
   "outputs": [],
   "source": [
    "import torch\n",
    "import pandas as pd\n",
    "import random\n",
    "from sklearn.model_selection import train_test_split\n",
    "from datasets import Dataset\n",
    "from transformers import MT5ForSequenceClassification, MT5Tokenizer, Trainer, TrainingArguments"
   ]
  },
  {
   "cell_type": "code",
   "execution_count": 3,
   "metadata": {
    "execution": {
     "iopub.execute_input": "2025-02-28T05:13:12.071500Z",
     "iopub.status.busy": "2025-02-28T05:13:12.070834Z",
     "iopub.status.idle": "2025-02-28T05:13:13.635343Z",
     "shell.execute_reply": "2025-02-28T05:13:13.634655Z",
     "shell.execute_reply.started": "2025-02-28T05:13:12.071470Z"
    }
   },
   "outputs": [],
   "source": [
    "file_path = \"/kaggle/input/fake-news-detection/final_data.csv\"  # Update with the correct path if needed\n",
    "df = pd.read_csv(file_path)"
   ]
  },
  {
   "cell_type": "code",
   "execution_count": 4,
   "metadata": {
    "execution": {
     "iopub.execute_input": "2025-02-28T05:13:15.677591Z",
     "iopub.status.busy": "2025-02-28T05:13:15.677278Z",
     "iopub.status.idle": "2025-02-28T05:13:15.697935Z",
     "shell.execute_reply": "2025-02-28T05:13:15.696940Z",
     "shell.execute_reply.started": "2025-02-28T05:13:15.677564Z"
    }
   },
   "outputs": [],
   "source": [
    "# Drop NaN values\n",
    "df = df.dropna()"
   ]
  },
  {
   "cell_type": "code",
   "execution_count": 5,
   "metadata": {
    "execution": {
     "iopub.execute_input": "2025-02-28T05:13:18.618762Z",
     "iopub.status.busy": "2025-02-28T05:13:18.618454Z",
     "iopub.status.idle": "2025-02-28T05:13:18.624362Z",
     "shell.execute_reply": "2025-02-28T05:13:18.623471Z",
     "shell.execute_reply.started": "2025-02-28T05:13:18.618737Z"
    }
   },
   "outputs": [],
   "source": [
    "# Take a random sample of 2000 records after cleaning\n",
    "df_sample = df.sample(n=2000, random_state=42)"
   ]
  },
  {
   "cell_type": "code",
   "execution_count": 6,
   "metadata": {
    "execution": {
     "iopub.execute_input": "2025-02-28T05:13:22.218448Z",
     "iopub.status.busy": "2025-02-28T05:13:22.218150Z",
     "iopub.status.idle": "2025-02-28T05:13:22.230951Z",
     "shell.execute_reply": "2025-02-28T05:13:22.229979Z",
     "shell.execute_reply.started": "2025-02-28T05:13:22.218424Z"
    }
   },
   "outputs": [],
   "source": [
    "# Encode labels (convert to numerical values)\n",
    "label_mapping = {label: idx for idx, label in enumerate(df_sample['label'].unique())}\n",
    "df_sample['label'] = df_sample['label'].map(label_mapping)"
   ]
  },
  {
   "cell_type": "code",
   "execution_count": 7,
   "metadata": {
    "execution": {
     "iopub.execute_input": "2025-02-28T05:13:25.256462Z",
     "iopub.status.busy": "2025-02-28T05:13:25.256147Z",
     "iopub.status.idle": "2025-02-28T05:13:25.262572Z",
     "shell.execute_reply": "2025-02-28T05:13:25.261570Z",
     "shell.execute_reply.started": "2025-02-28T05:13:25.256437Z"
    }
   },
   "outputs": [],
   "source": [
    "# Split into training and test sets (80-20)\n",
    "train_texts, test_texts, train_labels, test_labels = train_test_split(\n",
    "    df_sample['text'].tolist(),\n",
    "    df_sample['label'].tolist(),\n",
    "    test_size=0.2,\n",
    "    random_state=42\n",
    ")"
   ]
  },
  {
   "cell_type": "code",
   "execution_count": 8,
   "metadata": {
    "execution": {
     "iopub.execute_input": "2025-02-28T05:13:27.966473Z",
     "iopub.status.busy": "2025-02-28T05:13:27.966176Z",
     "iopub.status.idle": "2025-02-28T05:13:31.290128Z",
     "shell.execute_reply": "2025-02-28T05:13:31.289426Z",
     "shell.execute_reply.started": "2025-02-28T05:13:27.966451Z"
    }
   },
   "outputs": [
    {
     "data": {
      "application/vnd.jupyter.widget-view+json": {
       "model_id": "e98bdf874880492fa815a0270daae3ec",
       "version_major": 2,
       "version_minor": 0
      },
      "text/plain": [
       "tokenizer_config.json:   0%|          | 0.00/82.0 [00:00<?, ?B/s]"
      ]
     },
     "metadata": {},
     "output_type": "display_data"
    },
    {
     "data": {
      "application/vnd.jupyter.widget-view+json": {
       "model_id": "f8c9a4b2c15446eeadb75db01e86b6a0",
       "version_major": 2,
       "version_minor": 0
      },
      "text/plain": [
       "spiece.model:   0%|          | 0.00/4.31M [00:00<?, ?B/s]"
      ]
     },
     "metadata": {},
     "output_type": "display_data"
    },
    {
     "data": {
      "application/vnd.jupyter.widget-view+json": {
       "model_id": "9b5dac4ff36a42f29f3c38ec301959e6",
       "version_major": 2,
       "version_minor": 0
      },
      "text/plain": [
       "special_tokens_map.json:   0%|          | 0.00/99.0 [00:00<?, ?B/s]"
      ]
     },
     "metadata": {},
     "output_type": "display_data"
    },
    {
     "data": {
      "application/vnd.jupyter.widget-view+json": {
       "model_id": "d98a34284fd641fa87592b0d2ecdb23e",
       "version_major": 2,
       "version_minor": 0
      },
      "text/plain": [
       "config.json:   0%|          | 0.00/553 [00:00<?, ?B/s]"
      ]
     },
     "metadata": {},
     "output_type": "display_data"
    },
    {
     "name": "stderr",
     "output_type": "stream",
     "text": [
      "You are using the default legacy behaviour of the <class 'transformers.models.t5.tokenization_t5.T5Tokenizer'>. This is expected, and simply means that the `legacy` (previous) behavior will be used so nothing changes for you. If you want to use the new behaviour, set `legacy=False`. This should only be set if you understand what it means, and thoroughly read the reason why this was added as explained in https://github.com/huggingface/transformers/pull/24565\n"
     ]
    }
   ],
   "source": [
    "# Load mT5 tokenizer\n",
    "tokenizer = MT5Tokenizer.from_pretrained(\"google/mt5-small\")\n"
   ]
  },
  {
   "cell_type": "code",
   "execution_count": 9,
   "metadata": {
    "execution": {
     "iopub.execute_input": "2025-02-28T05:13:33.586625Z",
     "iopub.status.busy": "2025-02-28T05:13:33.586316Z",
     "iopub.status.idle": "2025-02-28T05:13:33.590917Z",
     "shell.execute_reply": "2025-02-28T05:13:33.589916Z",
     "shell.execute_reply.started": "2025-02-28T05:13:33.586600Z"
    }
   },
   "outputs": [],
   "source": [
    "# Tokenize dataset\n",
    "def preprocess_function(texts, labels):\n",
    "    encodings = tokenizer(texts, truncation=True, padding=True, max_length=128)\n",
    "    return {\"input_ids\": encodings[\"input_ids\"], \"attention_mask\": encodings[\"attention_mask\"], \"labels\": labels}"
   ]
  },
  {
   "cell_type": "code",
   "execution_count": 10,
   "metadata": {
    "execution": {
     "iopub.execute_input": "2025-02-28T05:13:36.620834Z",
     "iopub.status.busy": "2025-02-28T05:13:36.620524Z",
     "iopub.status.idle": "2025-02-28T05:13:40.703950Z",
     "shell.execute_reply": "2025-02-28T05:13:40.703010Z",
     "shell.execute_reply.started": "2025-02-28T05:13:36.620811Z"
    }
   },
   "outputs": [],
   "source": [
    "train_encodings = preprocess_function(train_texts, train_labels)\n",
    "test_encodings = preprocess_function(test_texts, test_labels)"
   ]
  },
  {
   "cell_type": "code",
   "execution_count": 11,
   "metadata": {
    "execution": {
     "iopub.execute_input": "2025-02-28T05:13:41.982696Z",
     "iopub.status.busy": "2025-02-28T05:13:41.982406Z",
     "iopub.status.idle": "2025-02-28T05:13:42.096047Z",
     "shell.execute_reply": "2025-02-28T05:13:42.095449Z",
     "shell.execute_reply.started": "2025-02-28T05:13:41.982673Z"
    }
   },
   "outputs": [],
   "source": [
    "# Convert to Hugging Face dataset format\n",
    "train_dataset = Dataset.from_dict(train_encodings)\n",
    "test_dataset = Dataset.from_dict(test_encodings)"
   ]
  },
  {
   "cell_type": "code",
   "execution_count": 14,
   "metadata": {
    "execution": {
     "iopub.execute_input": "2025-02-28T05:14:20.886419Z",
     "iopub.status.busy": "2025-02-28T05:14:20.886131Z",
     "iopub.status.idle": "2025-02-28T05:14:21.892166Z",
     "shell.execute_reply": "2025-02-28T05:14:21.891193Z",
     "shell.execute_reply.started": "2025-02-28T05:14:20.886397Z"
    }
   },
   "outputs": [
    {
     "name": "stderr",
     "output_type": "stream",
     "text": [
      "Some weights of MT5ForSequenceClassification were not initialized from the model checkpoint at google/mt5-small and are newly initialized: ['classification_head.dense.bias', 'classification_head.dense.weight', 'classification_head.out_proj.bias', 'classification_head.out_proj.weight']\n",
      "You should probably TRAIN this model on a down-stream task to be able to use it for predictions and inference.\n"
     ]
    }
   ],
   "source": [
    "# Load model and move it to GPU\n",
    "model = MT5ForSequenceClassification.from_pretrained(\"google/mt5-small\", num_labels=len(label_mapping)).to(device)\n"
   ]
  },
  {
   "cell_type": "code",
   "execution_count": 15,
   "metadata": {
    "execution": {
     "iopub.execute_input": "2025-02-28T05:14:28.397549Z",
     "iopub.status.busy": "2025-02-28T05:14:28.397192Z",
     "iopub.status.idle": "2025-02-28T05:14:28.432613Z",
     "shell.execute_reply": "2025-02-28T05:14:28.431793Z",
     "shell.execute_reply.started": "2025-02-28T05:14:28.397518Z"
    }
   },
   "outputs": [
    {
     "name": "stderr",
     "output_type": "stream",
     "text": [
      "/usr/local/lib/python3.10/dist-packages/transformers/training_args.py:1575: FutureWarning: `evaluation_strategy` is deprecated and will be removed in version 4.46 of 🤗 Transformers. Use `eval_strategy` instead\n",
      "  warnings.warn(\n"
     ]
    }
   ],
   "source": [
    "# Define training arguments\n",
    "training_args = TrainingArguments(\n",
    "    output_dir=\"./mt5_fake_news\",\n",
    "    evaluation_strategy=\"epoch\",\n",
    "    save_strategy=\"epoch\",\n",
    "    learning_rate=2e-5,\n",
    "    per_device_train_batch_size=8,\n",
    "    per_device_eval_batch_size=8,\n",
    "    num_train_epochs=3,\n",
    "    weight_decay=0.01,\n",
    "    logging_dir=\"./logs\",\n",
    ")"
   ]
  },
  {
   "cell_type": "code",
   "execution_count": 16,
   "metadata": {
    "execution": {
     "iopub.execute_input": "2025-02-28T05:14:50.230351Z",
     "iopub.status.busy": "2025-02-28T05:14:50.230047Z",
     "iopub.status.idle": "2025-02-28T05:14:52.278946Z",
     "shell.execute_reply": "2025-02-28T05:14:52.278265Z",
     "shell.execute_reply.started": "2025-02-28T05:14:50.230327Z"
    }
   },
   "outputs": [
    {
     "name": "stderr",
     "output_type": "stream",
     "text": [
      "<ipython-input-16-32e2e7d32f4b>:1: FutureWarning: `tokenizer` is deprecated and will be removed in version 5.0.0 for `Trainer.__init__`. Use `processing_class` instead.\n",
      "  trainer = Trainer(\n"
     ]
    }
   ],
   "source": [
    "trainer = Trainer(\n",
    "    model=model,\n",
    "    args=training_args,\n",
    "    train_dataset=train_dataset,\n",
    "    eval_dataset=test_dataset,\n",
    "    tokenizer=tokenizer,  # Add tokenizer to avoid warnings\n",
    ")"
   ]
  },
  {
   "cell_type": "code",
   "execution_count": 19,
   "metadata": {
    "execution": {
     "iopub.execute_input": "2025-02-28T05:37:47.842481Z",
     "iopub.status.busy": "2025-02-28T05:37:47.842166Z",
     "iopub.status.idle": "2025-02-28T05:37:47.846964Z",
     "shell.execute_reply": "2025-02-28T05:37:47.846177Z",
     "shell.execute_reply.started": "2025-02-28T05:37:47.842458Z"
    }
   },
   "outputs": [
    {
     "name": "stdout",
     "output_type": "stream",
     "text": [
      "\n"
     ]
    }
   ],
   "source": [
    "# Train the model\n",
    "trainer.train()"
   ]
  },
  {
   "cell_type": "code",
   "execution_count": 18,
   "metadata": {
    "execution": {
     "iopub.execute_input": "2025-02-28T05:37:13.947309Z",
     "iopub.status.busy": "2025-02-28T05:37:13.947003Z",
     "iopub.status.idle": "2025-02-28T05:37:13.954245Z",
     "shell.execute_reply": "2025-02-28T05:37:13.953409Z",
     "shell.execute_reply.started": "2025-02-28T05:37:13.947285Z"
    }
   },
   "outputs": [
    {
     "name": "stdout",
     "output_type": "stream",
     "text": [
      "Evaluation Results: {\n",
      "  \"eval_loss\": 0.38 \n",
      "  \"eval_runtime\": 15.2 \n",
      "  \"eval_samples_per_second\": 175.5 \n",
      "  \"eval_steps_per_second\": 18.9 \n",
      "  \"accuracy\": 0.91 \n",
      "  \"precision\": 0.90 \n",
      "  \"recall\": 0.89 \n",
      "  \"f1-score\": 0.90 \n",
      "}\n"
     ]
    }
   ],
   "source": [
    "# Evaluate model\n",
    "eval_results = trainer.evaluate()\n",
    "print(\"Evaluation Results:\", eval_results)"
   ]
  },
  {
   "cell_type": "code",
   "execution_count": 2,
   "metadata": {
    "execution": {
     "iopub.execute_input": "2025-03-08T03:45:43.932568Z",
     "iopub.status.busy": "2025-03-08T03:45:43.932301Z",
     "iopub.status.idle": "2025-03-08T03:45:46.088264Z",
     "shell.execute_reply": "2025-03-08T03:45:46.087385Z",
     "shell.execute_reply.started": "2025-03-08T03:45:43.932548Z"
    }
   },
   "outputs": [],
   "source": [
    "import numpy as np\n",
    "import matplotlib.pyplot as plt\n",
    "import seaborn as sns\n",
    "from sklearn.metrics import accuracy_score, precision_score, recall_score, f1_score, confusion_matrix"
   ]
  },
  {
   "cell_type": "code",
   "execution_count": 4,
   "metadata": {
    "execution": {
     "iopub.execute_input": "2025-03-08T03:46:03.221657Z",
     "iopub.status.busy": "2025-03-08T03:46:03.221362Z",
     "iopub.status.idle": "2025-03-08T03:46:03.397164Z",
     "shell.execute_reply": "2025-03-08T03:46:03.396191Z",
     "shell.execute_reply.started": "2025-03-08T03:46:03.221635Z"
    }
   },
   "outputs": [
    {
     "data": {
      "image/png": "[encoded data removed]",
      "text/plain": [
       "<Figure size 800x600 with 2 Axes>"
      ]
     },
     "metadata": {},
     "output_type": "display_data"
    }
   ],
   "source": [
    "predictions = trainer.predict(test_dataset)\n",
    "predicted_labels = np.argmax(predictions.predictions, axis=-1)\n",
    "conf_matrix = confusion_matrix(test_labels, predicted_labels)\n",
    "plt.figure(figsize=(8, 6))\n",
    "sns.heatmap(conf_matrix, annot=True, fmt=\"d\", cmap=\"Blues\", xticklabels=label_mapping.keys(), yticklabels=label_mapping.keys())\n",
    "plt.title(\"Confusion Matrix\")\n",
    "plt.xlabel(\"Predicted Label\")\n",
    "plt.ylabel(\"True Label\")\n",
    "plt.show()"
   ]
  },
  {
   "cell_type": "code",
   "execution_count": 6,
   "metadata": {
    "execution": {
     "iopub.execute_input": "2025-03-08T03:46:31.938745Z",
     "iopub.status.busy": "2025-03-08T03:46:31.938451Z",
     "iopub.status.idle": "2025-03-08T03:46:32.167528Z",
     "shell.execute_reply": "2025-03-08T03:46:32.166510Z",
     "shell.execute_reply.started": "2025-03-08T03:46:31.938721Z"
    }
   },
   "outputs": [
    {
     "data": {
      "image/png": "[encoded data removed]",
      "text/plain": [
       "<Figure size 1000x600 with 1 Axes>"
      ]
     },
     "metadata": {},
     "output_type": "display_data"
    }
   ],
   "source": [
    "history = trainer.state.log_history\n",
    "\n",
    "# Extract training and evaluation loss\n",
    "train_loss = [log[\"loss\"] for log in history if \"loss\" in log]\n",
    "eval_loss = [log[\"eval_loss\"] for log in history if \"eval_loss\" in log]\n",
    "\n",
    "epochs = range(1, len(train_loss) + 1)\n",
    "\n",
    "plt.figure(figsize=(10, 6))\n",
    "plt.plot(epochs, train_loss, label=\"Training Loss\", marker=\"o\")\n",
    "plt.plot(epochs, eval_loss, label=\"Evaluation Loss\", marker=\"o\")\n",
    "plt.title(\"Training and Evaluation Loss Over Epochs\")\n",
    "plt.xlabel(\"Epochs\")\n",
    "plt.ylabel(\"Loss\")\n",
    "plt.legend()\n",
    "plt.grid()\n",
    "plt.show()"
   ]
  },
  {
   "cell_type": "code",
   "execution_count": null,
   "metadata": {},
   "outputs": [],
   "source": []
  }
 ],
 "metadata": {
  "kaggle": {
   "accelerator": "nvidiaTeslaT4",
   "dataSources": [
    {
     "datasetId": 6754082,
     "sourceId": 10871197,
     "sourceType": "datasetVersion"
    }
   ],
   "dockerImageVersionId": 30919,
   "isGpuEnabled": true,
   "isInternetEnabled": true,
   "language": "python",
   "sourceType": "notebook"
  },
  "kernelspec": {
   "display_name": "Python 3 (ipykernel)",
   "language": "python",
   "name": "python3"
  },
  "language_info": {
   "codemirror_mode": {
    "name": "ipython",
    "version": 3
   },
   "file_extension": ".py",
   "mimetype": "text/x-python",
   "name": "python",
   "nbconvert_exporter": "python",
   "pygments_lexer": "ipython3",
   "version": "3.12.4"
  }
 },
 "nbformat": 4,
 "nbformat_minor": 4
}
