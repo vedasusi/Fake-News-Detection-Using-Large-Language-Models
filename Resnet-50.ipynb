{
 "cells": [
  {
   "cell_type": "code",
   "execution_count": 5,
   "id": "8b326380",
   "metadata": {
    "scrolled": true
   },
   "outputs": [
    {
     "name": "stdout",
     "output_type": "stream",
     "text": [
      "Requirement already satisfied: torch in c:\\users\\golla\\anaconda3\\lib\\site-packages (2.6.0)Note: you may need to restart the kernel to use updated packages.\n",
      "\n",
      "Requirement already satisfied: torchvision in c:\\users\\golla\\anaconda3\\lib\\site-packages (0.21.0)\n",
      "Requirement already satisfied: timm in c:\\users\\golla\\anaconda3\\lib\\site-packages (1.0.14)\n",
      "Requirement already satisfied: numpy in c:\\users\\golla\\anaconda3\\lib\\site-packages (1.24.3)\n",
      "Requirement already satisfied: scikit-learn in c:\\users\\golla\\anaconda3\\lib\\site-packages (1.3.0)\n",
      "Requirement already satisfied: pandas in c:\\users\\golla\\anaconda3\\lib\\site-packages (1.5.3)\n",
      "Requirement already satisfied: filelock in c:\\users\\golla\\anaconda3\\lib\\site-packages (from torch) (3.9.0)\n",
      "Requirement already satisfied: typing-extensions>=4.10.0 in c:\\users\\golla\\anaconda3\\lib\\site-packages (from torch) (4.12.2)\n",
      "Requirement already satisfied: networkx in c:\\users\\golla\\anaconda3\\lib\\site-packages (from torch) (3.1)\n",
      "Requirement already satisfied: jinja2 in c:\\users\\golla\\anaconda3\\lib\\site-packages (from torch) (3.1.2)\n",
      "Requirement already satisfied: fsspec in c:\\users\\golla\\anaconda3\\lib\\site-packages (from torch) (2023.5.0)\n",
      "Requirement already satisfied: sympy==1.13.1 in c:\\users\\golla\\anaconda3\\lib\\site-packages (from torch) (1.13.1)\n",
      "Requirement already satisfied: mpmath<1.4,>=1.1.0 in c:\\users\\golla\\anaconda3\\lib\\site-packages (from sympy==1.13.1->torch) (1.3.0)\n",
      "Requirement already satisfied: pillow!=8.3.*,>=5.3.0 in c:\\users\\golla\\anaconda3\\lib\\site-packages (from torchvision) (9.4.0)\n",
      "Requirement already satisfied: pyyaml in c:\\users\\golla\\anaconda3\\lib\\site-packages (from timm) (6.0)\n",
      "Requirement already satisfied: huggingface_hub in c:\\users\\golla\\anaconda3\\lib\\site-packages (from timm) (0.28.1)\n",
      "Requirement already satisfied: safetensors in c:\\users\\golla\\anaconda3\\lib\\site-packages (from timm) (0.4.5)\n",
      "Requirement already satisfied: scipy>=1.5.0 in c:\\users\\golla\\anaconda3\\lib\\site-packages (from scikit-learn) (1.10.1)\n",
      "Requirement already satisfied: joblib>=1.1.1 in c:\\users\\golla\\anaconda3\\lib\\site-packages (from scikit-learn) (1.2.0)\n",
      "Requirement already satisfied: threadpoolctl>=2.0.0 in c:\\users\\golla\\anaconda3\\lib\\site-packages (from scikit-learn) (2.2.0)\n",
      "Requirement already satisfied: python-dateutil>=2.8.1 in c:\\users\\golla\\anaconda3\\lib\\site-packages (from pandas) (2.8.2)\n",
      "Requirement already satisfied: pytz>=2020.1 in c:\\users\\golla\\anaconda3\\lib\\site-packages (from pandas) (2022.7)\n",
      "Requirement already satisfied: six>=1.5 in c:\\users\\golla\\anaconda3\\lib\\site-packages (from python-dateutil>=2.8.1->pandas) (1.16.0)\n",
      "Requirement already satisfied: packaging>=20.9 in c:\\users\\golla\\anaconda3\\lib\\site-packages (from huggingface_hub->timm) (23.0)\n",
      "Requirement already satisfied: requests in c:\\users\\golla\\anaconda3\\lib\\site-packages (from huggingface_hub->timm) (2.32.3)\n",
      "Requirement already satisfied: tqdm>=4.42.1 in c:\\users\\golla\\anaconda3\\lib\\site-packages (from huggingface_hub->timm) (4.67.1)\n",
      "Requirement already satisfied: MarkupSafe>=2.0 in c:\\users\\golla\\anaconda3\\lib\\site-packages (from jinja2->torch) (2.1.1)\n",
      "Requirement already satisfied: colorama in c:\\users\\golla\\anaconda3\\lib\\site-packages (from tqdm>=4.42.1->huggingface_hub->timm) (0.4.6)\n",
      "Requirement already satisfied: charset-normalizer<4,>=2 in c:\\users\\golla\\anaconda3\\lib\\site-packages (from requests->huggingface_hub->timm) (2.0.4)\n",
      "Requirement already satisfied: idna<4,>=2.5 in c:\\users\\golla\\anaconda3\\lib\\site-packages (from requests->huggingface_hub->timm) (2.10)\n",
      "Requirement already satisfied: urllib3<3,>=1.21.1 in c:\\users\\golla\\anaconda3\\lib\\site-packages (from requests->huggingface_hub->timm) (1.26.16)\n",
      "Requirement already satisfied: certifi>=2017.4.17 in c:\\users\\golla\\anaconda3\\lib\\site-packages (from requests->huggingface_hub->timm) (2024.8.30)\n"
     ]
    }
   ],
   "source": [
    "pip install torch torchvision timm numpy scikit-learn pandas\n"
   ]
  },
  {
   "cell_type": "code",
   "execution_count": 6,
   "id": "82210403",
   "metadata": {},
   "outputs": [],
   "source": [
    "import torch\n",
    "import torchvision.models as models\n",
    "import torchvision.transforms as transforms\n",
    "import torch.nn as nn\n",
    "import torch.optim as optim\n",
    "from torch.utils.data import DataLoader\n",
    "from torchvision.datasets import ImageFolder  # ✅ Correct Import\n",
    "\n"
   ]
  },
  {
   "cell_type": "code",
   "execution_count": 7,
   "id": "6b0bf5a0",
   "metadata": {},
   "outputs": [],
   "source": [
    "# 1. Load ResNet50 Model\n",
    "model = models.resnet50(pretrained=True)\n",
    "num_ftrs = model.fc.in_features\n",
    "model.fc = nn.Sequential(\n",
    "    nn.Linear(num_ftrs, 256),\n",
    "    nn.ReLU(),\n",
    "    nn.Dropout(0.4),\n",
    "    nn.Linear(256, 1),\n",
    "    nn.Sigmoid()\n",
    ")\n",
    "\n"
   ]
  },
  {
   "cell_type": "code",
   "execution_count": 8,
   "id": "21e732cd",
   "metadata": {},
   "outputs": [],
   "source": [
    "# 2. Prepare Dataset\n",
    "train_transform = transforms.Compose([\n",
    "    transforms.Resize((224, 224)),\n",
    "    transforms.RandomHorizontalFlip(),\n",
    "    transforms.RandomRotation(10),\n",
    "    transforms.ColorJitter(brightness=0.2, contrast=0.2, saturation=0.2),\n",
    "    transforms.ToTensor(),\n",
    "    transforms.Normalize([0.485, 0.456, 0.406], [0.229, 0.224, 0.225])\n",
    "])\n",
    "\n",
    "train_data = ImageFolder(r\"C:\\Users\\golla\\Desktop\\BTECH\\8THSEM\\train\", transform=train_transform)\n",
    "valid_data = ImageFolder(r\"C:\\Users\\golla\\Desktop\\BTECH\\8THSEM\\valid\", transform=train_transform)\n",
    "\n",
    "train_loader = DataLoader(train_data, batch_size=32, shuffle=True)\n",
    "valid_loader = DataLoader(valid_data, batch_size=32, shuffle=False)\n",
    "\n"
   ]
  },
  {
   "cell_type": "code",
   "execution_count": 9,
   "id": "250a25f3",
   "metadata": {},
   "outputs": [],
   "source": [
    "# 3. Training Setup\n",
    "criterion = nn.BCELoss()  # Binary Cross-Entropy loss for Sigmoid\n",
    "optimizer = optim.Adam(model.parameters(), lr=0.0001)\n",
    "\n"
   ]
  },
  {
   "cell_type": "code",
   "execution_count": 10,
   "id": "fcdc016f",
   "metadata": {},
   "outputs": [
    {
     "name": "stdout",
     "output_type": "stream",
     "text": [
      "Epoch 1/10, Loss: 0.273952616329648\n",
      "Epoch 2/10, Loss: 0.054618826438264365\n",
      "Epoch 3/10, Loss: 0.08078721645002238\n",
      "Epoch 4/10, Loss: 0.06593798500028226\n",
      "Epoch 5/10, Loss: 0.07389356798018541\n",
      "Epoch 6/10, Loss: 0.08060025019375117\n",
      "Epoch 7/10, Loss: 0.09317628139417553\n",
      "Epoch 8/10, Loss: 0.06727614996979307\n",
      "Epoch 9/10, Loss: 0.05363817635939963\n",
      "Epoch 10/10, Loss: 0.07238251991619013\n"
     ]
    }
   ],
   "source": [
    "# 4. Train Model\n",
    "num_epochs = 10  # Increase this for better accuracy\n",
    "device = torch.device(\"cuda\" if torch.cuda.is_available() else \"cpu\")\n",
    "model.to(device)\n",
    "\n",
    "for epoch in range(num_epochs):\n",
    "    model.train()\n",
    "    running_loss = 0.0\n",
    "    for images, labels in train_loader:\n",
    "        images, labels = images.to(device), labels.to(device).float().view(-1, 1)\n",
    "\n",
    "        optimizer.zero_grad()\n",
    "        outputs = model(images)\n",
    "        loss = criterion(outputs, labels)\n",
    "        loss.backward()\n",
    "        optimizer.step()\n",
    "\n",
    "        running_loss += loss.item()\n",
    "\n",
    "    print(f\"Epoch {epoch+1}/{num_epochs}, Loss: {running_loss/len(train_loader)}\")\n"
   ]
  },
  {
   "cell_type": "code",
   "execution_count": 11,
   "id": "31c21465",
   "metadata": {},
   "outputs": [
    {
     "name": "stdout",
     "output_type": "stream",
     "text": [
      "✅ Model trained and saved as 'fake_news_model_resnet50.pth'\n"
     ]
    }
   ],
   "source": [
    "# 5. Save Trained Model\n",
    "\n",
    "torch.save(model.state_dict(), \"fake_news_model_resnet50.pth\")\n",
    "print(\"✅ Model trained and saved as 'fake_news_model_resnet50.pth'\")\n"
   ]
  },
  {
   "cell_type": "code",
   "execution_count": 25,
   "id": "2a817f0d",
   "metadata": {},
   "outputs": [
    {
     "name": "stdout",
     "output_type": "stream",
     "text": [
      "Prediction: Real News\n"
     ]
    }
   ],
   "source": [
    "def predict_image(image_path, threshold=0.4):  # Adjust threshold\n",
    "    model.eval()\n",
    "    transform = transforms.Compose([\n",
    "        transforms.Resize((224, 224)),\n",
    "        transforms.ToTensor(),\n",
    "        transforms.Normalize([0.485, 0.456, 0.406], [0.229, 0.224, 0.225])\n",
    "    ])\n",
    "\n",
    "    image = Image.open(image_path).convert(\"RGB\")\n",
    "    image = transform(image).unsqueeze(0).to(device)\n",
    "\n",
    "    with torch.no_grad():\n",
    "        output = model(image)\n",
    "\n",
    "    probability = output.item()  # Sigmoid probability\n",
    "\n",
    "    label = \"Real News\" if probability >= threshold else \"Fake News\"\n",
    "    print(f\"Prediction: {label}\")\n",
    "\n",
    "# Test with different thresholds\n",
    "predict_image(r\"C:\\Users\\golla\\Desktop\\real.jpg\", threshold=0.4)  \n"
   ]
  },
  {
   "cell_type": "code",
   "execution_count": 1,
   "id": "5bea86df-1b07-44f4-9bc9-d58f74043c30",
   "metadata": {},
   "outputs": [
    {
     "name": "stdout",
     "output_type": "stream",
     "text": [
      "Prediction: Fake News\n"
     ]
    }
   ],
   "source": [
    "def predict_image(image_path, threshold=0.4):  # Adjust threshold\n",
    "    model.eval()\n",
    "    transform = transforms.Compose([\n",
    "        transforms.Resize((224, 224)),\n",
    "        transforms.ToTensor(),\n",
    "        transforms.Normalize([0.485, 0.456, 0.406], [0.229, 0.224, 0.225])\n",
    "    ])\n",
    "\n",
    "    image = Image.open(image_path).convert(\"RGB\")\n",
    "    image = transform(image).unsqueeze(0).to(device)\n",
    "\n",
    "    with torch.no_grad():\n",
    "        output = model(image)\n",
    "\n",
    "    probability = output.item()  # Sigmoid probability\n",
    "\n",
    "    label = \"Real News\" if probability >= threshold else \"Fake News\"\n",
    "    print(f\"Prediction: {label}\")\n",
    "\n",
    "# Test with different thresholds\n",
    "predict_image(r\"C:\\Users\\golla\\Desktop\\fake.jpg\", threshold=0.4)  \n"
   ]
  },
  {
   "cell_type": "code",
   "execution_count": 17,
   "id": "7ba45ea8",
   "metadata": {},
   "outputs": [
    {
     "name": "stdout",
     "output_type": "stream",
     "text": [
      "Test Accuracy: 92.59%\n"
     ]
    }
   ],
   "source": [
    "\n",
    "# 6. Test Model on Test Data\n",
    "\n",
    "model.eval()\n",
    "test_correct = 0\n",
    "total_samples = 0\n",
    "\n",
    "with torch.no_grad():\n",
    "    for images, labels in test_loader:\n",
    "        images, labels = images.to(DEVICE), labels.to(DEVICE)\n",
    "        outputs = model(images)\n",
    "        test_correct += (outputs.argmax(1) == labels).sum().item()\n",
    "        total_samples += labels.size(0)\n",
    "\n",
    "test_acc = 100 * test_correct / total_samples\n",
    "print(f\"Test Accuracy: {test_acc:.2f}%\")\n"
   ]
  },
  {
   "cell_type": "code",
   "execution_count": null,
   "id": "e7e81f46-7492-4e30-84a2-01fa555b9cc5",
   "metadata": {},
   "outputs": [],
   "source": []
  },
  {
   "cell_type": "code",
   "execution_count": null,
   "id": "08401e8e-537a-4055-a245-f5981c56aaf7",
   "metadata": {},
   "outputs": [],
   "source": []
  },
  {
   "cell_type": "code",
   "execution_count": null,
   "id": "0274714c-2939-4018-bc3e-415575feb83c",
   "metadata": {},
   "outputs": [],
   "source": []
  },
  {
   "cell_type": "code",
   "execution_count": null,
   "id": "0e71f323-a458-4cc2-9b14-965a3bd2cf94",
   "metadata": {},
   "outputs": [],
   "source": []
  },
  {
   "cell_type": "code",
   "execution_count": null,
   "id": "fb9225ae-ea69-4613-8fe8-e8a2b1e80d53",
   "metadata": {},
   "outputs": [],
   "source": []
  },
  {
   "cell_type": "code",
   "execution_count": null,
   "id": "c72aff5f-f202-4edf-8d30-84a21d0da266",
   "metadata": {},
   "outputs": [],
   "source": []
  }
 ],
 "metadata": {
  "kernelspec": {
   "display_name": "Python 3 (ipykernel)",
   "language": "python",
   "name": "python3"
  },
  "language_info": {
   "codemirror_mode": {
    "name": "ipython",
    "version": 3
   },
   "file_extension": ".py",
   "mimetype": "text/x-python",
   "name": "python",
   "nbconvert_exporter": "python",
   "pygments_lexer": "ipython3",
   "version": "3.12.4"
  }
 },
 "nbformat": 4,
 "nbformat_minor": 5
}
