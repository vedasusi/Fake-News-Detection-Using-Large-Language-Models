{
 "cells": [
  {
   "cell_type": "markdown",
   "id": "e204080e-de55-42e8-965d-c4f03579cea8",
   "metadata": {},
   "source": [
    "DistilBERT, a smaller and faster version of BERT, was used in our fake news detection project with the FakeNewsNet dataset for:\n",
    "\n",
    "Text Tokenization:\n",
    "\n",
    "Used DistilBertTokenizerFast to convert raw news text into tokenized inputs (subword tokens, attention masks) for processing.\n",
    "Feature Extraction:\n",
    "\n",
    "Generated dense vector embeddings from news text, capturing contextual meaning efficiently.\n",
    "Classification Task:\n",
    "\n",
    "Fine-tuned DistilBERT on the FakeNewsNet dataset to classify news articles as fake or real based on text features.\n",
    "Efficiency & Speed:\n",
    "\n",
    "DistilBERT retained 97% of BERT's performance but was 60% faster and required 40% fewer parameters, making it well-suited for your model training."
   ]
  },
  {
   "cell_type": "code",
   "execution_count": 1,
   "id": "c5e926c3-1d3b-4584-9926-249c321960ae",
   "metadata": {},
   "outputs": [
    {
     "name": "stdout",
     "output_type": "stream",
     "text": [
      "Merged dataset saved as 'text_dataset.csv'\n"
     ]
    }
   ],
   "source": [
    "import pandas as pd\n",
    "\n",
    "# Load each CSV file\n",
    "gossipcop_real = pd.read_csv(\"gossipcop_real.csv\")\n",
    "gossipcop_fake = pd.read_csv(\"gossipcop_fake.csv\")\n",
    "politifact_real = pd.read_csv(\"politifact_real.csv\")\n",
    "politifact_fake = pd.read_csv(\"politifact_fake.csv\")\n",
    "\n",
    "# Add a new 'label' column to each dataset\n",
    "gossipcop_real[\"label\"] = \"real\"\n",
    "politifact_real[\"label\"] = \"real\"\n",
    "gossipcop_fake[\"label\"] = \"fake\"\n",
    "politifact_fake[\"label\"] = \"fake\"\n",
    "\n",
    "# Combine all datasets into one DataFrame\n",
    "combined_dataset = pd.concat(\n",
    "    [gossipcop_real, gossipcop_fake, politifact_real, politifact_fake],\n",
    "    ignore_index=True\n",
    ")\n",
    "\n",
    "# Optionally, shuffle the combined dataset for better mixing\n",
    "combined_dataset = combined_dataset.sample(frac=1, random_state=42).reset_index(drop=True)\n",
    "\n",
    "# Save the merged dataset to a CSV file\n",
    "combined_dataset.to_csv(\"text_dataset.csv\", index=False)\n",
    "\n",
    "print(\"Merged dataset saved as 'text_dataset.csv'\")\n"
   ]
  },
  {
   "cell_type": "code",
   "execution_count": 3,
   "id": "863c4b74-4193-4526-be26-5882b6758661",
   "metadata": {},
   "outputs": [
    {
     "name": "stdout",
     "output_type": "stream",
     "text": [
      "WARNING:tensorflow:From C:\\Users\\vedas\\anaconda3\\Lib\\site-packages\\tf_keras\\src\\losses.py:2976: The name tf.losses.sparse_softmax_cross_entropy is deprecated. Please use tf.compat.v1.losses.sparse_softmax_cross_entropy instead.\n",
      "\n"
     ]
    }
   ],
   "source": [
    "import pandas as pd\n",
    "from datasets import Dataset\n",
    "from transformers import DistilBertTokenizerFast, DistilBertForSequenceClassification, Trainer, TrainingArguments\n",
    "\n",
    "# Load the merged dataset\n",
    "df = pd.read_csv(\"text_dataset.csv\")"
   ]
  },
  {
   "cell_type": "code",
   "execution_count": 5,
   "id": "4f06db63-ef2c-4233-8274-8a17729861b5",
   "metadata": {},
   "outputs": [],
   "source": [
    "# Map labels: 'real' -> 0, 'fake' -> 1\n",
    "df['label'] = df['label'].map({'real': 0, 'fake': 1})"
   ]
  },
  {
   "cell_type": "code",
   "execution_count": 7,
   "id": "b25926ec-19d6-40c8-b6a5-bd63303dfb41",
   "metadata": {},
   "outputs": [],
   "source": [
    "# Use the 'title' column as the text input\n",
    "df = df[['title', 'label']]"
   ]
  },
  {
   "cell_type": "code",
   "execution_count": 9,
   "id": "d641ff03-6a95-444e-867f-3d2ddb914331",
   "metadata": {},
   "outputs": [],
   "source": [
    "# Create a Hugging Face Dataset from the DataFrame\n",
    "dataset = Dataset.from_pandas(df)"
   ]
  },
  {
   "cell_type": "code",
   "execution_count": 11,
   "id": "b807d4d2-d463-45f1-bda2-d25bb58dbfd7",
   "metadata": {},
   "outputs": [],
   "source": [
    "# Split the dataset into training and testing sets (80/20 split)\n",
    "split_dataset = dataset.train_test_split(test_size=0.2, seed=42)"
   ]
  },
  {
   "cell_type": "code",
   "execution_count": 13,
   "id": "6a3ed34a-332b-4186-aa52-19da0a173f57",
   "metadata": {},
   "outputs": [
    {
     "data": {
      "application/vnd.jupyter.widget-view+json": {
       "model_id": "4fb24481b4494d33a020c0200973a40b",
       "version_major": 2,
       "version_minor": 0
      },
      "text/plain": [
       "tokenizer_config.json:   0%|          | 0.00/48.0 [00:00<?, ?B/s]"
      ]
     },
     "metadata": {},
     "output_type": "display_data"
    },
    {
     "name": "stderr",
     "output_type": "stream",
     "text": [
      "C:\\Users\\vedas\\anaconda3\\Lib\\site-packages\\huggingface_hub\\file_download.py:139: UserWarning: `huggingface_hub` cache-system uses symlinks by default to efficiently store duplicated files but your machine does not support them in C:\\Users\\vedas\\.cache\\huggingface\\hub\\models--distilbert-base-uncased. Caching files will still work but in a degraded version that might require more space on your disk. This warning can be disabled by setting the `HF_HUB_DISABLE_SYMLINKS_WARNING` environment variable. For more details, see https://huggingface.co/docs/huggingface_hub/how-to-cache#limitations.\n",
      "To support symlinks on Windows, you either need to activate Developer Mode or to run Python as an administrator. In order to activate developer mode, see this article: https://docs.microsoft.com/en-us/windows/apps/get-started/enable-your-device-for-development\n",
      "  warnings.warn(message)\n"
     ]
    },
    {
     "data": {
      "application/vnd.jupyter.widget-view+json": {
       "model_id": "282b015e684c47d2a647a5850abf096b",
       "version_major": 2,
       "version_minor": 0
      },
      "text/plain": [
       "vocab.txt:   0%|          | 0.00/232k [00:00<?, ?B/s]"
      ]
     },
     "metadata": {},
     "output_type": "display_data"
    },
    {
     "data": {
      "application/vnd.jupyter.widget-view+json": {
       "model_id": "3d70fe665248490887bd62a157f94dd5",
       "version_major": 2,
       "version_minor": 0
      },
      "text/plain": [
       "tokenizer.json:   0%|          | 0.00/466k [00:00<?, ?B/s]"
      ]
     },
     "metadata": {},
     "output_type": "display_data"
    },
    {
     "data": {
      "application/vnd.jupyter.widget-view+json": {
       "model_id": "de09f53377614b6c8921dacedd6a5e14",
       "version_major": 2,
       "version_minor": 0
      },
      "text/plain": [
       "config.json:   0%|          | 0.00/483 [00:00<?, ?B/s]"
      ]
     },
     "metadata": {},
     "output_type": "display_data"
    }
   ],
   "source": [
    "# Load the tokenizer for DistilBERT\n",
    "tokenizer = DistilBertTokenizerFast.from_pretrained(\"distilbert-base-uncased\")"
   ]
  },
  {
   "cell_type": "code",
   "execution_count": 15,
   "id": "7e1fdd6f-0199-4d87-864c-b8df97eb06e2",
   "metadata": {},
   "outputs": [
    {
     "data": {
      "application/vnd.jupyter.widget-view+json": {
       "model_id": "5c976874ee9844a4bda1a13484641b54",
       "version_major": 2,
       "version_minor": 0
      },
      "text/plain": [
       "Map:   0%|          | 0/18556 [00:00<?, ? examples/s]"
      ]
     },
     "metadata": {},
     "output_type": "display_data"
    },
    {
     "data": {
      "application/vnd.jupyter.widget-view+json": {
       "model_id": "69d8d21b9da1424a87974c3149ce090e",
       "version_major": 2,
       "version_minor": 0
      },
      "text/plain": [
       "Map:   0%|          | 0/4640 [00:00<?, ? examples/s]"
      ]
     },
     "metadata": {},
     "output_type": "display_data"
    }
   ],
   "source": [
    "# Tokenize the dataset using the 'title' field\n",
    "def tokenize_function(examples):\n",
    "    return tokenizer(examples[\"title\"], truncation=True, padding=\"max_length\", max_length=128)\n",
    "\n",
    "tokenized_dataset = split_dataset.map(tokenize_function, batched=True)"
   ]
  },
  {
   "cell_type": "code",
   "execution_count": 17,
   "id": "d9e07ca8-2f87-45db-909c-973860d6e773",
   "metadata": {},
   "outputs": [
    {
     "data": {
      "application/vnd.jupyter.widget-view+json": {
       "model_id": "8b73bb5ac0e2450ab01aa4edcb85b738",
       "version_major": 2,
       "version_minor": 0
      },
      "text/plain": [
       "model.safetensors:   0%|          | 0.00/268M [00:00<?, ?B/s]"
      ]
     },
     "metadata": {},
     "output_type": "display_data"
    },
    {
     "name": "stderr",
     "output_type": "stream",
     "text": [
      "Some weights of DistilBertForSequenceClassification were not initialized from the model checkpoint at distilbert-base-uncased and are newly initialized: ['classifier.bias', 'classifier.weight', 'pre_classifier.bias', 'pre_classifier.weight']\n",
      "You should probably TRAIN this model on a down-stream task to be able to use it for predictions and inference.\n"
     ]
    }
   ],
   "source": [
    "# Load the DistilBERT model for sequence classification (2 labels: real and fake)\n",
    "model = DistilBertForSequenceClassification.from_pretrained(\"distilbert-base-uncased\", num_labels=2)"
   ]
  },
  {
   "cell_type": "code",
   "execution_count": 23,
   "id": "93aeb2d0-856c-4f24-8086-2d755718bfeb",
   "metadata": {},
   "outputs": [],
   "source": [
    "# Set up training arguments\n",
    "training_args = TrainingArguments(\n",
    "    output_dir=\"./results\",\n",
    "    eval_strategy=\"epoch\",\n",
    "    num_train_epochs=3,\n",
    "    per_device_train_batch_size=16,\n",
    "    per_device_eval_batch_size=16,\n",
    "    logging_dir=\"./logs\",\n",
    "    logging_steps=10,\n",
    "    save_total_limit=1,\n",
    ")"
   ]
  },
  {
   "cell_type": "code",
   "execution_count": 25,
   "id": "c2221264-6d0b-4528-bd78-d15450864350",
   "metadata": {},
   "outputs": [],
   "source": [
    "# Create the Trainer instance\n",
    "trainer = Trainer(\n",
    "    model=model,\n",
    "    args=training_args,\n",
    "    train_dataset=tokenized_dataset[\"train\"],\n",
    "    eval_dataset=tokenized_dataset[\"test\"],\n",
    ")"
   ]
  },
  {
   "cell_type": "code",
   "execution_count": 27,
   "id": "5ab7fc8d-7986-4283-b73b-87767047b178",
   "metadata": {},
   "outputs": [
    {
     "data": {
      "text/html": [
       "\n",
       "    <div>\n",
       "      \n",
       "      <progress value='3480' max='3480' style='width:300px; height:20px; vertical-align: middle;'></progress>\n",
       "      [3480/3480 5:54:22, Epoch 3/3]\n",
       "    </div>\n",
       "    <table border=\"1\" class=\"dataframe\">\n",
       "  <thead>\n",
       " <tr style=\"text-align: left;\">\n",
       "      <th>Epoch</th>\n",
       "      <th>Training Loss</th>\n",
       "      <th>Validation Loss</th>\n",
       "    </tr>\n",
       "  </thead>\n",
       "  <tbody>\n",
       "    <tr>\n",
       "      <td>1</td>\n",
       "      <td>0.350500</td>\n",
       "      <td>0.334748</td>\n",
       "    </tr>\n",
       "    <tr>\n",
       "      <td>2</td>\n",
       "      <td>0.144800</td>\n",
       "      <td>0.343741</td>\n",
       "    </tr>\n",
       "    <tr>\n",
       "      <td>3</td>\n",
       "      <td>0.266900</td>\n",
       "      <td>0.473632</td>\n",
       "    </tr>\n",
       "  </tbody>\n",
       "</table><p>"
      ],
      "text/plain": [
       "<IPython.core.display.HTML object>"
      ]
     },
     "metadata": {},
     "output_type": "display_data"
    },
    {
     "data": {
      "text/plain": [
       "TrainOutput(global_step=3480, training_loss=0.27514485072815553, metrics={'train_runtime': 21273.5729, 'train_samples_per_second': 2.617, 'train_steps_per_second': 0.164, 'total_flos': 1843548787095552.0, 'train_loss': 0.27514485072815553, 'epoch': 3.0})"
      ]
     },
     "execution_count": 27,
     "metadata": {},
     "output_type": "execute_result"
    }
   ],
   "source": [
    "# Train the model\n",
    "trainer.train()"
   ]
  },
  {
   "cell_type": "code",
   "execution_count": 29,
   "id": "b238d696-12b2-4ce3-bfe9-5dfb1d4d0f72",
   "metadata": {},
   "outputs": [
    {
     "name": "stdout",
     "output_type": "stream",
     "text": [
      "Training complete. The model and tokenizer are saved in './text_classifier_model'\n"
     ]
    }
   ],
   "source": [
    "# Save the fine-tuned model and tokenizer for later use\n",
    "model.save_pretrained(\"./text_classifier_model\")\n",
    "tokenizer.save_pretrained(\"./text_classifier_model\")\n",
    "\n",
    "print(\"Training complete. The model and tokenizer are saved in './text_classifier_model'\")"
   ]
  },
  {
   "cell_type": "code",
   "execution_count": 31,
   "id": "e4848270-ef01-4d9a-bec4-42556df96a42",
   "metadata": {},
   "outputs": [
    {
     "data": {
      "text/html": [
       "\n",
       "    <div>\n",
       "      \n",
       "      <progress value='290' max='290' style='width:300px; height:20px; vertical-align: middle;'></progress>\n",
       "      [290/290 10:21]\n",
       "    </div>\n",
       "    "
      ],
      "text/plain": [
       "<IPython.core.display.HTML object>"
      ]
     },
     "metadata": {},
     "output_type": "display_data"
    },
    {
     "name": "stdout",
     "output_type": "stream",
     "text": [
      "{'eval_loss': 0.473632276058197, 'eval_accuracy': 0.8668103448275862, 'eval_precision': 0.8635080568086245, 'eval_recall': 0.8668103448275862, 'eval_f1': 0.864629131973045, 'eval_runtime': 624.6948, 'eval_samples_per_second': 7.428, 'eval_steps_per_second': 0.464, 'epoch': 3.0}\n"
     ]
    }
   ],
   "source": [
    "from sklearn.metrics import accuracy_score, precision_recall_fscore_support\n",
    "\n",
    "# Define a function to compute evaluation metrics\n",
    "def compute_metrics(pred):\n",
    "    labels = pred.label_ids\n",
    "    preds = pred.predictions.argmax(-1)\n",
    "    \n",
    "    acc = accuracy_score(labels, preds)\n",
    "    precision, recall, f1, _ = precision_recall_fscore_support(labels, preds, average='weighted')\n",
    "    \n",
    "    return {\"accuracy\": acc, \"precision\": precision, \"recall\": recall, \"f1\": f1}\n",
    "\n",
    "# Add the evaluation function to Trainer\n",
    "trainer.compute_metrics = compute_metrics\n",
    "\n",
    "# Run evaluation\n",
    "eval_results = trainer.evaluate()\n",
    "print(eval_results)"
   ]
  },
  {
   "cell_type": "code",
   "execution_count": 33,
   "id": "879f94ab-e580-4edb-9ff6-08166c8e7517",
   "metadata": {},
   "outputs": [
    {
     "name": "stdout",
     "output_type": "stream",
     "text": [
      "              precision    recall  f1-score   support\n",
      "\n",
      "        real       0.95      0.97      0.96       378\n",
      "        fake       0.91      0.85      0.88       122\n",
      "\n",
      "    accuracy                           0.94       500\n",
      "   macro avg       0.93      0.91      0.92       500\n",
      "weighted avg       0.94      0.94      0.94       500\n",
      "\n"
     ]
    }
   ],
   "source": [
    "import torch\n",
    "import numpy as np\n",
    "from sklearn.metrics import classification_report\n",
    "from transformers import DistilBertTokenizerFast, DistilBertForSequenceClassification\n",
    "\n",
    "# Load the trained model and tokenizer\n",
    "model_path = \"./text_classifier_model\"\n",
    "tokenizer = DistilBertTokenizerFast.from_pretrained(model_path)\n",
    "model = DistilBertForSequenceClassification.from_pretrained(model_path)\n",
    "model.eval()\n",
    "\n",
    "# Load the test dataset\n",
    "import pandas as pd\n",
    "df_test = pd.read_csv(\"text_dataset.csv\").sample(500)  # Sample 500 test cases for evaluation\n",
    "df_test[\"label\"] = df_test[\"label\"].map({\"real\": 0, \"fake\": 1})  # Convert labels to numerical format\n",
    "\n",
    "# Predict on test data\n",
    "y_true = df_test[\"label\"].tolist()\n",
    "y_pred = []\n",
    "\n",
    "for text in df_test[\"title\"]:\n",
    "    inputs = tokenizer(text, return_tensors=\"pt\", truncation=True, padding=True, max_length=128)\n",
    "    with torch.no_grad():\n",
    "        outputs = model(**inputs)\n",
    "    probabilities = torch.nn.functional.softmax(outputs.logits, dim=-1)\n",
    "    prediction = torch.argmax(probabilities, dim=1).item()\n",
    "    y_pred.append(prediction)\n",
    "\n",
    "# Print classification report\n",
    "print(classification_report(y_true, y_pred, target_names=[\"real\", \"fake\"]))\n"
   ]
  },
  {
   "cell_type": "code",
   "execution_count": 34,
   "id": "4d270ebe-b6e4-4981-adbd-8131ef585301",
   "metadata": {},
   "outputs": [
    {
     "name": "stdout",
     "output_type": "stream",
     "text": [
      "Requirement already satisfied: seaborn in c:\\users\\vedas\\anaconda3\\lib\\site-packages (0.13.2)\n",
      "Requirement already satisfied: matplotlib in c:\\users\\vedas\\anaconda3\\lib\\site-packages (3.8.4)\n",
      "Requirement already satisfied: scikit-learn in c:\\users\\vedas\\anaconda3\\lib\\site-packages (1.4.2)\n",
      "Requirement already satisfied: numpy!=1.24.0,>=1.20 in c:\\users\\vedas\\anaconda3\\lib\\site-packages (from seaborn) (1.26.4)\n",
      "Requirement already satisfied: pandas>=1.2 in c:\\users\\vedas\\anaconda3\\lib\\site-packages (from seaborn) (2.2.2)\n",
      "Requirement already satisfied: contourpy>=1.0.1 in c:\\users\\vedas\\anaconda3\\lib\\site-packages (from matplotlib) (1.2.0)\n",
      "Requirement already satisfied: cycler>=0.10 in c:\\users\\vedas\\anaconda3\\lib\\site-packages (from matplotlib) (0.11.0)\n",
      "Requirement already satisfied: fonttools>=4.22.0 in c:\\users\\vedas\\anaconda3\\lib\\site-packages (from matplotlib) (4.51.0)\n",
      "Requirement already satisfied: kiwisolver>=1.3.1 in c:\\users\\vedas\\anaconda3\\lib\\site-packages (from matplotlib) (1.4.4)\n",
      "Requirement already satisfied: packaging>=20.0 in c:\\users\\vedas\\anaconda3\\lib\\site-packages (from matplotlib) (23.2)\n",
      "Requirement already satisfied: pillow>=8 in c:\\users\\vedas\\anaconda3\\lib\\site-packages (from matplotlib) (10.3.0)\n",
      "Requirement already satisfied: pyparsing>=2.3.1 in c:\\users\\vedas\\anaconda3\\lib\\site-packages (from matplotlib) (3.0.9)\n",
      "Requirement already satisfied: python-dateutil>=2.7 in c:\\users\\vedas\\anaconda3\\lib\\site-packages (from matplotlib) (2.9.0.post0)\n",
      "Requirement already satisfied: scipy>=1.6.0 in c:\\users\\vedas\\anaconda3\\lib\\site-packages (from scikit-learn) (1.13.1)\n",
      "Requirement already satisfied: joblib>=1.2.0 in c:\\users\\vedas\\anaconda3\\lib\\site-packages (from scikit-learn) (1.4.2)\n",
      "Requirement already satisfied: threadpoolctl>=2.0.0 in c:\\users\\vedas\\anaconda3\\lib\\site-packages (from scikit-learn) (2.2.0)\n",
      "Requirement already satisfied: pytz>=2020.1 in c:\\users\\vedas\\anaconda3\\lib\\site-packages (from pandas>=1.2->seaborn) (2024.1)\n",
      "Requirement already satisfied: tzdata>=2022.7 in c:\\users\\vedas\\anaconda3\\lib\\site-packages (from pandas>=1.2->seaborn) (2023.3)\n",
      "Requirement already satisfied: six>=1.5 in c:\\users\\vedas\\anaconda3\\lib\\site-packages (from python-dateutil>=2.7->matplotlib) (1.16.0)\n",
      "Note: you may need to restart the kernel to use updated packages.\n"
     ]
    }
   ],
   "source": [
    "pip install seaborn matplotlib scikit-learn"
   ]
  },
  {
   "cell_type": "code",
   "execution_count": 35,
   "id": "9a33e163-b259-4686-9521-f320679d5161",
   "metadata": {},
   "outputs": [
    {
     "name": "stdout",
     "output_type": "stream",
     "text": [
      "              precision    recall  f1-score   support\n",
      "\n",
      "        real       0.95      0.97      0.96       378\n",
      "        fake       0.91      0.85      0.88       122\n",
      "\n",
      "    accuracy                           0.94       500\n",
      "   macro avg       0.93      0.91      0.92       500\n",
      "weighted avg       0.94      0.94      0.94       500\n",
      "\n"
     ]
    },
    {
     "data": {
      "image/png": "[encoded data removed]",
      "text/plain": [
       "<Figure size 600x500 with 2 Axes>"
      ]
     },
     "metadata": {},
     "output_type": "display_data"
    }
   ],
   "source": [
    "import torch\n",
    "import numpy as np\n",
    "import pandas as pd\n",
    "import seaborn as sns\n",
    "import matplotlib.pyplot as plt\n",
    "from sklearn.metrics import classification_report, confusion_matrix\n",
    "from transformers import DistilBertTokenizerFast, DistilBertForSequenceClassification\n",
    "\n",
    "# Load the trained model and tokenizer\n",
    "model_path = \"./text_classifier_model\"\n",
    "tokenizer = DistilBertTokenizerFast.from_pretrained(model_path)\n",
    "model = DistilBertForSequenceClassification.from_pretrained(model_path)\n",
    "model.eval()\n",
    "\n",
    "# Load the test dataset (using 500 samples for visualization)\n",
    "df_test = pd.read_csv(\"text_dataset.csv\").sample(500, random_state=42)\n",
    "df_test[\"label\"] = df_test[\"label\"].map({\"real\": 0, \"fake\": 1})  # Convert labels to numeric\n",
    "\n",
    "# Predict on test data\n",
    "y_true = df_test[\"label\"].tolist()\n",
    "y_pred = []\n",
    "\n",
    "for text in df_test[\"title\"]:\n",
    "    inputs = tokenizer(text, return_tensors=\"pt\", truncation=True, padding=True, max_length=128)\n",
    "    with torch.no_grad():\n",
    "        outputs = model(**inputs)\n",
    "    probabilities = torch.nn.functional.softmax(outputs.logits, dim=-1)\n",
    "    prediction = torch.argmax(probabilities, dim=1).item()\n",
    "    y_pred.append(prediction)\n",
    "\n",
    "# Generate Classification Report\n",
    "print(classification_report(y_true, y_pred, target_names=[\"real\", \"fake\"]))\n",
    "\n",
    "# Generate Confusion Matrix\n",
    "cm = confusion_matrix(y_true, y_pred)\n",
    "\n",
    "# Plot Heatmap\n",
    "plt.figure(figsize=(6,5))\n",
    "sns.heatmap(cm, annot=True, fmt=\"d\", cmap=\"Blues\", xticklabels=[\"real\", \"fake\"], yticklabels=[\"real\", \"fake\"])\n",
    "plt.xlabel(\"Predicted Label\")\n",
    "plt.ylabel(\"True Label\")\n",
    "plt.title(\"Confusion Matrix Heatmap\")\n",
    "plt.show()"
   ]
  },
  {
   "cell_type": "markdown",
   "id": "6c69be58-93cc-4a1c-bd63-0884c387b783",
   "metadata": {},
   "source": [
    "**TESTING**"
   ]
  },
  {
   "cell_type": "code",
   "execution_count": 37,
   "id": "06c8beeb-ec72-4eb4-b15b-d83bdd07993b",
   "metadata": {},
   "outputs": [
    {
     "name": "stdout",
     "output_type": "stream",
     "text": [
      "Prediction: Real (Confidence: 0.92)\n"
     ]
    }
   ],
   "source": [
    "import torch\n",
    "from transformers import DistilBertTokenizerFast, DistilBertForSequenceClassification\n",
    "\n",
    "# Load the trained model and tokenizer\n",
    "model_path = \"./text_classifier_model\"\n",
    "tokenizer = DistilBertTokenizerFast.from_pretrained(model_path)\n",
    "model = DistilBertForSequenceClassification.from_pretrained(model_path)\n",
    "model.eval()  # Set model to evaluation mode\n",
    "\n",
    "# Function to classify a news headline\n",
    "def classify_news(text):\n",
    "    inputs = tokenizer(text, return_tensors=\"pt\", truncation=True, padding=True, max_length=128)\n",
    "    with torch.no_grad():\n",
    "        outputs = model(**inputs)\n",
    "    probabilities = torch.nn.functional.softmax(outputs.logits, dim=-1)\n",
    "    prediction = torch.argmax(probabilities, dim=1).item()\n",
    "    \n",
    "    label = \"Real\" if prediction == 0 else \"Fake\"\n",
    "    confidence = probabilities[0][prediction].item()\n",
    "    \n",
    "    return label, confidence\n",
    "\n",
    "# Example Usage\n",
    "if __name__ == \"__main__\":\n",
    "    test_text = \"Government announces new policies to tackle inflation.\"\n",
    "    label, confidence = classify_news(test_text)\n",
    "    \n",
    "    print(f\"Prediction: {label} (Confidence: {confidence:.2f})\")\n"
   ]
  },
  {
   "cell_type": "code",
   "execution_count": 47,
   "id": "b3b8e52d-56d0-420a-a2bf-157f39509a43",
   "metadata": {},
   "outputs": [
    {
     "name": "stdout",
     "output_type": "stream",
     "text": [
      "Prediction: Real (Confidence: 0.97)\n"
     ]
    }
   ],
   "source": [
    "test_text = \"For The Love Of God, Why Can't Anyone Write Kate McKinnon A Good Movie Role?\"\n",
    "label, confidence = classify_news(test_text)\n",
    "    \n",
    "print(f\"Prediction: {label} (Confidence: {confidence:.2f})\")"
   ]
  },
  {
   "cell_type": "code",
   "execution_count": 49,
   "id": "a79a870f-a971-4ae7-8828-4c1d222754a9",
   "metadata": {},
   "outputs": [
    {
     "name": "stdout",
     "output_type": "stream",
     "text": [
      "Prediction: Fake (Confidence: 0.99)\n"
     ]
    }
   ],
   "source": [
    "test_text = \"Breaking: Scientists confirm that drinking coffee cures cancer overnight! Major health organizations are hiding this fact to protect pharmaceutical profits.\"\n",
    "label, confidence = classify_news(test_text)\n",
    "    \n",
    "print(f\"Prediction: {label} (Confidence: {confidence:.2f})\")"
   ]
  },
  {
   "cell_type": "code",
   "execution_count": 51,
   "id": "2285cb75-b6ad-4a4a-8b3d-90249e97e759",
   "metadata": {},
   "outputs": [
    {
     "name": "stdout",
     "output_type": "stream",
     "text": [
      "Prediction: Real (Confidence: 0.93)\n"
     ]
    }
   ],
   "source": [
    "test_text = \"NASA successfully lands rover on Mars, begins exploration mission.\"\n",
    "label, confidence = classify_news(test_text)\n",
    "    \n",
    "print(f\"Prediction: {label} (Confidence: {confidence:.2f})\")"
   ]
  },
  {
   "cell_type": "code",
   "execution_count": 55,
   "id": "3283a90b-2af2-486a-9479-a7ccf17ceb28",
   "metadata": {},
   "outputs": [
    {
     "name": "stdout",
     "output_type": "stream",
     "text": [
      "Prediction: Fake (Confidence: 0.99)\n"
     ]
    }
   ],
   "source": [
    "test_text = \"Government secretly plans to ban the Internet nationwide next month!\"\n",
    "label, confidence = classify_news(test_text)\n",
    "    \n",
    "print(f\"Prediction: {label} (Confidence: {confidence:.2f})\")"
   ]
  },
  {
   "cell_type": "code",
   "execution_count": 71,
   "id": "dcd5447e-16db-41f9-83f6-58e89d4457b5",
   "metadata": {},
   "outputs": [],
   "source": [
    "real_news_samples = [\n",
    "    \"NASA successfully lands rover on Mars, begins exploration mission.\",\n",
    "    \"World Health Organization reports decrease in global COVID-19 cases.\",\n",
    "    \"New climate policies aim to reduce carbon emissions by 40% by 2030.\",\n",
    "    \"Economists predict steady GDP growth for the upcoming quarter.\",\n",
    "    \"Scientists develop a new vaccine for malaria with 90% efficacy.\",\n",
    "]"
   ]
  },
  {
   "cell_type": "code",
   "execution_count": 73,
   "id": "afe6296d-4547-4652-b615-a2c141abc17f",
   "metadata": {},
   "outputs": [],
   "source": [
    "fake_news_samples = [\n",
    "    \"Government secretly plans to ban the Internet nationwide next month!\",\n",
    "    \"Aliens have officially landed on Earth, but the media is hiding the truth!\",\n",
    "    \"Bill Gates implants microchips in vaccines to control the population.\",\n",
    "    \"New study proves the Earth is flat, NASA exposed for covering it up!\"\n",
    "]"
   ]
  },
  {
   "cell_type": "code",
   "execution_count": 75,
   "id": "ce676706-ff0d-4c10-a6d7-7f04f53f517a",
   "metadata": {},
   "outputs": [
    {
     "name": "stdout",
     "output_type": "stream",
     "text": [
      "Text: NASA successfully lands rover on Mars, begins exploration mission.\n",
      "Prediction: Real (Confidence: 0.93)\n",
      "\n",
      "Text: World Health Organization reports decrease in global COVID-19 cases.\n",
      "Prediction: Real (Confidence: 0.82)\n",
      "\n",
      "Text: New climate policies aim to reduce carbon emissions by 40% by 2030.\n",
      "Prediction: Real (Confidence: 0.96)\n",
      "\n",
      "Text: Economists predict steady GDP growth for the upcoming quarter.\n",
      "Prediction: Real (Confidence: 0.98)\n",
      "\n",
      "Text: Scientists develop a new vaccine for malaria with 90% efficacy.\n",
      "Prediction: Real (Confidence: 0.77)\n",
      "\n",
      "Text: Government secretly plans to ban the Internet nationwide next month!\n",
      "Prediction: Fake (Confidence: 0.99)\n",
      "\n",
      "Text: Aliens have officially landed on Earth, but the media is hiding the truth!\n",
      "Prediction: Fake (Confidence: 0.99)\n",
      "\n",
      "Text: Bill Gates implants microchips in vaccines to control the population.\n",
      "Prediction: Fake (Confidence: 0.89)\n",
      "\n",
      "Text: New study proves the Earth is flat, NASA exposed for covering it up!\n",
      "Prediction: Fake (Confidence: 0.99)\n",
      "\n"
     ]
    }
   ],
   "source": [
    "for text in real_news_samples + fake_news_samples:\n",
    "    label, confidence = classify_news(text)\n",
    "    print(f\"Text: {text}\\nPrediction: {label} (Confidence: {confidence:.2f})\\n\")"
   ]
  },
  {
   "cell_type": "code",
   "execution_count": 77,
   "id": "993ccb84-f6b9-4960-a8ca-2a24f89f7a7a",
   "metadata": {},
   "outputs": [
    {
     "name": "stdout",
     "output_type": "stream",
     "text": [
      "Text: NASA successfully lands rover on Mars, begins exploration mission.\n",
      "Prediction: Real (Confidence: 0.93)\n",
      "\n",
      "Text: Aliens have officially landed on Earth, but the media is hiding the truth!\n",
      "Prediction: Fake (Confidence: 0.99)\n",
      "\n",
      "Text: World Health Organization reports a decrease in global COVID-19 cases.\n",
      "Prediction: Real (Confidence: 0.97)\n",
      "\n",
      "Text: Chocolate cures cancer instantly, scientists confirm!\n",
      "Prediction: Real (Confidence: 0.97)\n",
      "\n"
     ]
    }
   ],
   "source": [
    "import torch\n",
    "from transformers import DistilBertTokenizerFast, DistilBertForSequenceClassification\n",
    "\n",
    "# Load the trained DistilBERT model\n",
    "model_path = \"./text_classifier_model\"  # Update with the correct path\n",
    "tokenizer = DistilBertTokenizerFast.from_pretrained(model_path)\n",
    "model = DistilBertForSequenceClassification.from_pretrained(model_path)\n",
    "model.eval()  # Set model to evaluation mode\n",
    "\n",
    "# Function to classify news using DistilBERT\n",
    "def classify_news_distilbert(text):\n",
    "    inputs = tokenizer(text, return_tensors=\"pt\", truncation=True, padding=True, max_length=128)\n",
    "    with torch.no_grad():\n",
    "        outputs = model(**inputs)\n",
    "    \n",
    "    probabilities = torch.nn.functional.softmax(outputs.logits, dim=-1)\n",
    "    prediction = torch.argmax(probabilities, dim=1).item()\n",
    "    \n",
    "    label = \"Real\" if prediction == 0 else \"Fake\"\n",
    "    confidence = probabilities[0][prediction].item()\n",
    "    \n",
    "    return label, confidence\n",
    "\n",
    "# Test Cases\n",
    "test_texts = [\n",
    "    \"NASA successfully lands rover on Mars, begins exploration mission.\",\n",
    "    \"Aliens have officially landed on Earth, but the media is hiding the truth!\",\n",
    "    \"World Health Organization reports a decrease in global COVID-19 cases.\",\n",
    "    \"Chocolate cures cancer instantly, scientists confirm!\"\n",
    "]\n",
    "\n",
    "# Run predictions\n",
    "for text in test_texts:\n",
    "    label, confidence = classify_news_distilbert(text)\n",
    "    print(f\"Text: {text}\\nPrediction: {label} (Confidence: {confidence:.2f})\\n\")"
   ]
  },
  {
   "cell_type": "markdown",
   "id": "170f3d55-57e2-498f-99d0-63913586897c",
   "metadata": {},
   "source": [
    "How is Confidence Measured in Your Fake News Classifier?\n",
    "In your text classification model (based on DistilBERT), confidence is calculated using the softmax function. This function converts the model’s raw output scores (logits) into probabilities between 0 and 1, representing the model’s confidence for each class (real or fake).\n",
    "\n",
    "1️⃣ Steps in Confidence Calculation\n",
    "1️⃣ Model Output (Logits):\n",
    "\n",
    "The model outputs two raw values (logits) before applying softmax.\n",
    "Example logits: [2.5, -1.2] (one value for each class).\n",
    "2️⃣ Apply Softmax to Get Probabilities:\n",
    "\n",
    "Convert logits into probabilities using the softmax function:\n",
    "P(real) = exp(2.5) / (exp(2.5) + exp(-1.2))\n",
    "P(fake) = exp(-1.2) / (exp(2.5) + exp(-1.2))\n",
    "Example probabilities: [0.92, 0.08] → 92% confidence for real.\n",
    "3️⃣ Prediction & Confidence:\n",
    "\n",
    "The class with the highest probability is the final prediction.\n",
    "The probability of the predicted class is its confidence score."
   ]
  },
  {
   "cell_type": "markdown",
   "id": "8c363378-d755-4bd2-a26a-00b3f8c76e80",
   "metadata": {},
   "source": [
    "**Images**"
   ]
  },
  {
   "cell_type": "code",
   "execution_count": 2,
   "id": "2fe548e5-56fa-453e-b976-c051f01d5f32",
   "metadata": {},
   "outputs": [],
   "source": [
    "import torch\n",
    "import torch.nn as nn\n",
    "import torchvision.models as models\n",
    "import torchvision.transforms as transforms\n",
    "from transformers import DistilBertModel, DistilBertTokenizerFast\n",
    "from PIL import Image\n",
    "import os"
   ]
  },
  {
   "cell_type": "code",
   "execution_count": 3,
   "id": "0be43397-c2bb-47f8-a187-086364253491",
   "metadata": {},
   "outputs": [],
   "source": [
    "# Load DistilBERT tokenizer and model\n",
    "tokenizer = DistilBertTokenizerFast.from_pretrained(\"distilbert-base-uncased\")\n",
    "distilbert = DistilBertModel.from_pretrained(\"distilbert-base-uncased\")"
   ]
  },
  {
   "cell_type": "code",
   "execution_count": 6,
   "id": "05e9217e-d23d-4af3-b007-757b7eef7c8a",
   "metadata": {},
   "outputs": [],
   "source": [
    "# Image transformation (Resizing + Normalization for ResNet)\n",
    "image_transforms = transforms.Compose([\n",
    "    transforms.Resize((224, 224)),\n",
    "    transforms.ToTensor(),\n",
    "    transforms.Normalize([0.485, 0.456, 0.406], [0.229, 0.224, 0.225])\n",
    "])"
   ]
  },
  {
   "cell_type": "code",
   "execution_count": 8,
   "id": "518a7880-6af0-4d1a-b79c-48d32cba9bb7",
   "metadata": {},
   "outputs": [],
   "source": [
    "# Load pre-trained ResNet-50 (without classification head)\n",
    "from torchvision.models import resnet50, ResNet50_Weights\n",
    "\n",
    "# Load pre-trained ResNet-50 using new syntax\n",
    "resnet = resnet50(weights=ResNet50_Weights.IMAGENET1K_V1)\n",
    "resnet = nn.Sequential(*list(resnet.children())[:-1])  # Remove last classification layer\n",
    "\n",
    "class MultiModalClassifier(nn.Module):\n",
    "    def __init__(self):\n",
    "        super(MultiModalClassifier, self).__init__()\n",
    "        self.text_encoder = distilbert\n",
    "        self.image_encoder = resnet\n",
    "        self.fc = nn.Linear(768 + 2048, 2)  # Combining BERT (768) + ResNet (2048)\n",
    "    \n",
    "    def forward(self, text_input, attention_mask, image_input):\n",
    "        # Text Feature Extraction\n",
    "        text_features = self.text_encoder(input_ids=text_input, attention_mask=attention_mask).last_hidden_state[:, 0, :]\n",
    "        \n",
    "        # Image Feature Extraction\n",
    "        image_features = self.image_encoder(image_input).view(image_input.size(0), -1)\n",
    "        \n",
    "        # Concatenate text + image features\n",
    "        fused_features = torch.cat((text_features, image_features), dim=1)\n",
    "        \n",
    "        # Final classification\n",
    "        output = self.fc(fused_features)\n",
    "        return output"
   ]
  },
  {
   "cell_type": "code",
   "execution_count": 10,
   "id": "e54a3ecc-acf5-485d-8d3e-3bbc38cf1f8d",
   "metadata": {},
   "outputs": [],
   "source": [
    "# Load model\n",
    "model = MultiModalClassifier()"
   ]
  },
  {
   "cell_type": "code",
   "execution_count": 12,
   "id": "04ff984a-1717-4545-ae3c-0293d64ce586",
   "metadata": {},
   "outputs": [],
   "source": [
    "# Example: Load and preprocess text + image\n",
    "def process_text(text):\n",
    "    encoding = tokenizer(text, padding=\"max_length\", truncation=True, max_length=128, return_tensors=\"pt\")\n",
    "    return encoding[\"input_ids\"], encoding[\"attention_mask\"]\n",
    "\n",
    "def process_image(image_path):\n",
    "    image = Image.open(image_path).convert(\"RGB\")\n",
    "    return image_transforms(image).unsqueeze(0)"
   ]
  },
  {
   "cell_type": "code",
   "execution_count": 14,
   "id": "0c01a70b-d108-40d9-b125-0ca70614d9b6",
   "metadata": {},
   "outputs": [],
   "source": [
    "import os\n",
    "from PIL import Image\n",
    "import torch\n",
    "\n",
    "# Define your base folder\n",
    "BASE_FOLDER = r\"C:\\Users\\vedas\\Downloads\\Fake News Image Classifier.v7i.folder\"\n",
    "\n",
    "def process_text(text):\n",
    "    encoding = tokenizer(text, padding=\"max_length\", truncation=True, max_length=128, return_tensors=\"pt\")\n",
    "    return encoding[\"input_ids\"], encoding[\"attention_mask\"]\n",
    "\n",
    "def process_image(image_path):\n",
    "    # Join base folder with image path\n",
    "    full_image_path = os.path.join(BASE_FOLDER, image_path)\n",
    "    image = Image.open(full_image_path).convert(\"RGB\")\n",
    "    return image_transforms(image).unsqueeze(0)"
   ]
  },
  {
   "cell_type": "code",
   "execution_count": 16,
   "id": "f4246c35-8c89-4922-b358-d0dd80421089",
   "metadata": {},
   "outputs": [
    {
     "name": "stdout",
     "output_type": "stream",
     "text": [
      "torch.Size([1, 128]) torch.Size([1, 128]) torch.Size([1, 3, 224, 224])\n"
     ]
    }
   ],
   "source": [
    "# Example Usage\n",
    "text_input, attention_mask = process_text(\"This is a fake news example.\")\n",
    "image_tensor = process_image(r\"train/fake/46345024_1200610680114496_8596215285885698048_n_jpg.rf.044f689955b99f933911aa646089a4bb.jpg\")\n",
    "\n",
    "print(text_input.shape, attention_mask.shape, image_tensor.shape)"
   ]
  },
  {
   "cell_type": "code",
   "execution_count": 18,
   "id": "300e9edb-4ed5-4831-8ce6-31a678c25f3b",
   "metadata": {},
   "outputs": [
    {
     "name": "stdout",
     "output_type": "stream",
     "text": [
      "Predicted Class: Real\n"
     ]
    }
   ],
   "source": [
    "# Example input\n",
    "text = \"Breaking news: Major cyber attack exposes millions of records.\"\n",
    "image_path = \"train/fake/46345024_1200610680114496_8596215285885698048_n_jpg.rf.044f689955b99f933911aa646089a4bb.jpg\"  # Change this to your actual image path\n",
    "\n",
    "text_input, attention_mask = process_text(text)\n",
    "image_input = process_image(image_path)\n",
    "\n",
    "# Model prediction\n",
    "model.eval()\n",
    "with torch.no_grad():\n",
    "    output = model(text_input, attention_mask, image_input)\n",
    "    prediction = torch.argmax(output, dim=1)\n",
    "    print(\"Predicted Class:\", \"Fake\" if prediction.item() == 0 else \"Real\")"
   ]
  },
  {
   "cell_type": "code",
   "execution_count": 20,
   "id": "2f1e43fc-5677-49b2-b6f6-103fefe67b94",
   "metadata": {},
   "outputs": [
    {
     "name": "stdout",
     "output_type": "stream",
     "text": [
      "Predicted Class: Real\n"
     ]
    }
   ],
   "source": [
    "# Example input\n",
    "text = \"Government announces new policies to improve cybersecurity.\"\n",
    "image_path = \"train/real/290000748_10161560950821756_4329718605846500942_n_png.rf.862c603941276263a4e56e9e7c03dd3e.jpg\"  # Replace with actual image path\n",
    "\n",
    "# Preprocess input\n",
    "text_input, attention_mask = process_text(text)\n",
    "image_input = process_image(image_path)\n",
    "\n",
    "# Model prediction\n",
    "model.eval()\n",
    "with torch.no_grad():\n",
    "    output = model(text_input, attention_mask, image_input)\n",
    "    prediction = torch.argmax(output, dim=1)\n",
    "    print(\"Predicted Class:\", \"Fake\" if prediction.item() == 0 else \"Real\")\n"
   ]
  },
  {
   "cell_type": "code",
   "execution_count": 28,
   "id": "b602e6ec-16a7-4139-969b-566b1af82cae",
   "metadata": {},
   "outputs": [
    {
     "name": "stdout",
     "output_type": "stream",
     "text": [
      "✅ Base directory found: C:\\Users\\vedas\\Downloads\\Fake News Image Classifier.v7i.folder\\test\n",
      "📂 Subdirectories: ['fake', 'real']\n"
     ]
    }
   ],
   "source": [
    "import os\n",
    "\n",
    "base_dir = r\"C:\\Users\\vedas\\Downloads\\Fake News Image Classifier.v7i.folder\\test\"  # Change to train if needed\n",
    "\n",
    "if os.path.exists(base_dir):\n",
    "    print(f\"✅ Base directory found: {base_dir}\")\n",
    "    print(\"📂 Subdirectories:\", os.listdir(base_dir))  # Check if 'real' and 'fake' exist\n",
    "else:\n",
    "    print(f\"❌ Error: Base directory '{base_dir}' does not exist.\")\n"
   ]
  },
  {
   "cell_type": "code",
   "execution_count": 30,
   "id": "5d4baf46-762c-42bb-b64f-061b103a71b0",
   "metadata": {},
   "outputs": [
    {
     "name": "stdout",
     "output_type": "stream",
     "text": [
      "📂 Checking 'real' directory...\n",
      "['290269670_10161560661591756_4441974433210634991_n_png.rf.25142f031e778a417a9ab21d1d126651.jpg', '317613700_542575967730317_3589927528493738163_n_jpg.rf.d44934c5c13643eaa93e7b1b46de67e8.jpg', '319058337_548062103848370_8552552818861718415_n_jpg.rf.8df908d16e610360f975552b77a0918e.jpg', '320819880_523402116396588_6428844743067984492_n_jpg.rf.357bfb587667f2d3bc60d2c88b4d80f8.jpg', '321416404_503976121714532_7985650480947430629_n_jpg.rf.a7c1920e2389d394456da30d17c03420.jpg']\n",
      "📂 Checking 'fake' directory...\n",
      "['103957013_1698122423696650_5504362117726945206_n_jpg.rf.fa1d1e517fe64c4b5cac611b3b5a7dc7.jpg', '104669472_1698395713669321_5002246110583994663_n_jpg.rf.1a43c4fb90150ef4ae62ca61095eec96.jpg', '14424888_1083427928372551_4701235641640967098_o-260x146_png.rf.28651ab8eb085f8a565b851809b291cb.jpg', '189217620_2975724735972602_3920979210629420503_n_jpg.rf.f81b7bf741fba07dd398c864cf97d9bd.jpg', '192940211_2987031781508564_1938253883048499178_n_jpg.rf.3e88a8584efed53ea7d45a3cf07d340b.jpg']\n"
     ]
    }
   ],
   "source": [
    "import os\n",
    "\n",
    "base_dir = r\"C:\\Users\\vedas\\Downloads\\Fake News Image Classifier.v7i.folder\\test\"\n",
    "\n",
    "real_path = os.path.join(base_dir, \"real\")\n",
    "fake_path = os.path.join(base_dir, \"fake\")\n",
    "\n",
    "print(\"📂 Checking 'real' directory...\")\n",
    "print(os.listdir(real_path)[:5])  # Show first 5 files (if any)\n",
    "\n",
    "print(\"📂 Checking 'fake' directory...\")\n",
    "print(os.listdir(fake_path)[:5])  # Show first 5 files (if any))\n"
   ]
  },
  {
   "cell_type": "code",
   "execution_count": 32,
   "id": "bd883d9e-4455-49d5-ad1c-226d77cc7917",
   "metadata": {},
   "outputs": [],
   "source": [
    "def load_dataset(base_dir):\n",
    "    data = []\n",
    "    labels = []\n",
    "    \n",
    "    categories = {\"real\": 1, \"fake\": 0}\n",
    "    \n",
    "    for category, label in categories.items():\n",
    "        folder_path = os.path.join(base_dir, category)\n",
    "\n",
    "        if not os.path.exists(folder_path):  \n",
    "            print(f\"⚠️ Warning: Folder '{folder_path}' not found. Skipping...\")\n",
    "            continue  # Skip missing folders\n",
    "        \n",
    "        files = os.listdir(folder_path)\n",
    "        if not files:\n",
    "            print(f\"⚠️ Warning: Folder '{folder_path}' is empty. Skipping...\")\n",
    "            continue  # Skip empty folders\n",
    "        \n",
    "        for file_name in files:\n",
    "            file_path = os.path.join(folder_path, file_name)\n",
    "\n",
    "            # Process text and image (Modify as needed)\n",
    "            text_input, attention_mask = process_text(file_name)\n",
    "            image_input = process_image(file_path)\n",
    "\n",
    "            data.append((text_input, attention_mask, image_input))\n",
    "            labels.append(label)\n",
    "\n",
    "    if not data:\n",
    "        raise ValueError(\"❌ No data found! Check dataset path or folder contents.\")\n",
    "\n",
    "    return data, torch.tensor(labels)\n",
    "\n",
    "# Load dataset\n",
    "X_test, y_test = load_dataset(base_dir)\n"
   ]
  },
  {
   "cell_type": "code",
   "execution_count": 36,
   "id": "64b83624-bdf6-4b6a-8e81-bd7618704292",
   "metadata": {},
   "outputs": [],
   "source": [
    "import os\n",
    "import torch\n",
    "from torchvision import transforms\n",
    "from PIL import Image\n",
    "from torch.utils.data import TensorDataset, DataLoader  # ✅ Import TensorDataset\n",
    "\n",
    "# Define paths\n",
    "base_dir = r\"C:\\Users\\vedas\\Downloads\\Fake News Image Classifier.v7i.folder\\test\"\n",
    "categories = {\"real\": 1, \"fake\": 0}  # Assign labels\n",
    "\n",
    "# Load dataset\n",
    "def load_dataset(base_dir):\n",
    "    data = []\n",
    "    labels = []\n",
    "    \n",
    "    for category, label in categories.items():\n",
    "        folder_path = os.path.join(base_dir, category)\n",
    "        if not os.path.exists(folder_path):\n",
    "            print(f\"Error: Folder '{folder_path}' not found.\")\n",
    "            continue  # Skip missing folders\n",
    "\n",
    "        for file_name in os.listdir(folder_path):\n",
    "            file_path = os.path.join(folder_path, file_name)\n",
    "            \n",
    "            # Process text and image\n",
    "            text_input, attention_mask = process_text(file_name)  # Modify if needed\n",
    "            image_input = process_image(file_path)\n",
    "\n",
    "            data.append((text_input, attention_mask, image_input))\n",
    "            labels.append(label)\n",
    "    \n",
    "    return data, torch.tensor(labels)\n",
    "\n",
    "# Load training/test dataset\n",
    "X_test, y_test = load_dataset(base_dir)  \n",
    "\n",
    "# Convert dataset into tensors\n",
    "text_inputs, attention_masks, image_inputs = zip(*X_test)\n",
    "\n",
    "# Convert to tensors\n",
    "text_inputs = torch.stack(text_inputs)\n",
    "attention_masks = torch.stack(attention_masks)\n",
    "image_inputs = torch.stack(image_inputs)\n",
    "\n",
    "# ✅ Now TensorDataset will work\n",
    "test_dataset = TensorDataset(text_inputs, attention_masks, image_inputs, y_test)\n",
    "\n",
    "# DataLoader\n",
    "test_loader = DataLoader(test_dataset, batch_size=16, shuffle=False)\n"
   ]
  },
  {
   "cell_type": "code",
   "execution_count": 40,
   "id": "fdf6c383-ca9f-4095-85e8-19f9cad008f0",
   "metadata": {},
   "outputs": [
    {
     "name": "stdout",
     "output_type": "stream",
     "text": [
      "text_inputs shape: torch.Size([16, 1, 128])\n",
      "attention_masks shape: torch.Size([16, 1, 128])\n",
      "image_inputs shape: torch.Size([16, 1, 3, 224, 224])\n",
      "labels shape: torch.Size([16])\n"
     ]
    },
    {
     "ename": "ValueError",
     "evalue": "too many values to unpack (expected 2)",
     "output_type": "error",
     "traceback": [
      "\u001b[1;31m---------------------------------------------------------------------------\u001b[0m",
      "\u001b[1;31mValueError\u001b[0m                                Traceback (most recent call last)",
      "Cell \u001b[1;32mIn[40], line 8\u001b[0m\n\u001b[0;32m      5\u001b[0m \u001b[38;5;28mprint\u001b[39m(\u001b[38;5;124mf\u001b[39m\u001b[38;5;124m\"\u001b[39m\u001b[38;5;124mimage_inputs shape: \u001b[39m\u001b[38;5;132;01m{\u001b[39;00mimage_inputs\u001b[38;5;241m.\u001b[39mshape\u001b[38;5;132;01m}\u001b[39;00m\u001b[38;5;124m\"\u001b[39m)  \u001b[38;5;66;03m# Expected: (batch_size, channels, height, width)\u001b[39;00m\n\u001b[0;32m      6\u001b[0m \u001b[38;5;28mprint\u001b[39m(\u001b[38;5;124mf\u001b[39m\u001b[38;5;124m\"\u001b[39m\u001b[38;5;124mlabels shape: \u001b[39m\u001b[38;5;132;01m{\u001b[39;00mlabels\u001b[38;5;241m.\u001b[39mshape\u001b[38;5;132;01m}\u001b[39;00m\u001b[38;5;124m\"\u001b[39m)  \u001b[38;5;66;03m# Expected: (batch_size,)\u001b[39;00m\n\u001b[1;32m----> 8\u001b[0m outputs \u001b[38;5;241m=\u001b[39m model(text_inputs, attention_masks, image_inputs)\n\u001b[0;32m      9\u001b[0m predictions \u001b[38;5;241m=\u001b[39m torch\u001b[38;5;241m.\u001b[39margmax(outputs, dim\u001b[38;5;241m=\u001b[39m\u001b[38;5;241m1\u001b[39m)\n\u001b[0;32m     10\u001b[0m \u001b[38;5;28;01mbreak\u001b[39;00m\n",
      "File \u001b[1;32m~\\anaconda3\\Lib\\site-packages\\torch\\nn\\modules\\module.py:1736\u001b[0m, in \u001b[0;36mModule._wrapped_call_impl\u001b[1;34m(self, *args, **kwargs)\u001b[0m\n\u001b[0;32m   1734\u001b[0m     \u001b[38;5;28;01mreturn\u001b[39;00m \u001b[38;5;28mself\u001b[39m\u001b[38;5;241m.\u001b[39m_compiled_call_impl(\u001b[38;5;241m*\u001b[39margs, \u001b[38;5;241m*\u001b[39m\u001b[38;5;241m*\u001b[39mkwargs)  \u001b[38;5;66;03m# type: ignore[misc]\u001b[39;00m\n\u001b[0;32m   1735\u001b[0m \u001b[38;5;28;01melse\u001b[39;00m:\n\u001b[1;32m-> 1736\u001b[0m     \u001b[38;5;28;01mreturn\u001b[39;00m \u001b[38;5;28mself\u001b[39m\u001b[38;5;241m.\u001b[39m_call_impl(\u001b[38;5;241m*\u001b[39margs, \u001b[38;5;241m*\u001b[39m\u001b[38;5;241m*\u001b[39mkwargs)\n",
      "File \u001b[1;32m~\\anaconda3\\Lib\\site-packages\\torch\\nn\\modules\\module.py:1747\u001b[0m, in \u001b[0;36mModule._call_impl\u001b[1;34m(self, *args, **kwargs)\u001b[0m\n\u001b[0;32m   1742\u001b[0m \u001b[38;5;66;03m# If we don't have any hooks, we want to skip the rest of the logic in\u001b[39;00m\n\u001b[0;32m   1743\u001b[0m \u001b[38;5;66;03m# this function, and just call forward.\u001b[39;00m\n\u001b[0;32m   1744\u001b[0m \u001b[38;5;28;01mif\u001b[39;00m \u001b[38;5;129;01mnot\u001b[39;00m (\u001b[38;5;28mself\u001b[39m\u001b[38;5;241m.\u001b[39m_backward_hooks \u001b[38;5;129;01mor\u001b[39;00m \u001b[38;5;28mself\u001b[39m\u001b[38;5;241m.\u001b[39m_backward_pre_hooks \u001b[38;5;129;01mor\u001b[39;00m \u001b[38;5;28mself\u001b[39m\u001b[38;5;241m.\u001b[39m_forward_hooks \u001b[38;5;129;01mor\u001b[39;00m \u001b[38;5;28mself\u001b[39m\u001b[38;5;241m.\u001b[39m_forward_pre_hooks\n\u001b[0;32m   1745\u001b[0m         \u001b[38;5;129;01mor\u001b[39;00m _global_backward_pre_hooks \u001b[38;5;129;01mor\u001b[39;00m _global_backward_hooks\n\u001b[0;32m   1746\u001b[0m         \u001b[38;5;129;01mor\u001b[39;00m _global_forward_hooks \u001b[38;5;129;01mor\u001b[39;00m _global_forward_pre_hooks):\n\u001b[1;32m-> 1747\u001b[0m     \u001b[38;5;28;01mreturn\u001b[39;00m forward_call(\u001b[38;5;241m*\u001b[39margs, \u001b[38;5;241m*\u001b[39m\u001b[38;5;241m*\u001b[39mkwargs)\n\u001b[0;32m   1749\u001b[0m result \u001b[38;5;241m=\u001b[39m \u001b[38;5;28;01mNone\u001b[39;00m\n\u001b[0;32m   1750\u001b[0m called_always_called_hooks \u001b[38;5;241m=\u001b[39m \u001b[38;5;28mset\u001b[39m()\n",
      "Cell \u001b[1;32mIn[8], line 17\u001b[0m, in \u001b[0;36mMultiModalClassifier.forward\u001b[1;34m(self, text_input, attention_mask, image_input)\u001b[0m\n\u001b[0;32m     15\u001b[0m \u001b[38;5;28;01mdef\u001b[39;00m \u001b[38;5;21mforward\u001b[39m(\u001b[38;5;28mself\u001b[39m, text_input, attention_mask, image_input):\n\u001b[0;32m     16\u001b[0m     \u001b[38;5;66;03m# Text Feature Extraction\u001b[39;00m\n\u001b[1;32m---> 17\u001b[0m     text_features \u001b[38;5;241m=\u001b[39m \u001b[38;5;28mself\u001b[39m\u001b[38;5;241m.\u001b[39mtext_encoder(input_ids\u001b[38;5;241m=\u001b[39mtext_input, attention_mask\u001b[38;5;241m=\u001b[39mattention_mask)\u001b[38;5;241m.\u001b[39mlast_hidden_state[:, \u001b[38;5;241m0\u001b[39m, :]\n\u001b[0;32m     19\u001b[0m     \u001b[38;5;66;03m# Image Feature Extraction\u001b[39;00m\n\u001b[0;32m     20\u001b[0m     image_features \u001b[38;5;241m=\u001b[39m \u001b[38;5;28mself\u001b[39m\u001b[38;5;241m.\u001b[39mimage_encoder(image_input)\u001b[38;5;241m.\u001b[39mview(image_input\u001b[38;5;241m.\u001b[39msize(\u001b[38;5;241m0\u001b[39m), \u001b[38;5;241m-\u001b[39m\u001b[38;5;241m1\u001b[39m)\n",
      "File \u001b[1;32m~\\anaconda3\\Lib\\site-packages\\torch\\nn\\modules\\module.py:1736\u001b[0m, in \u001b[0;36mModule._wrapped_call_impl\u001b[1;34m(self, *args, **kwargs)\u001b[0m\n\u001b[0;32m   1734\u001b[0m     \u001b[38;5;28;01mreturn\u001b[39;00m \u001b[38;5;28mself\u001b[39m\u001b[38;5;241m.\u001b[39m_compiled_call_impl(\u001b[38;5;241m*\u001b[39margs, \u001b[38;5;241m*\u001b[39m\u001b[38;5;241m*\u001b[39mkwargs)  \u001b[38;5;66;03m# type: ignore[misc]\u001b[39;00m\n\u001b[0;32m   1735\u001b[0m \u001b[38;5;28;01melse\u001b[39;00m:\n\u001b[1;32m-> 1736\u001b[0m     \u001b[38;5;28;01mreturn\u001b[39;00m \u001b[38;5;28mself\u001b[39m\u001b[38;5;241m.\u001b[39m_call_impl(\u001b[38;5;241m*\u001b[39margs, \u001b[38;5;241m*\u001b[39m\u001b[38;5;241m*\u001b[39mkwargs)\n",
      "File \u001b[1;32m~\\anaconda3\\Lib\\site-packages\\torch\\nn\\modules\\module.py:1747\u001b[0m, in \u001b[0;36mModule._call_impl\u001b[1;34m(self, *args, **kwargs)\u001b[0m\n\u001b[0;32m   1742\u001b[0m \u001b[38;5;66;03m# If we don't have any hooks, we want to skip the rest of the logic in\u001b[39;00m\n\u001b[0;32m   1743\u001b[0m \u001b[38;5;66;03m# this function, and just call forward.\u001b[39;00m\n\u001b[0;32m   1744\u001b[0m \u001b[38;5;28;01mif\u001b[39;00m \u001b[38;5;129;01mnot\u001b[39;00m (\u001b[38;5;28mself\u001b[39m\u001b[38;5;241m.\u001b[39m_backward_hooks \u001b[38;5;129;01mor\u001b[39;00m \u001b[38;5;28mself\u001b[39m\u001b[38;5;241m.\u001b[39m_backward_pre_hooks \u001b[38;5;129;01mor\u001b[39;00m \u001b[38;5;28mself\u001b[39m\u001b[38;5;241m.\u001b[39m_forward_hooks \u001b[38;5;129;01mor\u001b[39;00m \u001b[38;5;28mself\u001b[39m\u001b[38;5;241m.\u001b[39m_forward_pre_hooks\n\u001b[0;32m   1745\u001b[0m         \u001b[38;5;129;01mor\u001b[39;00m _global_backward_pre_hooks \u001b[38;5;129;01mor\u001b[39;00m _global_backward_hooks\n\u001b[0;32m   1746\u001b[0m         \u001b[38;5;129;01mor\u001b[39;00m _global_forward_hooks \u001b[38;5;129;01mor\u001b[39;00m _global_forward_pre_hooks):\n\u001b[1;32m-> 1747\u001b[0m     \u001b[38;5;28;01mreturn\u001b[39;00m forward_call(\u001b[38;5;241m*\u001b[39margs, \u001b[38;5;241m*\u001b[39m\u001b[38;5;241m*\u001b[39mkwargs)\n\u001b[0;32m   1749\u001b[0m result \u001b[38;5;241m=\u001b[39m \u001b[38;5;28;01mNone\u001b[39;00m\n\u001b[0;32m   1750\u001b[0m called_always_called_hooks \u001b[38;5;241m=\u001b[39m \u001b[38;5;28mset\u001b[39m()\n",
      "File \u001b[1;32m~\\anaconda3\\Lib\\site-packages\\transformers\\models\\distilbert\\modeling_distilbert.py:793\u001b[0m, in \u001b[0;36mDistilBertModel.forward\u001b[1;34m(self, input_ids, attention_mask, head_mask, inputs_embeds, output_attentions, output_hidden_states, return_dict)\u001b[0m\n\u001b[0;32m    790\u001b[0m         attention_mask \u001b[38;5;241m=\u001b[39m torch\u001b[38;5;241m.\u001b[39mones(input_shape, device\u001b[38;5;241m=\u001b[39mdevice)  \u001b[38;5;66;03m# (bs, seq_length)\u001b[39;00m\n\u001b[0;32m    792\u001b[0m     \u001b[38;5;28;01mif\u001b[39;00m \u001b[38;5;28mself\u001b[39m\u001b[38;5;241m.\u001b[39m_use_sdpa \u001b[38;5;129;01mand\u001b[39;00m head_mask_is_none \u001b[38;5;129;01mand\u001b[39;00m \u001b[38;5;129;01mnot\u001b[39;00m output_attentions:\n\u001b[1;32m--> 793\u001b[0m         attention_mask \u001b[38;5;241m=\u001b[39m _prepare_4d_attention_mask_for_sdpa(\n\u001b[0;32m    794\u001b[0m             attention_mask, embeddings\u001b[38;5;241m.\u001b[39mdtype, tgt_len\u001b[38;5;241m=\u001b[39minput_shape[\u001b[38;5;241m1\u001b[39m]\n\u001b[0;32m    795\u001b[0m         )\n\u001b[0;32m    797\u001b[0m \u001b[38;5;28;01mreturn\u001b[39;00m \u001b[38;5;28mself\u001b[39m\u001b[38;5;241m.\u001b[39mtransformer(\n\u001b[0;32m    798\u001b[0m     x\u001b[38;5;241m=\u001b[39membeddings,\n\u001b[0;32m    799\u001b[0m     attn_mask\u001b[38;5;241m=\u001b[39mattention_mask,\n\u001b[1;32m   (...)\u001b[0m\n\u001b[0;32m    803\u001b[0m     return_dict\u001b[38;5;241m=\u001b[39mreturn_dict,\n\u001b[0;32m    804\u001b[0m )\n",
      "File \u001b[1;32m~\\anaconda3\\Lib\\site-packages\\transformers\\modeling_attn_mask_utils.py:442\u001b[0m, in \u001b[0;36m_prepare_4d_attention_mask_for_sdpa\u001b[1;34m(mask, dtype, tgt_len)\u001b[0m\n\u001b[0;32m    429\u001b[0m \u001b[38;5;28;01mdef\u001b[39;00m \u001b[38;5;21m_prepare_4d_attention_mask_for_sdpa\u001b[39m(mask: torch\u001b[38;5;241m.\u001b[39mTensor, dtype: torch\u001b[38;5;241m.\u001b[39mdtype, tgt_len: Optional[\u001b[38;5;28mint\u001b[39m] \u001b[38;5;241m=\u001b[39m \u001b[38;5;28;01mNone\u001b[39;00m):\n\u001b[0;32m    430\u001b[0m \u001b[38;5;250m    \u001b[39m\u001b[38;5;124;03m\"\"\"\u001b[39;00m\n\u001b[0;32m    431\u001b[0m \u001b[38;5;124;03m    Creates a non-causal 4D mask of shape `(batch_size, 1, query_length, key_value_length)` from a 2D mask of shape\u001b[39;00m\n\u001b[0;32m    432\u001b[0m \u001b[38;5;124;03m    `(batch_size, key_value_length)`\u001b[39;00m\n\u001b[1;32m   (...)\u001b[0m\n\u001b[0;32m    440\u001b[0m \u001b[38;5;124;03m            The target length or query length the created mask shall have.\u001b[39;00m\n\u001b[0;32m    441\u001b[0m \u001b[38;5;124;03m    \"\"\"\u001b[39;00m\n\u001b[1;32m--> 442\u001b[0m     _, key_value_length \u001b[38;5;241m=\u001b[39m mask\u001b[38;5;241m.\u001b[39mshape\n\u001b[0;32m    443\u001b[0m     tgt_len \u001b[38;5;241m=\u001b[39m tgt_len \u001b[38;5;28;01mif\u001b[39;00m tgt_len \u001b[38;5;129;01mis\u001b[39;00m \u001b[38;5;129;01mnot\u001b[39;00m \u001b[38;5;28;01mNone\u001b[39;00m \u001b[38;5;28;01melse\u001b[39;00m key_value_length\n\u001b[0;32m    445\u001b[0m     is_tracing \u001b[38;5;241m=\u001b[39m torch\u001b[38;5;241m.\u001b[39mjit\u001b[38;5;241m.\u001b[39mis_tracing() \u001b[38;5;129;01mor\u001b[39;00m \u001b[38;5;28misinstance\u001b[39m(mask, torch\u001b[38;5;241m.\u001b[39mfx\u001b[38;5;241m.\u001b[39mProxy) \u001b[38;5;129;01mor\u001b[39;00m is_torchdynamo_compiling()\n",
      "\u001b[1;31mValueError\u001b[0m: too many values to unpack (expected 2)"
     ]
    }
   ],
   "source": [
    "with torch.no_grad():\n",
    "    for text_inputs, attention_masks, image_inputs, labels in test_loader:\n",
    "        print(f\"text_inputs shape: {text_inputs.shape}\")  # Expected: (batch_size, seq_length)\n",
    "        print(f\"attention_masks shape: {attention_masks.shape}\")  # Expected: (batch_size, seq_length)\n",
    "        print(f\"image_inputs shape: {image_inputs.shape}\")  # Expected: (batch_size, channels, height, width)\n",
    "        print(f\"labels shape: {labels.shape}\")  # Expected: (batch_size,)\n",
    "\n",
    "        outputs = model(text_inputs, attention_masks, image_inputs)\n",
    "        predictions = torch.argmax(outputs, dim=1)\n",
    "        break  # Stop after one batch for debugging"
   ]
  },
  {
   "cell_type": "code",
   "execution_count": 42,
   "id": "43c99e5d-2297-4c7d-801a-724c89afc1ff",
   "metadata": {},
   "outputs": [],
   "source": [
    "def forward(self, text_input, attention_mask, image_input):\n",
    "    text_input = text_input.squeeze(1)  # Remove the extra dimension\n",
    "    attention_mask = attention_mask.squeeze(1)  # Remove the extra dimension\n",
    "    \n",
    "    # Text Feature Extraction\n",
    "    text_features = self.text_encoder(input_ids=text_input, attention_mask=attention_mask).last_hidden_state[:, 0, :]\n",
    "    \n",
    "    # Image Feature Extraction\n",
    "    image_features = self.image_encoder(image_input).view(image_input.size(0), -1)\n",
    "    \n",
    "    # Fusion Layer\n",
    "    combined_features = torch.cat((text_features, image_features), dim=1)\n",
    "    output = self.classifier(combined_features)\n",
    "\n",
    "    return output"
   ]
  },
  {
   "cell_type": "code",
   "execution_count": 46,
   "id": "d68cf2f5-93a8-4f61-9a6f-6215e1b8bd90",
   "metadata": {},
   "outputs": [],
   "source": [
    "def forward(self, text_input, attention_mask, image_input):\n",
    "    attention_mask = attention_mask.squeeze(1)  # Ensure correct shape\n",
    "    text_features = self.text_encoder(input_ids=text_input, attention_mask=attention_mask).last_hidden_state[:, 0, :]\n",
    "    \n",
    "    image_features = self.image_encoder(image_input).view(image_input.size(0), -1)\n",
    "    \n",
    "    combined_features = torch.cat((text_features, image_features), dim=1)\n",
    "    output = self.classifier(combined_features)\n",
    "    \n",
    "    return output"
   ]
  },
  {
   "cell_type": "code",
   "execution_count": 54,
   "id": "7bd1b15e-46ed-4770-bca2-ba458446c617",
   "metadata": {},
   "outputs": [
    {
     "name": "stdout",
     "output_type": "stream",
     "text": [
      "Attention Mask Shape: torch.Size([16, 1, 128])\n"
     ]
    }
   ],
   "source": [
    "print(\"Attention Mask Shape:\", attention_masks.shape)"
   ]
  },
  {
   "cell_type": "code",
   "execution_count": 56,
   "id": "fbfa8337-58f3-4cda-bc29-ed2e157e1064",
   "metadata": {},
   "outputs": [],
   "source": [
    "attention_masks = attention_masks.squeeze(1)  # Remove unnecessary dimensions"
   ]
  },
  {
   "cell_type": "code",
   "execution_count": 58,
   "id": "99e988c3-94c6-4333-8d16-36d822ea2f2c",
   "metadata": {},
   "outputs": [
    {
     "name": "stdout",
     "output_type": "stream",
     "text": [
      "Attention Mask Shape: torch.Size([16, 128])\n"
     ]
    }
   ],
   "source": [
    "print(\"Attention Mask Shape:\", attention_masks.shape)"
   ]
  },
  {
   "cell_type": "code",
   "execution_count": 50,
   "id": "2418ac02-c3f7-44d4-a1d4-282279c7c169",
   "metadata": {},
   "outputs": [
    {
     "name": "stdout",
     "output_type": "stream",
     "text": [
      "text_inputs shape: torch.Size([16, 1, 128])\n",
      "attention_masks shape: torch.Size([16, 1, 128])\n",
      "image_inputs shape: torch.Size([16, 1, 3, 224, 224])\n",
      "labels shape: torch.Size([16])\n"
     ]
    }
   ],
   "source": [
    "print(f\"text_inputs shape: {text_inputs.shape}\")\n",
    "print(f\"attention_masks shape: {attention_masks.shape}\")\n",
    "print(f\"image_inputs shape: {image_inputs.shape}\")\n",
    "print(f\"labels shape: {labels.shape}\")"
   ]
  },
  {
   "cell_type": "code",
   "execution_count": 66,
   "id": "53de8c05-3aa1-41d7-8fad-f726daeb2e07",
   "metadata": {},
   "outputs": [
    {
     "name": "stdout",
     "output_type": "stream",
     "text": [
      "torch.Size([16, 1, 128])\n",
      "torch.Size([16, 128])\n",
      "torch.Size([16, 1, 3, 224, 224])\n"
     ]
    }
   ],
   "source": [
    "print(text_inputs.shape)  \n",
    "print(attention_masks.shape)  \n",
    "print(image_inputs.shape)"
   ]
  },
  {
   "cell_type": "code",
   "execution_count": 70,
   "id": "77bc52c6-dac7-4442-8323-264450ade0f8",
   "metadata": {},
   "outputs": [
    {
     "name": "stdout",
     "output_type": "stream",
     "text": [
      "Test Accuracy: 49.38%\n"
     ]
    }
   ],
   "source": [
    "import torch\n",
    "\n",
    "# Ensure your model is on the right device\n",
    "device = torch.device(\"cuda\" if torch.cuda.is_available() else \"cpu\")\n",
    "\n",
    "correct = 0\n",
    "total = 0\n",
    "\n",
    "# Set model to evaluation mode\n",
    "model.eval()\n",
    "\n",
    "with torch.no_grad():\n",
    "    for text_inputs, attention_masks, image_inputs, labels in test_loader:\n",
    "        # Ensure correct dimensions\n",
    "        text_inputs = text_inputs.to(device).squeeze(1) if text_inputs.dim() == 3 else text_inputs.to(device)\n",
    "        attention_masks = attention_masks.to(device).squeeze(1) if attention_masks.dim() == 3 else attention_masks.to(device)\n",
    "        image_inputs = image_inputs.to(device).squeeze(1) if image_inputs.dim() == 5 else image_inputs.to(device)\n",
    "        labels = labels.to(device)\n",
    "\n",
    "        # Forward pass\n",
    "        outputs = model(text_inputs, attention_masks, image_inputs)\n",
    "\n",
    "        # Get predictions\n",
    "        predictions = torch.argmax(outputs, dim=1)\n",
    "\n",
    "        # Update correct predictions count\n",
    "        correct += (predictions == labels).sum().item()\n",
    "        total += labels.size(0)\n",
    "\n",
    "# Compute accuracy\n",
    "accuracy = correct / total * 100\n",
    "print(f\"Test Accuracy: {accuracy:.2f}%\")\n"
   ]
  },
  {
   "cell_type": "code",
   "execution_count": 72,
   "id": "20c24326-0c42-45ac-9f30-d977d692f3cf",
   "metadata": {},
   "outputs": [
    {
     "name": "stdout",
     "output_type": "stream",
     "text": [
      "Counter({0: 1})\n"
     ]
    }
   ],
   "source": [
    "from collections import Counter\n",
    "print(Counter(labels.cpu().numpy()))"
   ]
  },
  {
   "cell_type": "code",
   "execution_count": 74,
   "id": "32328418-532e-4f83-ac12-38012a2dc715",
   "metadata": {},
   "outputs": [
    {
     "name": "stdout",
     "output_type": "stream",
     "text": [
      "Text Features: torch.Size([1, 768])\n",
      "Image Features: torch.Size([1, 2048])\n"
     ]
    }
   ],
   "source": [
    "text_features = model.text_encoder(text_inputs, attention_mask=attention_masks).last_hidden_state[:, 0, :]\n",
    "print(\"Text Features:\", text_features.shape)\n",
    "\n",
    "image_features = model.image_encoder(image_inputs).view(image_inputs.size(0), -1)\n",
    "print(\"Image Features:\", image_features.shape)"
   ]
  },
  {
   "cell_type": "code",
   "execution_count": 76,
   "id": "31eece21-cfe8-4ed5-a5d5-400e35c227ef",
   "metadata": {},
   "outputs": [],
   "source": [
    "labels = labels.to(torch.long)"
   ]
  },
  {
   "cell_type": "code",
   "execution_count": 78,
   "id": "be64be1c-c5af-47ec-aa2c-ca12e7b56f13",
   "metadata": {},
   "outputs": [],
   "source": [
    "optimizer = torch.optim.Adam(model.parameters(), lr=1e-4)"
   ]
  },
  {
   "cell_type": "code",
   "execution_count": 94,
   "id": "c246db1e-979e-4ea2-af92-00282f848f39",
   "metadata": {},
   "outputs": [
    {
     "name": "stdout",
     "output_type": "stream",
     "text": [
      "['fake', 'real']\n"
     ]
    }
   ],
   "source": [
    "import os\n",
    "print(os.listdir(DATASET_DIR))"
   ]
  },
  {
   "cell_type": "code",
   "execution_count": 98,
   "id": "7b910a1c-ed92-41ea-8a29-52d0517f794d",
   "metadata": {},
   "outputs": [],
   "source": [
    "import os\n",
    "from torch.utils.data import Dataset\n",
    "from PIL import Image\n",
    "from transformers import AutoTokenizer\n",
    "\n",
    "class FakeNewsDataset(Dataset):\n",
    "    def __init__(self, data_dir, tokenizer, max_length=128, transform=None):\n",
    "        self.data_dir = data_dir\n",
    "        self.tokenizer = tokenizer\n",
    "        self.max_length = max_length\n",
    "        self.transform = transform\n",
    "        self.data = []  # Store (text, image, label)\n",
    "\n",
    "        # Iterate over class folders (e.g., \"fake\", \"real\")\n",
    "        for label_folder in os.listdir(data_dir):\n",
    "            label_path = os.path.join(data_dir, label_folder)\n",
    "            if not os.path.isdir(label_path):\n",
    "                continue  # Skip if not a directory\n",
    "\n",
    "            label = 0 if label_folder.lower() == \"fake\" else 1  # Adjust based on folder names\n",
    "            \n",
    "            for filename in os.listdir(label_path):\n",
    "                if filename.endswith(\".jpg\") or filename.endswith(\".png\"):  # Check if it's an image\n",
    "                    image_path = os.path.join(label_path, filename)\n",
    "                    text_path = image_path.replace(\".jpg\", \".txt\").replace(\".png\", \".txt\")  # Assuming text has same name\n",
    "\n",
    "                    if os.path.exists(text_path):\n",
    "                        with open(text_path, \"r\", encoding=\"utf-8\") as f:\n",
    "                            text_content = f.read().strip()\n",
    "                    else:\n",
    "                        text_content = \"\"  # Handle missing text case\n",
    "\n",
    "                    self.data.append((text_content, image_path, label))\n",
    "                    \n",
    "                    # Debugging output\n",
    "                    print(f\"Loaded: {filename} | Label: {label} | Text: {text_content[:50]}...\")\n",
    "\n",
    "    def __len__(self):\n",
    "        return len(self.data)\n",
    "\n",
    "    def __getitem__(self, idx):\n",
    "        text, image_path, label = self.data[idx]\n",
    "\n",
    "        # Tokenize text\n",
    "        encoded_text = self.tokenizer(\n",
    "            text, padding=\"max_length\", truncation=True, max_length=self.max_length, return_tensors=\"pt\"\n",
    "        )\n",
    "\n",
    "        # Load image\n",
    "        image = Image.open(image_path).convert(\"RGB\")\n",
    "        if self.transform:\n",
    "            image = self.transform(image)\n",
    "\n",
    "        return encoded_text[\"input_ids\"].squeeze(0), encoded_text[\"attention_mask\"].squeeze(0), image, label"
   ]
  },
  {
   "cell_type": "code",
   "execution_count": 102,
   "id": "25f9acd6-d46b-4426-9f38-1aaf3eadf477",
   "metadata": {},
   "outputs": [
    {
     "name": "stdout",
     "output_type": "stream",
     "text": [
      "Dataset size: 0\n"
     ]
    }
   ],
   "source": [
    "print(f\"Dataset size: {len(train_dataset)}\")"
   ]
  },
  {
   "cell_type": "code",
   "execution_count": null,
   "id": "299780cb-67a9-4bf9-b92a-354188b744f8",
   "metadata": {},
   "outputs": [],
   "source": []
  }
 ],
 "metadata": {
  "kernelspec": {
   "display_name": "Python 3 (ipykernel)",
   "language": "python",
   "name": "python3"
  },
  "language_info": {
   "codemirror_mode": {
    "name": "ipython",
    "version": 3
   },
   "file_extension": ".py",
   "mimetype": "text/x-python",
   "name": "python",
   "nbconvert_exporter": "python",
   "pygments_lexer": "ipython3",
   "version": "3.12.4"
  }
 },
 "nbformat": 4,
 "nbformat_minor": 5
}
