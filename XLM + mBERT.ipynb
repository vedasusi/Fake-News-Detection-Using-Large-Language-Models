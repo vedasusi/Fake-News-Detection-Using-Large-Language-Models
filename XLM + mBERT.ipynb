{
 "cells": [
  {
   "cell_type": "code",
   "execution_count": 1,
   "id": "3e0fb2df-4cda-4ee8-ad15-ccabff0bf1d9",
   "metadata": {},
   "outputs": [
    {
     "name": "stderr",
     "output_type": "stream",
     "text": [
      "Asking to truncate to max_length but no maximum length is provided and the model has no predefined maximum length. Default to no truncation.\n"
     ]
    },
    {
     "name": "stdout",
     "output_type": "stream",
     "text": [
      "Predicted Label: 1, Probabilities: [[0.47537547 0.5246245 ]]\n"
     ]
    }
   ],
   "source": [
    "import torch\n",
    "import numpy as np\n",
    "from transformers import AutoTokenizer, AutoModelForSequenceClassification\n",
    "\n",
    "# Load XLM-RoBERTa and mBERT models & tokenizers\n",
    "xlmr_model = AutoModelForSequenceClassification.from_pretrained(\"xlm-roberta-base\", num_labels=2)\n",
    "mbert_model = AutoModelForSequenceClassification.from_pretrained(\"mbbert_fake_news\", num_labels=2)\n",
    "\n",
    "xlmr_tokenizer = AutoTokenizer.from_pretrained(\"xlm-roberta-base\")\n",
    "mbert_tokenizer = AutoTokenizer.from_pretrained(\"mbbert_fake_news\")\n",
    "\n",
    "def predict(text):\n",
    "    \"\"\"Predict using both models and ensemble the results\"\"\"\n",
    "    \n",
    "    # Tokenize the input\n",
    "    xlmr_inputs = xlmr_tokenizer(text, return_tensors=\"pt\", padding=True, truncation=True)\n",
    "    mbert_inputs = mbert_tokenizer(text, return_tensors=\"pt\", padding=True, truncation=True)\n",
    "\n",
    "    # Get model outputs\n",
    "    with torch.no_grad():\n",
    "        xlmr_logits = xlmr_model(**xlmr_inputs).logits\n",
    "        mbert_logits = mbert_model(**mbert_inputs).logits\n",
    "\n",
    "    # Convert logits to probabilities using softmax\n",
    "    xlmr_probs = torch.nn.functional.softmax(xlmr_logits, dim=-1)\n",
    "    mbert_probs = torch.nn.functional.softmax(mbert_logits, dim=-1)\n",
    "\n",
    "    # Ensemble: Averaging Probabilities\n",
    "    avg_probs = (xlmr_probs + mbert_probs) / 2\n",
    "\n",
    "    # Get final prediction\n",
    "    final_prediction = torch.argmax(avg_probs, dim=-1).item()\n",
    "\n",
    "    return final_prediction, avg_probs.numpy()\n",
    "\n",
    "# Example Usage\n",
    "text = \"This is a test sentence.\"\n",
    "prediction, probs = predict(text)\n",
    "print(f\"Predicted Label: {prediction}, Probabilities: {probs}\")\n"
   ]
  },
  {
   "cell_type": "code",
   "execution_count": 5,
   "id": "ed5ac449-971a-4385-8824-d3c1d95b69a4",
   "metadata": {},
   "outputs": [
    {
     "name": "stdout",
     "output_type": "stream",
     "text": [
      "Predicted Class: 1\n"
     ]
    }
   ],
   "source": [
    "import torch\n",
    "from transformers import AutoModelForSequenceClassification, AutoTokenizer\n",
    "\n",
    "# Load models and tokenizers\n",
    "xlm_model = AutoModelForSequenceClassification.from_pretrained(\"xlm-roberta-base\")\n",
    "mb_model = AutoModelForSequenceClassification.from_pretrained(\"mbbert_fake_news\")\n",
    "\n",
    "xlm_tokenizer = AutoTokenizer.from_pretrained(\"xlm-roberta-base\")\n",
    "mb_tokenizer = AutoTokenizer.from_pretrained(\"mbbert_fake_news\")\n",
    "\n",
    "def predict_ensemble(text, max_length=512):\n",
    "    # Tokenize input with truncation and max length\n",
    "    xlm_inputs = xlm_tokenizer(text, return_tensors=\"pt\", truncation=True, padding=True, max_length=max_length)\n",
    "    mb_inputs = mb_tokenizer(text, return_tensors=\"pt\", truncation=True, padding=True, max_length=max_length)\n",
    "\n",
    "    # Get model outputs\n",
    "    with torch.no_grad():\n",
    "        xlm_outputs = xlm_model(**xlm_inputs).logits\n",
    "        mb_outputs = mb_model(**mb_inputs).logits\n",
    "\n",
    "    # Average the predictions\n",
    "    avg_logits = (xlm_outputs + mb_outputs) / 2\n",
    "    predicted_class = torch.argmax(avg_logits, dim=1).item()\n",
    "\n",
    "    return predicted_class\n",
    "\n",
    "# Example usage\n",
    "text = \"Breaking: Fake news spreading about elections!\"\n",
    "prediction = predict_ensemble(text)\n",
    "print(\"Predicted Class:\", prediction)\n",
    "\n"
   ]
  },
  {
   "cell_type": "code",
   "execution_count": 7,
   "id": "dfcf9f08-25f9-4e39-91ea-dda4f6127b65",
   "metadata": {},
   "outputs": [
    {
     "name": "stdout",
     "output_type": "stream",
     "text": [
      "(2000, 2)\n"
     ]
    }
   ],
   "source": [
    "import pandas as pd\n",
    "\n",
    "# Load dataset\n",
    "dff = pd.read_csv(\"final_data.csv\")\n",
    "\n",
    "# Select first 5000 rows\n",
    "first_5k = dff.iloc[:5000]\n",
    "\n",
    "# Select last 15000 rows\n",
    "last_15k = dff.iloc[5000:]\n",
    "\n",
    "# Take 500 random rows from the first 5k\n",
    "subset_1 = first_5k.sample(n=500, random_state=42)\n",
    "\n",
    "# Take 1500 random rows from the last 15k\n",
    "subset_2 = last_15k.sample(n=1500, random_state=42)\n",
    "\n",
    "# Combine both subsets\n",
    "df = pd.concat([subset_1, subset_2])\n",
    "\n",
    "# Shuffle final dataset (optional)\n",
    "df = df.sample(frac=1, random_state=42).reset_index(drop=True)\n",
    "\n",
    "# Print dataset size\n",
    "print(df.shape)  # Should be (2000, columns)"
   ]
  },
  {
   "cell_type": "code",
   "execution_count": 11,
   "id": "7e040b59-aa3c-48b9-a3fd-3956e0804e63",
   "metadata": {},
   "outputs": [
    {
     "name": "stderr",
     "output_type": "stream",
     "text": [
      "100%|█████████████████████████████████████████████████████████████████████████████▊| 1994/2000 [42:59<00:07,  1.29s/it]"
     ]
    },
    {
     "name": "stdout",
     "output_type": "stream",
     "text": [
      "Accuracy: 92.70%\n"
     ]
    },
    {
     "name": "stderr",
     "output_type": "stream",
     "text": [
      "\n"
     ]
    }
   ],
   "source": [
    "import pandas as pd\n",
    "import torch\n",
    "import torch.nn.functional as F\n",
    "from transformers import AutoModelForSequenceClassification, AutoTokenizer\n",
    "from tqdm import tqdm\n",
    "\n",
    "# Load models and tokenizers\n",
    "xlm_model = AutoModelForSequenceClassification.from_pretrained(\"xlm-roberta-base\")\n",
    "mb_model = AutoModelForSequenceClassification.from_pretrained(\"mbbert_fake_news\")\n",
    "\n",
    "xlm_tokenizer = AutoTokenizer.from_pretrained(\"xlm-roberta-base\")\n",
    "mb_tokenizer = AutoTokenizer.from_pretrained(\"mbbert_fake_news\")\n",
    "\n",
    "# Function to get prediction\n",
    "def predict_ensemble_softmax(text, max_length=512):\n",
    "    if not isinstance(text, str) or text.strip() == \"\":  # Skip empty or non-string values\n",
    "        return None  \n",
    "\n",
    "    xlm_inputs = xlm_tokenizer(text, return_tensors=\"pt\", truncation=True, padding=True, max_length=max_length)\n",
    "    mb_inputs = mb_tokenizer(text, return_tensors=\"pt\", truncation=True, padding=True, max_length=max_length)\n",
    "\n",
    "    with torch.no_grad():\n",
    "        xlm_outputs = xlm_model(**xlm_inputs).logits\n",
    "        mb_outputs = mb_model(**mb_inputs).logits\n",
    "\n",
    "    # Convert logits to probabilities\n",
    "    xlm_probs = F.softmax(xlm_outputs, dim=1)\n",
    "    mb_probs = F.softmax(mb_outputs, dim=1)\n",
    "\n",
    "    # Average the probabilities\n",
    "    avg_probs = (xlm_probs + mb_probs) / 2\n",
    "    predicted_class = torch.argmax(avg_probs, dim=1).item()\n",
    "\n",
    "    return predicted_class\n",
    "\n",
    "# Function to evaluate accuracy on your dataset\n",
    "def evaluate_accuracy(df):\n",
    "    correct = 0\n",
    "    total = len(df)\n",
    "\n",
    "    # Ensure 'text' column is a string and drop NaN values\n",
    "    df = df.dropna(subset=[\"text\"]).copy()\n",
    "    df[\"text\"] = df[\"text\"].astype(str)  # Convert all text to string\n",
    "\n",
    "    for _, row in tqdm(df.iterrows(), total=total):\n",
    "        text, label = row[\"text\"], row[\"label\"]\n",
    "        pred = predict_ensemble_softmax(text)\n",
    "        if pred is not None and pred == label:\n",
    "            correct += 1\n",
    "\n",
    "    accuracy = (correct / total) * 100\n",
    "    print(f\"Accuracy: {accuracy:.2f}%\")\n",
    "\n",
    "# Run accuracy test\n",
    "evaluate_accuracy(df)\n"
   ]
  },
  {
   "cell_type": "code",
   "execution_count": 15,
   "id": "a132452e-6fcb-4e73-9df8-6399367af103",
   "metadata": {},
   "outputs": [
    {
     "name": "stdin",
     "output_type": "stream",
     "text": [
      "\n",
      "Enter the news article (or type 'exit' to quit):  \ttext 12\twashington (reuters) - a u.s. navy destroyer sailed near islands claimed by china in the south china sea on tuesday, three u.s. officials told reuters, prompting anger in beijing, even as president donald trump s administration seeks chinese cooperation in reining in north korea s missile and nuclear programs. the operation was the latest attempt to counter what washington sees as beijing s efforts to limit freedom of navigation in the strategic waters. but it was not as provocative as previous ones carried out since trump took office in january. the officials, speaking on condition of anonymity, said the chafee, a guided-missile destroyer, carried out normal maneuvering operations that challenged excessive maritime claims near the paracel islands, among a string of islets, reefs and shoals over which china has territorial disputes with its neighbors. china s defense ministry said on wednesday that a warship, two fighter jets and a helicopter had scrambled to warn the u.s. ship away, adding it had infringed upon china s sovereignty and security with its provocation . china would further strengthen its naval and air defenses, the ministry said. we demand the u.s. side earnestly take steps to correct its mistakes, it added. speaking earlier at a daily news briefing in beijing, chinese foreign ministry spokeswoman hua chunying said china had lodged stern representations with the united states, and reiterated that the paracels were chinese territory. china will continue to take resolute measures to protect chinese sovereign territory and maritime interests. china urges the u.s. to conscientiously respect china s sovereign territory and security interests, conscientiously respect the efforts regional countries have made to protect peace and stability in the south china sea, and stop these wrong actions. next month, trump makes his first visit to asia as president, including a stop in china, which he has been pressuring to do more to rein in north korea. china is north korea s neighbor and biggest trading partner. unlike in august, when a u.s. navy destroyer came within 12 nautical miles of an artificial island built up by china in the south china sea, officials said the destroyer on tuesday sailed close to but not within that range of the islands. twelve nautical miles mark internationally recognized territorial limits. sailing within that range is meant to show the united states does not recognize territorial claims. the pentagon did not comment directly on the operation, but said the united states carried out regular freedom-of-navigation operations and would continue to do so. china s claims in the south china sea, through which about $5 trillion in shipborne trade passes each year, are contested by brunei, malaysia, the philippines, taiwan and vietnam. experts and some u.s. officials have criticized former president barack obama for potentially reinforcing china s claims by sticking to innocent passage, in which a warship effectively recognized a territorial sea by crossing it speedily without stopping. the u.s. military has a long-standing position that its operations are carried out throughout the world, including in areas claimed by allies, and that they are separate from political considerations. the united states has said it would like to see more international participation in freedom-of-navigation operations in the south china sea. trump s trip to asia will likely be dominated by the north korean nuclear threat. he will also visit south korea, japan, vietnam and the philippines. in recent weeks, north korea has launched two missiles over japan and conducted its sixth nuclear test, all in defiance of u.n. security council resolutions, and may be fast advancing toward its goal of developing a nuclear-tipped missile capable of hitting the u.s. mainland. trump s visit to china will reciprocate a trip to the united states made in april by chinese president xi jinping. the u.s. president s attempts to get chinese help with north korea have met with limited success so far, but he has gone out of his way to thank xi for his efforts.\n"
     ]
    },
    {
     "name": "stdout",
     "output_type": "stream",
     "text": [
      "Prediction: REAL News ✅\n"
     ]
    },
    {
     "name": "stdin",
     "output_type": "stream",
     "text": [
      "\n",
      "Enter the news article (or type 'exit' to quit):  \ttext 10\ta black cincinnati police officer is currently receiving backlash over a controversial facebook post where he warned his african-american friends and family about white officers that may be targeting them because of their race.officer freddie vincent had shared the message earlier this month, which instructed black people on what to do if they happen to get stopped by police. the post read: a message to all my afro america friends and family. when you are encountered by a white officer make sure that you are in a public place, and comply to all of their commands, because they are looking for a reason to kill a black man. and always keep your hands in the air, and never resist. i m so tired of cops using these famous words i was in fear of my life. i m praying for louisiana, that could have been my nephew in b.r. facebookthis post was written after the high profile police brutality incidents in louisiana and minnesota, so it is perfectly understandable why those tragedies would be weighing on vincent s heart and he would want to warn his loved ones of the dangers they might encounter. vincent also had other posts on his facebook account that addressed police brutality. one of them, posted on july 12, was an illustration on 10 rules of survival if stopped by the police. vincent commented over the illustration: i can t promise you that this is 100% true, but it s about 85% to 95% and you just might make it home safely. unfortunately, vincent s post has landed him in hot water. according to cincinnati police chief eliot isaac, vincent s post is being reviewed to see if it falls within the department s social media procedure and our rules and regulations. in a statement, isaac said: the cincinnati police department strives to maintain a culture of professionalism, as well as transparency and accountability for our actions. i am proud of the work of the men and women of the cincinnati police department and our efforts to work collaboratively with the community. we are aware of a recent post to a commonly used social media site by one of our officers that refers to an interpretation of a law enforcement officer s actions. the comments that were posted are under review as they relate to our social media procedure and our rules and regulations. a panel discussion was later held at new prospect baptist church in roselawn, where an audience asked isaac if there was racism in the cincinnati police department. isaac responded: i don t think anyone can say there is not racism inside the department. vincent s post may be even more prominent now, as we are seeing situations where black men are doing everything that police tell them to, and still being shot. just earlier this week, unarmed black man charles kinsey was shot with his hands in the air while trying to take care of a patient with autism. fortunately, kinsey lived but many are not so lucky. referencing kinsey s incident, bishop bobby hilton of word of deliverance ministries and president of the local chapter of civil rights group national action network commented on this horrific incident: when there is a hint of this, that we have police officers who have this thought process about black men, these officers have to be dismissed. we are now seeing situations in minnesota and florida, where black men are doing what they are told by police  putting their hands up, complying with all instructions  and they are still shot. it s understandable why vincent s posts have caused a stir, but to pretend that there wasn t some truth to what he was saying is ignorant. african americans have been targeted and mistreated by police for far too long, and it is a situation that must be addressed.featured image via flickr\n"
     ]
    },
    {
     "name": "stdout",
     "output_type": "stream",
     "text": [
      "Prediction: FAKE News ❌\n"
     ]
    },
    {
     "name": "stdin",
     "output_type": "stream",
     "text": [
      "\n",
      "Enter the news article (or type 'exit' to quit):  exit\n"
     ]
    }
   ],
   "source": [
    "def predict_news():\n",
    "    while True:\n",
    "        news_text = input(\"\\nEnter the news article (or type 'exit' to quit): \")\n",
    "        if news_text.lower() == \"exit\":\n",
    "            break  # Stop when the user types 'exit'\n",
    "\n",
    "        prediction = predict_ensemble_softmax(news_text)\n",
    "\n",
    "        if prediction is None:\n",
    "            print(\"Invalid input. Please enter valid text.\")\n",
    "        elif prediction == 1:\n",
    "            print(\"Prediction: FAKE News ❌\")\n",
    "        else:\n",
    "            print(\"Prediction: REAL News ✅\")\n",
    "# Start prediction\n",
    "predict_news()"
   ]
  },
  {
   "cell_type": "code",
   "execution_count": 17,
   "id": "f7373df4-bc3d-4b09-be3a-2fe5fb127732",
   "metadata": {},
   "outputs": [
    {
     "name": "stderr",
     "output_type": "stream",
     "text": [
      "100%|██████████████████████████████████████████████████████████████████████████████| 1994/1994 [39:39<00:00,  1.19s/it]\n"
     ]
    },
    {
     "name": "stdout",
     "output_type": "stream",
     "text": [
      "Accuracy: 92.98%\n",
      "Precision: 89.52%\n",
      "Recall: 98.72%\n",
      "F1-score: 93.89%\n",
      "\n",
      "Confusion Matrix:\n",
      "[[ 778  126]\n",
      " [  14 1076]]\n"
     ]
    }
   ],
   "source": [
    "import pandas as pd\n",
    "import torch\n",
    "import torch.nn.functional as F\n",
    "from transformers import AutoModelForSequenceClassification, AutoTokenizer\n",
    "from tqdm import tqdm\n",
    "from sklearn.metrics import accuracy_score, precision_recall_fscore_support, confusion_matrix\n",
    "\n",
    "# Load models and tokenizers\n",
    "xlm_model = AutoModelForSequenceClassification.from_pretrained(\"xlm-roberta-base\")\n",
    "mb_model = AutoModelForSequenceClassification.from_pretrained(\"mbbert_fake_news\")\n",
    "\n",
    "xlm_tokenizer = AutoTokenizer.from_pretrained(\"xlm-roberta-base\")\n",
    "mb_tokenizer = AutoTokenizer.from_pretrained(\"mbbert_fake_news\")\n",
    "\n",
    "# Function to get prediction\n",
    "def predict_ensemble_softmax(text, max_length=512):\n",
    "    if not isinstance(text, str) or text.strip() == \"\":  # Skip empty or non-string values\n",
    "        return None  \n",
    "\n",
    "    xlm_inputs = xlm_tokenizer(text, return_tensors=\"pt\", truncation=True, padding=True, max_length=max_length)\n",
    "    mb_inputs = mb_tokenizer(text, return_tensors=\"pt\", truncation=True, padding=True, max_length=max_length)\n",
    "\n",
    "    with torch.no_grad():\n",
    "        xlm_outputs = xlm_model(**xlm_inputs).logits\n",
    "        mb_outputs = mb_model(**mb_inputs).logits\n",
    "\n",
    "    # Convert logits to probabilities\n",
    "    xlm_probs = F.softmax(xlm_outputs, dim=1)\n",
    "    mb_probs = F.softmax(mb_outputs, dim=1)\n",
    "\n",
    "    # Average the probabilities\n",
    "    avg_probs = (xlm_probs + mb_probs) / 2\n",
    "    predicted_class = torch.argmax(avg_probs, dim=1).item()\n",
    "\n",
    "    return predicted_class\n",
    "\n",
    "# Function to compute full evaluation metrics\n",
    "def evaluate_metrics(df):\n",
    "    df = df.dropna(subset=[\"text\"]).copy()  # Remove empty values\n",
    "    df[\"text\"] = df[\"text\"].astype(str)  # Convert text to string\n",
    "\n",
    "    y_true = []\n",
    "    y_pred = []\n",
    "\n",
    "    for _, row in tqdm(df.iterrows(), total=len(df)):\n",
    "        text, label = row[\"text\"], row[\"label\"]\n",
    "        pred = predict_ensemble_softmax(text)\n",
    "        if pred is not None:\n",
    "            y_true.append(label)\n",
    "            y_pred.append(pred)\n",
    "\n",
    "    # Compute Accuracy\n",
    "    accuracy = accuracy_score(y_true, y_pred)\n",
    "\n",
    "    # Compute Precision, Recall, F1-score\n",
    "    precision, recall, f1, _ = precision_recall_fscore_support(y_true, y_pred, average=\"binary\", pos_label=1)\n",
    "\n",
    "    # Compute Confusion Matrix\n",
    "    conf_matrix = confusion_matrix(y_true, y_pred)\n",
    "\n",
    "    # Print results\n",
    "    print(f\"Accuracy: {accuracy:.2%}\")\n",
    "    print(f\"Precision: {precision:.2%}\")\n",
    "    print(f\"Recall: {recall:.2%}\")\n",
    "    print(f\"F1-score: {f1:.2%}\")\n",
    "    print(\"\\nConfusion Matrix:\")\n",
    "    print(conf_matrix)\n",
    "\n",
    "# Run full evaluation\n",
    "evaluate_metrics(df)\n"
   ]
  },
  {
   "cell_type": "code",
   "execution_count": 21,
   "id": "21607d17-1042-4f59-9494-176df1e3322a",
   "metadata": {},
   "outputs": [],
   "source": [
    "import pandas as pd\n",
    "import torch\n",
    "import torch.nn.functional as F\n",
    "from transformers import AutoModelForSequenceClassification, AutoTokenizer\n",
    "from tqdm import tqdm\n",
    "\n",
    "# Load models and tokenizers\n",
    "xlm_model = AutoModelForSequenceClassification.from_pretrained(\"xlm-roberta-base\")\n",
    "mb_model = AutoModelForSequenceClassification.from_pretrained(\"mbbert_fake_news\")\n",
    "\n",
    "xlm_tokenizer = AutoTokenizer.from_pretrained(\"xlm-roberta-base\")\n",
    "mb_tokenizer = AutoTokenizer.from_pretrained(\"mbbert_fake_news\")\n",
    "\n",
    "# Function to get prediction\n",
    "def predict_ensemble_softmax(text, max_length=512):\n",
    "    if not isinstance(text, str) or text.strip() == \"\":  # Skip empty or non-string values\n",
    "        return None  \n",
    "\n",
    "    xlm_inputs = xlm_tokenizer(text, return_tensors=\"pt\", truncation=True, padding=True, max_length=max_length)\n",
    "    mb_inputs = mb_tokenizer(text, return_tensors=\"pt\", truncation=True, padding=True, max_length=max_length)\n",
    "\n",
    "    with torch.no_grad():\n",
    "        xlm_outputs = xlm_model(**xlm_inputs).logits\n",
    "        mb_outputs = mb_model(**mb_inputs).logits\n",
    "\n",
    "    # Convert logits to probabilities\n",
    "    xlm_probs = F.softmax(xlm_outputs, dim=1)\n",
    "    mb_probs = F.softmax(mb_outputs, dim=1)\n",
    "\n",
    "    # Average the probabilities\n",
    "    avg_probs = (xlm_probs + mb_probs) / 2\n",
    "    predicted_class = torch.argmax(avg_probs, dim=1).item()\n",
    "\n",
    "    return predicted_class"
   ]
  },
  {
   "cell_type": "code",
   "execution_count": 23,
   "id": "c994ac1a-c389-45c0-8654-aa2774273303",
   "metadata": {},
   "outputs": [
    {
     "name": "stdin",
     "output_type": "stream",
     "text": [
      "\n",
      "Enter the news article (or type 'exit' to quit):  \ttext 12111\tஜார்ஜியா ஒரு குழந்தைக்கு அதிக மாநில பணத்தை மாநில பட்டயப் பள்ளிகளுக்கு அனுப்பும் என்றும், அந்த பட்டயப் பள்ளிகளுக்கு பட்ஜெட் வெட்டுக்கள் பயன்படுத்தப்படாது என்றும் கூறுகிறார்.\n"
     ]
    },
    {
     "name": "stdout",
     "output_type": "stream",
     "text": [
      "Prediction: FAKE News ❌\n"
     ]
    },
    {
     "name": "stdin",
     "output_type": "stream",
     "text": [
      "\n",
      "Enter the news article (or type 'exit' to quit):  \ttext 12112\tकहते हैं कि जॉर्जिया प्रति बच्चे को राज्य के चार्टर स्कूलों में अधिक राज्य पैसा भेजेगा और उन चार्टर स्कूलों में बजट में कटौती नहीं की जाती है।\n"
     ]
    },
    {
     "name": "stdout",
     "output_type": "stream",
     "text": [
      "Prediction: FAKE News ❌\n"
     ]
    },
    {
     "name": "stdin",
     "output_type": "stream",
     "text": [
      "\n",
      "Enter the news article (or type 'exit' to quit):  \ttext 10\ta black cincinnati police officer is currently receiving backlash over a controversial facebook post where he warned his african-american friends and family about white officers that may be targeting them because of their race.officer freddie vincent had shared the message earlier this month, which instructed black people on what to do if they happen to get stopped by police. the post read: a message to all my afro america friends and family. when you are encountered by a white officer make sure that you are in a public place, and comply to all of their commands, because they are looking for a reason to kill a black man. and always keep your hands in the air, and never resist. i m so tired of cops using these famous words i was in fear of my life. i m praying for louisiana, that could have been my nephew in b.r. facebookthis post was written after the high profile police brutality incidents in louisiana and minnesota, so it is perfectly understandable why those tragedies would be weighing on vincent s heart and he would want to warn his loved ones of the dangers they might encounter. vincent also had other posts on his facebook account that addressed police brutality. one of them, posted on july 12, was an illustration on 10 rules of survival if stopped by the police. vincent commented over the illustration: i can t promise you that this is 100% true, but it s about 85% to 95% and you just might make it home safely. unfortunately, vincent s post has landed him in hot water. according to cincinnati police chief eliot isaac, vincent s post is being reviewed to see if it falls within the department s social media procedure and our rules and regulations. in a statement, isaac said: the cincinnati police department strives to maintain a culture of professionalism, as well as transparency and accountability for our actions. i am proud of the work of the men and women of the cincinnati police department and our efforts to work collaboratively with the community. we are aware of a recent post to a commonly used social media site by one of our officers that refers to an interpretation of a law enforcement officer s actions. the comments that were posted are under review as they relate to our social media procedure and our rules and regulations. a panel discussion was later held at new prospect baptist church in roselawn, where an audience asked isaac if there was racism in the cincinnati police department. isaac responded: i don t think anyone can say there is not racism inside the department. vincent s post may be even more prominent now, as we are seeing situations where black men are doing everything that police tell them to, and still being shot. just earlier this week, unarmed black man charles kinsey was shot with his hands in the air while trying to take care of a patient with autism. fortunately, kinsey lived but many are not so lucky. referencing kinsey s incident, bishop bobby hilton of word of deliverance ministries and president of the local chapter of civil rights group national action network commented on this horrific incident: when there is a hint of this, that we have police officers who have this thought process about black men, these officers have to be dismissed. we are now seeing situations in minnesota and florida, where black men are doing what they are told by police  putting their hands up, complying with all instructions  and they are still shot. it s understandable why vincent s posts have caused a stir, but to pretend that there wasn t some truth to what he was saying is ignorant. african americans have been targeted and mistreated by police for far too long, and it is a situation that must be addressed.featured image via flickr\n"
     ]
    },
    {
     "name": "stdout",
     "output_type": "stream",
     "text": [
      "Prediction: FAKE News ❌\n"
     ]
    },
    {
     "name": "stdin",
     "output_type": "stream",
     "text": [
      "\n",
      "Enter the news article (or type 'exit' to quit):  \ttext 12\twashington (reuters) - a u.s. navy destroyer sailed near islands claimed by china in the south china sea on tuesday, three u.s. officials told reuters, prompting anger in beijing, even as president donald trump s administration seeks chinese cooperation in reining in north korea s missile and nuclear programs. the operation was the latest attempt to counter what washington sees as beijing s efforts to limit freedom of navigation in the strategic waters. but it was not as provocative as previous ones carried out since trump took office in january. the officials, speaking on condition of anonymity, said the chafee, a guided-missile destroyer, carried out normal maneuvering operations that challenged excessive maritime claims near the paracel islands, among a string of islets, reefs and shoals over which china has territorial disputes with its neighbors. china s defense ministry said on wednesday that a warship, two fighter jets and a helicopter had scrambled to warn the u.s. ship away, adding it had infringed upon china s sovereignty and security with its provocation . china would further strengthen its naval and air defenses, the ministry said. we demand the u.s. side earnestly take steps to correct its mistakes, it added. speaking earlier at a daily news briefing in beijing, chinese foreign ministry spokeswoman hua chunying said china had lodged stern representations with the united states, and reiterated that the paracels were chinese territory. china will continue to take resolute measures to protect chinese sovereign territory and maritime interests. china urges the u.s. to conscientiously respect china s sovereign territory and security interests, conscientiously respect the efforts regional countries have made to protect peace and stability in the south china sea, and stop these wrong actions. next month, trump makes his first visit to asia as president, including a stop in china, which he has been pressuring to do more to rein in north korea. china is north korea s neighbor and biggest trading partner. unlike in august, when a u.s. navy destroyer came within 12 nautical miles of an artificial island built up by china in the south china sea, officials said the destroyer on tuesday sailed close to but not within that range of the islands. twelve nautical miles mark internationally recognized territorial limits. sailing within that range is meant to show the united states does not recognize territorial claims. the pentagon did not comment directly on the operation, but said the united states carried out regular freedom-of-navigation operations and would continue to do so. china s claims in the south china sea, through which about $5 trillion in shipborne trade passes each year, are contested by brunei, malaysia, the philippines, taiwan and vietnam. experts and some u.s. officials have criticized former president barack obama for potentially reinforcing china s claims by sticking to innocent passage, in which a warship effectively recognized a territorial sea by crossing it speedily without stopping. the u.s. military has a long-standing position that its operations are carried out throughout the world, including in areas claimed by allies, and that they are separate from political considerations. the united states has said it would like to see more international participation in freedom-of-navigation operations in the south china sea. trump s trip to asia will likely be dominated by the north korean nuclear threat. he will also visit south korea, japan, vietnam and the philippines. in recent weeks, north korea has launched two missiles over japan and conducted its sixth nuclear test, all in defiance of u.n. security council resolutions, and may be fast advancing toward its goal of developing a nuclear-tipped missile capable of hitting the u.s. mainland. trump s visit to china will reciprocate a trip to the united states made in april by chinese president xi jinping. the u.s. president s attempts to get chinese help with north korea have met with limited success so far, but he has gone out of his way to thank xi for his efforts.\n"
     ]
    },
    {
     "name": "stdout",
     "output_type": "stream",
     "text": [
      "Prediction: REAL News ✅\n"
     ]
    },
    {
     "name": "stdin",
     "output_type": "stream",
     "text": [
      "\n",
      "Enter the news article (or type 'exit' to quit):  \ttext 13\twashington (reuters) - the top democrats on the u.s. senate and house of representatives intelligence committees accused russia on thursday of trying to influence the nov. 8 u.s. election via computer hacking, and called on president vladimir putin to order a halt. “based on briefings we have received, we have concluded that the russian intelligence agencies are making a serious and concerted effort to influence the u.s. election,” senator dianne feinstein and representative adam schiff said in an unusually strongly worded joint statement. officials in the administration of president barack obama have said they concluded that russia or its proxies were responsible for hacking political party organizations. the government has not publicly blamed russia. russia has denied it sponsors or encourages any hacking activity. the lawmakers said the russian effort was intended to sow doubt about the security of the u.s. election, and that the orders for intelligence agencies to conduct such actions could come only from “very senior levels” of the moscow government. “we call on president putin to immediately order a halt to this activity. americans will not stand for any foreign government trying to influence our election. we hope all americans will stand together and reject the russian effort,” the statement said. u.s. relations with russia have had a high profile in campaigning for the nov. 8 election, in which the white house, one third of the senate seats and all the house seats are up for grabs. donald trump, the republican presidential nominee, has been criticized by democrats - and some republicans - for his praise of putin.\n"
     ]
    },
    {
     "name": "stdout",
     "output_type": "stream",
     "text": [
      "Prediction: REAL News ✅\n"
     ]
    },
    {
     "name": "stdin",
     "output_type": "stream",
     "text": [
      "\n",
      "Enter the news article (or type 'exit' to quit):  \ttext 20\t(reuters) - highlights of the day for u.s. president donald trump’s administration on wednesday: a crisis over the relationship between trump’s aides and russia deepens as a growing number of trump’s fellow republicans demand expanded congressional inquiries into the matter. the trump administration offers the job of national security adviser to u.s. vice admiral robert harward, sources say, but it is not clear if he accepted. the kremlin says u.s. media reports about russian intelligence connections to trump’s presidential campaign are groundless. russia also says it will not return crimea to ukraine or discuss the matter with foreign partners after the white house says trump expects the annexed black sea peninsula to be returned. trump’s nominee for labor secretary, andrew puzder, withdraws his name from consideration amid concerns that he could not garner enough senate votes to be confirmed.   trump’s choice of representative mick mulvaney to become white house budget director on wednesday appears to pick up enough republican votes to vault him into the job. trump drops u.s. insistence on a two-state solution to the israeli-palestinian conflict, a long-standing bedrock of middle east policy, even as he urges israeli prime minister benjamin netanyahu to curb settlement construction. trump says tax code revisions are a critical way to boost the nation’s economy as he kicks off a white house meeting with chief executive officers of target corp, best buy co inc and six other major retailers. trump’s defense secretary seeks to reassure nato of steadfast u.s. support at talks in brussels as nervous european allies try to look past the president’s rhetoric and the turmoil within his administration. u.s. secretary of state rex tillerson is heading to bonn to interact with counterparts from the group of 20 top economies at a time many are wondering how strongly trump’s “america first” message will reshape u.s. foreign policy. vice president mike pence also is bound for europe this week to meet with allies seeking clarity on the administration’s foreign policy strategy and its stance toward russia. staff at the u.s. environmental protection agency have been told that trump is preparing a handful of executive orders to reshape the agency, to be signed once a new administrator is confirmed, two sources say. the trump administration proposes changes to the obamacare individual insurance market that insurers welcome as a good start but that others say could raise consumers’ out-of-pocket cost.\n"
     ]
    },
    {
     "name": "stdout",
     "output_type": "stream",
     "text": [
      "Prediction: REAL News ✅\n"
     ]
    },
    {
     "name": "stdin",
     "output_type": "stream",
     "text": [
      "\n",
      "Enter the news article (or type 'exit' to quit):  \ttext 5702\tబ్యూనస్ ఎయిర్స్ (రాయిటర్స్) - బ్యూనస్ ఎయిర్స్ యొక్క ముఖ్య ప్రావిన్స్‌లో సెనేట్ కోసం అర్జెంటీనా యొక్క పాలక పార్టీ అభ్యర్థి ప్రతిపక్ష అభ్యర్థి కంటే 4.8 శాతం పాయింట్ల ముందు ఉందని కన్సల్టెన్సీ మేనేజ్‌మెంట్ & ఫిట్ చేసిన ఒక పోల్ ప్రకారం, శుక్రవారం రాయిటర్స్‌కు ప్రత్యేకంగా పంపబడింది.దేశం యొక్క మధ్యంతర కాంగ్రెస్ ఎన్నికలు ఈ ఆదివారం జరుగుతాయి మరియు అధ్యక్షుడు మారిసియో మాక్రీ తన 2019 తిరిగి ఎన్నికల ప్రచారానికి వెళుతున్న ఎన్నికల శక్తి యొక్క ప్రారంభ సూచికగా దీనిని చూడవచ్చు.మాక్రీ యొక్క కాంబిమోస్ లేదా లెట్ ఎస్ మార్చే పార్టీకి చెందిన ఎస్టెబాన్ బుల్రిచ్, సెనేట్ కోసం తన బిడ్‌లో 35.3 శాతం ఓట్లను గెలుచుకుంటాడని అంచనా.బ్యూనస్ ఎయిర్స్ ప్రావిన్స్ అర్జెంటీనా జనాభాలో మూడింట ఒక వంతు ఉంది.అతని ప్రత్యర్థి, మాజీ అధ్యక్షుడు క్రిస్టినా ఫెర్నాండెజ్, 30.5 శాతం ఓటరు ఉద్దేశాలను కలిగి ఉన్నారు, 2 వేల మంది ఓటర్ల నిర్వహణ & ఫిట్ సర్వే ప్రకారం.పోల్‌లో 3.3 నుండి 3.5 శాతం పాయింట్ల లోపం ఉంది.ఫెర్నాండెజ్ ఆమె ఉదారమైన సామాజిక వ్యయం కోసం చాలా తక్కువ-ఆదాయ అర్జెంటీనా చేత ఇష్టపడతారు.స్వేచ్ఛా-మార్కెట్ల ప్రతిపాదకుడు మరియు కాంబిమోలు జనాదరణ పొందిన గృహ తాపన మరియు రవాణా రాయితీలను తగ్గించినందుకు విమర్శలు ఎదుర్కొన్నారు, కాని ప్రెసిడెంట్ ఎస్ విధానాలు అర్జెంటీనాను నిరంతర వృద్ధికి తిరిగి ఇవ్వగలవని చెప్పే పెట్టుబడిదారులచే ప్రశంసించబడ్డారు.\n"
     ]
    },
    {
     "name": "stdout",
     "output_type": "stream",
     "text": [
      "Prediction: REAL News ✅\n"
     ]
    },
    {
     "name": "stdin",
     "output_type": "stream",
     "text": [
      "\n",
      "Enter the news article (or type 'exit' to quit):  \ttext 5701\tब्यूनस आयर्स (रायटर) - ब्यूनस आयर्स के प्रमुख प्रांत में सीनेट के लिए अर्जेंटीना के सत्तारूढ़ पार्टी के उम्मीदवार विपक्षी उम्मीदवार से 4.8 प्रतिशत अंक आगे है, कंसल्टेंसी मैनेजमेंट और फिट के एक पोल के अनुसार शुक्रवार को रॉयटर्स को विशेष रूप से भेजा गया।देश का मध्यावधि कांग्रेस का चुनाव इस रविवार को आयोजित किया जाएगा, और चुनावी शक्ति के शुरुआती संकेतक के रूप में देखा जाएगा कि राष्ट्रपति मौरिसियो मैकरी अपने 2019 के चुनाव अभियान में जा रहे हैं।पोल के अनुसार, मैक्री के कंबीमोस या लेट एस चेंज पार्टी के एस्टेबन बुलरिच ने सीनेट के लिए अपनी बोली में 35.3 प्रतिशत वोट जीतने का अनुमान लगाया है।ब्यूनस आयर्स प्रांत अर्जेंटीना की आबादी के एक तिहाई का घर है।उनके प्रतिद्वंद्वी, पूर्व राष्ट्रपति क्रिस्टीना फर्नांडीज, 2,000 मतदाताओं के प्रबंधन और फिट सर्वेक्षण के अनुसार, 30.5 प्रतिशत मतदाता इरादे हैं।पोल में 3.3 से 3.5 प्रतिशत अंक की त्रुटि थी।फर्नांडीज को अपने उदार सामाजिक खर्च के लिए कई कम आय वाले अर्जेंटीना द्वारा प्यार किया जाता है।मैकरी, फ्री-मार्केट्स के एक प्रस्तावक, और कंबीमोस की लोकप्रिय घरेलू हीटिंग और परिवहन सब्सिडी को कम करने के लिए आलोचना की गई है, लेकिन निवेशकों द्वारा सराहना की गई है जो कहते हैं कि राष्ट्रपति की नीतियां अर्जेंटीना को निरंतर वृद्धि के लिए वापस कर सकती हैं।\n"
     ]
    },
    {
     "name": "stdout",
     "output_type": "stream",
     "text": [
      "Prediction: REAL News ✅\n"
     ]
    },
    {
     "name": "stdin",
     "output_type": "stream",
     "text": [
      "\n",
      "Enter the news article (or type 'exit' to quit):  \ttext 5718\tமில்வாக்கி சிக்கல்களில் 52 சதவீதம் கருப்பு ஆண் வேலையின்மை அடங்கும்.\n"
     ]
    },
    {
     "name": "stdout",
     "output_type": "stream",
     "text": [
      "Prediction: FAKE News ❌\n"
     ]
    },
    {
     "name": "stdin",
     "output_type": "stream",
     "text": [
      "\n",
      "Enter the news article (or type 'exit' to quit):  \ttext 5723\tటోక్యో (రాయిటర్స్) - జపాన్ కోర్టు మాజీ యు.ఎస్.దక్షిణ ద్వీపమైన ఒకినావాలో ఒక మహిళపై అత్యాచారం మరియు హత్య చేసినందుకు సైనిక స్థావర కార్మికుడు శుక్రవారం జైలు శిక్ష అనుభవిస్తున్నట్లు పబ్లిక్ బ్రాడ్‌కాస్టర్ ఎన్‌హెచ్‌కె నివేదించింది.గత ఏడాది ఏప్రిల్‌లో 20 ఏళ్ల రినా షిమాబుకురోను చంపినందుకు కెన్నెత్ ఫ్రాంక్లిన్ షిన్జాటో (33) ను నహా జిల్లా కోర్టులో కనుగొన్నట్లు ఎన్‌హెచ్‌కె తెలిపింది.కోర్టు ప్రతినిధి రాయిటర్స్‌తో మాట్లాడుతూ, ఈ నిర్ణయాన్ని తాను వెంటనే ధృవీకరించలేకపోయాడు.ఈ కేసు ద్వీపంలో కోపాన్ని రేకెత్తించింది, ఇక్కడ స్థానికులు యు.ఎస్.వారు చెప్పే సైనిక స్థావరాలు ఒకినావాపై భారీ భారాన్ని విధిస్తాయి.ఒకినావా సుమారు 50,000 యు.ఎస్.30,000 మంది సైనిక సిబ్బంది మరియు స్థావరాలలో పనిచేస్తున్న పౌరులతో సహా జాతీయులు.స్థానికులను అంచనా వేసే ప్రయత్నంలో, గత సంవత్సరం యునైటెడ్ స్టేట్స్ కొన్ని యు.ఎస్. కు చట్టపరమైన రక్షణ మరియు ప్రయోజనాలను పరిమితం చేయడానికి అంగీకరించింది.1960 నాటి స్థితిలో ఉన్న ఫోర్సెస్ అగ్రిమెంట్ (సోఫా) కింద జపాన్‌లో మిలటరీ కోసం పనిచేస్తున్న పౌర కాంట్రాక్టర్లు. జపాన్లో ఉన్నప్పుడు సోఫా సిబ్బందికి వీసాలు అవసరం నుండి మినహాయించి, యు.ఎస్.జపనీస్ పోలీసులు వారిని పట్టుకోకముందే ప్రజలను ఇంటికి రవాణా చేయడానికి మిలటరీ.U.S. పాల్గొన్న ఇతర సంఘటనలుఒకినావాన్లలో సిబ్బంది ఆగ్రహం వ్యక్తం చేశారు.నవంబర్ న.19, ఒక స్థానిక వ్యక్తి రోడ్డు ప్రమాదంలో మరణించాడు, అతని వ్యాన్ యు.ఎస్. నడుపుతున్న కారును ided ీకొట్టింది.మెరైన్ మద్యం ప్రభావంతో డ్రైవింగ్ చేసినట్లు అనుమానిస్తున్నారు.యు.ఎస్.జపాన్‌లోని సిబ్బందికి తాగునీటి నిషేధాన్ని విధిస్తూ మిలిటరీ స్పందించింది.\n"
     ]
    },
    {
     "name": "stdout",
     "output_type": "stream",
     "text": [
      "Prediction: REAL News ✅\n"
     ]
    },
    {
     "name": "stdin",
     "output_type": "stream",
     "text": [
      "\n",
      "Enter the news article (or type 'exit' to quit):  exit\n"
     ]
    }
   ],
   "source": [
    "def predict_news():\n",
    "    while True:\n",
    "        news_text = input(\"\\nEnter the news article (or type 'exit' to quit): \")\n",
    "        if news_text.lower() == \"exit\":\n",
    "            break  # Stop when the user types 'exit'\n",
    "\n",
    "        prediction = predict_ensemble_softmax(news_text)\n",
    "\n",
    "        if prediction is None:\n",
    "            print(\"Invalid input. Please enter valid text.\")\n",
    "        elif prediction == 1:\n",
    "            print(\"Prediction: FAKE News ❌\")\n",
    "        else:\n",
    "            print(\"Prediction: REAL News ✅\")\n",
    "# Start prediction\n",
    "predict_news()"
   ]
  },
  {
   "cell_type": "code",
   "execution_count": 25,
   "id": "bedcd1fc-c008-4d07-88ca-b1ecc9e098cc",
   "metadata": {},
   "outputs": [
    {
     "name": "stdin",
     "output_type": "stream",
     "text": [
      "\n",
      "Enter the news article (or type 'exit' to quit):  Woman sentenced in case that sparked Springfield cat-eating rumours\n"
     ]
    },
    {
     "name": "stdout",
     "output_type": "stream",
     "text": [
      "Prediction: FAKE News ❌\n"
     ]
    },
    {
     "name": "stdin",
     "output_type": "stream",
     "text": [
      "\n",
      "Enter the news article (or type 'exit' to quit):  Whirlwind of misinformation sows distrust ahead of US election day\n"
     ]
    },
    {
     "name": "stdout",
     "output_type": "stream",
     "text": [
      "Prediction: FAKE News ❌\n"
     ]
    },
    {
     "name": "stdin",
     "output_type": "stream",
     "text": [
      "\n",
      "Enter the news article (or type 'exit' to quit):  Singer kalpana attempted sucide yesterday\n"
     ]
    },
    {
     "name": "stdout",
     "output_type": "stream",
     "text": [
      "Prediction: FAKE News ❌\n"
     ]
    },
    {
     "name": "stdin",
     "output_type": "stream",
     "text": [
      "\n",
      "Enter the news article (or type 'exit' to quit):  Cissy Houston: The Grammy award-winning singer and mother of Whitney Houston died at age 91.\n"
     ]
    },
    {
     "name": "stdout",
     "output_type": "stream",
     "text": [
      "Prediction: FAKE News ❌\n"
     ]
    },
    {
     "name": "stdin",
     "output_type": "stream",
     "text": [
      "\n",
      "Enter the news article (or type 'exit' to quit):  Cissy Houston: The Grammy award-winning singer and mother of Whitney Houston died at age 91\n"
     ]
    },
    {
     "name": "stdout",
     "output_type": "stream",
     "text": [
      "Prediction: FAKE News ❌\n"
     ]
    },
    {
     "name": "stdin",
     "output_type": "stream",
     "text": [
      "\n",
      "Enter the news article (or type 'exit' to quit):  exit\n"
     ]
    }
   ],
   "source": [
    "def predict_news():\n",
    "    while True:\n",
    "        news_text = input(\"\\nEnter the news article (or type 'exit' to quit): \")\n",
    "        if news_text.lower() == \"exit\":\n",
    "            break  # Stop when the user types 'exit'\n",
    "\n",
    "        prediction = predict_ensemble_softmax(news_text)\n",
    "\n",
    "        if prediction is None:\n",
    "            print(\"Invalid input. Please enter valid text.\")\n",
    "        elif prediction == 1:\n",
    "            print(\"Prediction: FAKE News ❌\")\n",
    "        else:\n",
    "            print(\"Prediction: REAL News ✅\")\n",
    "# Start prediction\n",
    "predict_news()"
   ]
  },
  {
   "cell_type": "code",
   "execution_count": null,
   "id": "8b4bc0fd-101c-4d88-9880-b04793599a7b",
   "metadata": {},
   "outputs": [],
   "source": []
  }
 ],
 "metadata": {
  "kernelspec": {
   "display_name": "Python 3 (ipykernel)",
   "language": "python",
   "name": "python3"
  },
  "language_info": {
   "codemirror_mode": {
    "name": "ipython",
    "version": 3
   },
   "file_extension": ".py",
   "mimetype": "text/x-python",
   "name": "python",
   "nbconvert_exporter": "python",
   "pygments_lexer": "ipython3",
   "version": "3.12.4"
  }
 },
 "nbformat": 4,
 "nbformat_minor": 5
}
