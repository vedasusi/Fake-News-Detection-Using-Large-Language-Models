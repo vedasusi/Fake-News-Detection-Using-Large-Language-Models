{
 "cells": [
  {
   "cell_type": "code",
   "execution_count": null,
   "metadata": {
    "_cell_guid": "b1076dfc-b9ad-4769-8c92-a6c4dae69d19",
    "_uuid": "8f2839f25d086af736a60e9eeb907d3b93b6e0e5"
   },
   "outputs": [],
   "source": [
    "import numpy as np # linear algebra\n",
    "import pandas as pd # data processing, CSV file I/O (e.g. pd.read_csv)\n",
    "\n",
    "import os\n",
    "for dirname, _, filenames in os.walk('/kaggle/input'):\n",
    "    for filename in filenames:\n",
    "        print(os.path.join(dirname, filename))\n"
   ]
  },
  {
   "cell_type": "code",
   "execution_count": 2,
   "metadata": {
    "execution": {
     "iopub.execute_input": "2025-03-08T01:01:44.615659Z",
     "iopub.status.busy": "2025-03-08T01:01:44.615330Z",
     "iopub.status.idle": "2025-03-08T01:02:17.445398Z",
     "shell.execute_reply": "2025-03-08T01:02:17.444603Z",
     "shell.execute_reply.started": "2025-03-08T01:01:44.615638Z"
    }
   },
   "outputs": [],
   "source": [
    "import pandas as pd\n",
    "import numpy as np\n",
    "from sklearn.model_selection import train_test_split\n",
    "from transformers import MBartTokenizer, MBartForSequenceClassification, Trainer, TrainingArguments\n",
    "from datasets import Dataset\n",
    "from sklearn.metrics import accuracy_score, precision_score, recall_score, f1_score"
   ]
  },
  {
   "cell_type": "code",
   "execution_count": 5,
   "metadata": {
    "execution": {
     "iopub.execute_input": "2025-03-08T01:09:56.908530Z",
     "iopub.status.busy": "2025-03-08T01:09:56.908179Z",
     "iopub.status.idle": "2025-03-08T01:09:56.913773Z",
     "shell.execute_reply": "2025-03-08T01:09:56.912564Z",
     "shell.execute_reply.started": "2025-03-08T01:09:56.908505Z"
    }
   },
   "outputs": [
    {
     "name": "stdout",
     "output_type": "stream",
     "text": [
      "\n"
     ]
    }
   ],
   "source": [
    "data = pd.read_csv(\"final_data.csv\")"
   ]
  },
  {
   "cell_type": "code",
   "execution_count": 6,
   "metadata": {
    "execution": {
     "iopub.execute_input": "2025-03-08T01:10:27.428584Z",
     "iopub.status.busy": "2025-03-08T01:10:27.428228Z",
     "iopub.status.idle": "2025-03-08T01:10:27.432785Z",
     "shell.execute_reply": "2025-03-08T01:10:27.431588Z",
     "shell.execute_reply.started": "2025-03-08T01:10:27.428559Z"
    }
   },
   "outputs": [
    {
     "name": "stdout",
     "output_type": "stream",
     "text": [
      "\n"
     ]
    }
   ],
   "source": [
    "data['text'] = data['text'].astype(str)\n",
    "data['label'] = data['label'].astype(int)\n"
   ]
  },
  {
   "cell_type": "code",
   "execution_count": 10,
   "metadata": {
    "execution": {
     "iopub.execute_input": "2025-03-08T01:15:26.770432Z",
     "iopub.status.busy": "2025-03-08T01:15:26.770102Z",
     "iopub.status.idle": "2025-03-08T01:15:26.775970Z",
     "shell.execute_reply": "2025-03-08T01:15:26.774140Z",
     "shell.execute_reply.started": "2025-03-08T01:15:26.770407Z"
    }
   },
   "outputs": [
    {
     "name": "stdout",
     "output_type": "stream",
     "text": [
      "Training Data Size: 800\n",
      "Testing Data Size: 200\n"
     ]
    }
   ],
   "source": [
    "train_data, test_data = train_test_split(data, test_size=0.2, random_state=42)"
   ]
  },
  {
   "cell_type": "code",
   "execution_count": 11,
   "metadata": {
    "execution": {
     "iopub.execute_input": "2025-03-08T01:16:35.153846Z",
     "iopub.status.busy": "2025-03-08T01:16:35.153425Z",
     "iopub.status.idle": "2025-03-08T01:16:35.157946Z",
     "shell.execute_reply": "2025-03-08T01:16:35.157110Z",
     "shell.execute_reply.started": "2025-03-08T01:16:35.153811Z"
    }
   },
   "outputs": [
    {
     "name": "stdout",
     "output_type": "stream",
     "text": [
      "\n"
     ]
    }
   ],
   "source": [
    "train_dataset = Dataset.from_pandas(train_data)\n",
    "test_dataset = Dataset.from_pandas(test_data)"
   ]
  },
  {
   "cell_type": "code",
   "execution_count": 12,
   "metadata": {
    "execution": {
     "iopub.execute_input": "2025-03-08T01:17:10.226524Z",
     "iopub.status.busy": "2025-03-08T01:17:10.226094Z",
     "iopub.status.idle": "2025-03-08T01:17:10.232360Z",
     "shell.execute_reply": "2025-03-08T01:17:10.230846Z",
     "shell.execute_reply.started": "2025-03-08T01:17:10.226491Z"
    }
   },
   "outputs": [
    {
     "name": "stdout",
     "output_type": "stream",
     "text": [
      "Tokenizer is ready for use.\n"
     ]
    }
   ],
   "source": [
    "tokenizer = MBartTokenizer.from_pretrained(\"facebook/mbart-large-cc25\")"
   ]
  },
  {
   "cell_type": "code",
   "execution_count": 14,
   "metadata": {
    "execution": {
     "iopub.execute_input": "2025-03-08T01:18:51.634811Z",
     "iopub.status.busy": "2025-03-08T01:18:51.634338Z",
     "iopub.status.idle": "2025-03-08T01:18:51.640158Z",
     "shell.execute_reply": "2025-03-08T01:18:51.638984Z",
     "shell.execute_reply.started": "2025-03-08T01:18:51.634778Z"
    }
   },
   "outputs": [
    {
     "name": "stdout",
     "output_type": "stream",
     "text": [
      "\n"
     ]
    }
   ],
   "source": [
    "def tokenize_function(examples):\n",
    "    return tokenizer(examples['text'], padding=\"max_length\", truncation=True, max_length=512)\n"
   ]
  },
  {
   "cell_type": "code",
   "execution_count": 28,
   "metadata": {
    "execution": {
     "iopub.execute_input": "2025-03-08T01:48:16.210824Z",
     "iopub.status.busy": "2025-03-08T01:48:16.210502Z",
     "iopub.status.idle": "2025-03-08T01:48:19.759876Z",
     "shell.execute_reply": "2025-03-08T01:48:19.758496Z",
     "shell.execute_reply.started": "2025-03-08T01:48:16.210798Z"
    }
   },
   "outputs": [
    {
     "name": "stderr",
     "output_type": "stream",
     "text": [
      "\u001b[30mMap: 100%: 100%|████████████████████████████████████████\u001b[0m 15263/15263 [00:02<00:00, 5381.52it/s]\u001b[0m\n",
      "\u001b[30mMap: 100%: 100%|████████████████████████████████████████\u001b[0m 3816/3816 [00:00<00:00, 5463.93it/s]\u001b[0m\n"
     ]
    }
   ],
   "source": [
    "train_dataset = train_dataset.map(tokenize_function, batched=True)\n",
    "test_dataset = test_dataset.map(tokenize_function, batched=True)"
   ]
  },
  {
   "cell_type": "code",
   "execution_count": 31,
   "metadata": {
    "execution": {
     "iopub.execute_input": "2025-03-08T01:54:35.093255Z",
     "iopub.status.busy": "2025-03-08T01:54:35.092943Z",
     "iopub.status.idle": "2025-03-08T01:54:35.097774Z",
     "shell.execute_reply": "2025-03-08T01:54:35.096828Z",
     "shell.execute_reply.started": "2025-03-08T01:54:35.093228Z"
    }
   },
   "outputs": [
    {
     "name": "stderr",
     "output_type": "stream",
     "text": [
      "<ipython-input-31-1a5fb0a9c301>:8: UserWarning: \n",
      "Some weights of MBartForSequenceClassification were not initialized from the model checkpoint at facebook/mbart-large-cc25 and are newly initialized: \n",
      "['classifier.dense.bias', 'classifier.dense.weight', 'classifier.out_proj.bias', 'classifier.out_proj.weight']\n",
      "You should probably TRAIN this model on a down-stream task to be able to use it for predictions and inference.\n",
      "\n",
      "  warnings.warn(warning_message)\n"
     ]
    }
   ],
   "source": [
    "model = MBartForSequenceClassification.from_pretrained(\"facebook/mbart-large-cc25\", num_labels=2)"
   ]
  },
  {
   "cell_type": "code",
   "execution_count": 32,
   "metadata": {
    "execution": {
     "iopub.execute_input": "2025-03-08T01:55:44.303758Z",
     "iopub.status.busy": "2025-03-08T01:55:44.303363Z",
     "iopub.status.idle": "2025-03-08T01:55:44.310021Z",
     "shell.execute_reply": "2025-03-08T01:55:44.308731Z",
     "shell.execute_reply.started": "2025-03-08T01:55:44.303723Z"
    }
   },
   "outputs": [
    {
     "name": "stderr",
     "output_type": "stream",
     "text": [
      "/usr/local/lib/python3.10/dist-packages/IPython/core/interactiveshell.py:3553: FutureWarning: \n",
      "C:\\Users\\archana\\anaconda3\\Lib\\site-packages\\transformers\\training_args.py:1559: FutureWarning: `evaluation_strategy` is deprecated and will be removed in version 4.46 of 🤗 Transformers. Use `eval_strategy` instead.\n",
      "\n",
      "  exec(code_obj, self.user_global_ns, self.user_ns)\n"
     ]
    }
   ],
   "source": [
    "training_args = TrainingArguments(\n",
    "    output_dir=\"./results\",\n",
    "    evaluation_strategy=\"epoch\",\n",
    "    learning_rate=2e-5,\n",
    "    per_device_train_batch_size=8,\n",
    "    per_device_eval_batch_size=8,\n",
    "    num_train_epochs=3,\n",
    "    weight_decay=0.01,\n",
    "    logging_dir=\"./logs\",\n",
    "    logging_steps=10,\n",
    ")\n"
   ]
  },
  {
   "cell_type": "code",
   "execution_count": 33,
   "metadata": {
    "execution": {
     "iopub.execute_input": "2025-03-08T01:58:23.727186Z",
     "iopub.status.busy": "2025-03-08T01:58:23.726790Z",
     "iopub.status.idle": "2025-03-08T01:58:23.733083Z",
     "shell.execute_reply": "2025-03-08T01:58:23.732005Z",
     "shell.execute_reply.started": "2025-03-08T01:58:23.727152Z"
    }
   },
   "outputs": [],
   "source": [
    "def compute_metrics(p):\n",
    "    preds = np.argmax(p.predictions, axis=1)\n",
    "    labels = p.label_ids\n",
    "    accuracy = accuracy_score(labels, preds)\n",
    "    precision = precision_score(labels, preds)\n",
    "    recall = recall_score(labels, preds)\n",
    "    f1 = f1_score(labels, preds)\n",
    "    return {\n",
    "        \"accuracy\": accuracy,\n",
    "        \"precision\": precision,\n",
    "        \"recall\": recall,\n",
    "        \"f1\": f1,\n",
    "    }\n"
   ]
  },
  {
   "cell_type": "code",
   "execution_count": 34,
   "metadata": {
    "execution": {
     "iopub.execute_input": "2025-03-08T01:59:10.039943Z",
     "iopub.status.busy": "2025-03-08T01:59:10.039655Z",
     "iopub.status.idle": "2025-03-08T01:59:10.045411Z",
     "shell.execute_reply": "2025-03-08T01:59:10.043987Z",
     "shell.execute_reply.started": "2025-03-08T01:59:10.039920Z"
    }
   },
   "outputs": [
    {
     "name": "stderr",
     "output_type": "stream",
     "text": [
      "/usr/local/lib/python3.10/dist-packages/IPython/core/interactiveshell.py:3553: FutureWarning: \n",
      "C:\\Users\\golla\\AppData\\Local\\Temp\\ipykernel_4928\\1682246292.py:4: FutureWarning: `tokenizer` is deprecated and will be removed in version 5.0.0 for `Trainer.__init__`. Use `processing_class` instead.\n",
      "  trainer = Trainer(\n",
      "\n",
      "  exec(code_obj, self.user_global_ns, self.user_ns)\n"
     ]
    }
   ],
   "source": [
    "trainer = Trainer(\n",
    "    model=model,\n",
    "    args=training_args,\n",
    "    train_dataset=train_dataset,\n",
    "    eval_dataset=test_dataset,\n",
    "    tokenizer=tokenizer,\n",
    "    compute_metrics=compute_metrics,\n",
    ")"
   ]
  },
  {
   "cell_type": "code",
   "execution_count": 38,
   "metadata": {
    "execution": {
     "iopub.execute_input": "2025-03-08T02:18:37.348163Z",
     "iopub.status.busy": "2025-03-08T02:18:37.347724Z",
     "iopub.status.idle": "2025-03-08T02:18:37.386721Z",
     "shell.execute_reply": "2025-03-08T02:18:37.385183Z",
     "shell.execute_reply.started": "2025-03-08T02:18:37.348129Z"
    }
   },
   "outputs": [
    {
     "name": "stdout",
     "output_type": "stream",
     "text": [
      " Epoch Training Loss  Validation Loss\n",
      "     1        No log         0.280634\n",
      "     2        No log         0.307996\n",
      "     3        0.3034         0.255545\n",
      "\n",
      "TrainOutput(global_step=594, training_loss=0.2914544757367786, metrics={'train_runtime': 51536.6669, 'train_samples_per_second': 0.092, 'train_steps_per_second': 0.012, 'total_flos': 1247935735572480.0, 'train_loss': 0.2914544757367786, 'epoch': 3.0})\n"
     ]
    }
   ],
   "source": [
    "trainer.train()"
   ]
  },
  {
   "cell_type": "code",
   "execution_count": null,
   "metadata": {},
   "outputs": [],
   "source": [
    "eval_results = trainer.evaluate()\n",
    "print(\"Evaluation Results:\", eval_results)\n"
   ]
  },
  {
   "cell_type": "code",
   "execution_count": 39,
   "metadata": {
    "execution": {
     "iopub.execute_input": "2025-03-08T02:19:39.079175Z",
     "iopub.status.busy": "2025-03-08T02:19:39.078755Z",
     "iopub.status.idle": "2025-03-08T02:19:39.086026Z",
     "shell.execute_reply": "2025-03-08T02:19:39.084548Z",
     "shell.execute_reply.started": "2025-03-08T02:19:39.079146Z"
    }
   },
   "outputs": [
    {
     "name": "stdout",
     "output_type": "stream",
     "text": [
      "('./fake-news-multilingual\\\\tokenizer_config.json', './fake-news-multilingual\\\\special_tokens_map.json', './fake-news-multilingual\\\\sentencepiece.bpe.model', './fake-news-multilingual\\\\added_tokens.json', './fake-news-multilingual\\\\tokenizer.json')\n"
     ]
    }
   ],
   "source": [
    "model.save_pretrained(\"./fake_news_mbart_model\")\n",
    "tokenizer.save_pretrained(\"./fake_news_mbart_tokenizer\")"
   ]
  },
  {
   "cell_type": "code",
   "execution_count": 40,
   "metadata": {
    "execution": {
     "iopub.execute_input": "2025-03-08T02:23:59.614064Z",
     "iopub.status.busy": "2025-03-08T02:23:59.613695Z",
     "iopub.status.idle": "2025-03-08T02:23:59.618854Z",
     "shell.execute_reply": "2025-03-08T02:23:59.617873Z",
     "shell.execute_reply.started": "2025-03-08T02:23:59.614033Z"
    }
   },
   "outputs": [],
   "source": [
    "def predict_fake_news(text):\n",
    "    inputs = tokenizer(text, return_tensors=\"pt\", padding=True, truncation=True, max_length=512)\n",
    "    outputs = model(**inputs)\n",
    "    probs = outputs.logits.softmax(dim=1)\n",
    "    pred = probs.argmax().item()\n",
    "    return \"Fake\" if pred == 1 else \"Real\""
   ]
  },
  {
   "cell_type": "code",
   "execution_count": 41,
   "metadata": {
    "execution": {
     "iopub.execute_input": "2025-03-08T02:26:07.863418Z",
     "iopub.status.busy": "2025-03-08T02:26:07.863111Z",
     "iopub.status.idle": "2025-03-08T02:26:07.868050Z",
     "shell.execute_reply": "2025-03-08T02:26:07.866733Z",
     "shell.execute_reply.started": "2025-03-08T02:26:07.863396Z"
    }
   },
   "outputs": [
    {
     "name": "stdout",
     "output_type": "stream",
     "text": [
      "Fake\n"
     ]
    }
   ],
   "source": [
    "sample_text = \"Aliens were discovered in the asteroid Bennu sample returned by NASA's OSIRIS-REx mission, confirming extraterrestrial life.\"\n",
    "print(f\"Prediction: {predict_fake_news(sample_text)}\")"
   ]
  },
  {
   "cell_type": "code",
   "execution_count": 3,
   "metadata": {
    "execution": {
     "iopub.execute_input": "2025-03-08T04:12:15.379768Z",
     "iopub.status.busy": "2025-03-08T04:12:15.379444Z",
     "iopub.status.idle": "2025-03-08T04:12:15.385285Z",
     "shell.execute_reply": "2025-03-08T04:12:15.384088Z",
     "shell.execute_reply.started": "2025-03-08T04:12:15.379744Z"
    }
   },
   "outputs": [
    {
     "name": "stdout",
     "output_type": "stream",
     "text": [
      "Accuracy: 82.00%\n"
     ]
    }
   ],
   "source": [
    "accuracy = accuracy_score(y_true, y_pred)\n",
    "print(f\"\\nAccuracy: {accuracy * 100:.2f}%\")"
   ]
  },
  {
   "cell_type": "code",
   "execution_count": 45,
   "metadata": {
    "execution": {
     "iopub.execute_input": "2025-03-08T02:31:05.230485Z",
     "iopub.status.busy": "2025-03-08T02:31:05.230140Z",
     "iopub.status.idle": "2025-03-08T02:31:05.330260Z",
     "shell.execute_reply": "2025-03-08T02:31:05.329217Z",
     "shell.execute_reply.started": "2025-03-08T02:31:05.230445Z"
    }
   },
   "outputs": [
    {
     "data": {
      "image/png": "[encoded data removed]",
      "text/plain": [
       "<Figure size 800x600 with 1 Axes>"
      ]
     },
     "metadata": {},
     "output_type": "display_data"
    }
   ],
   "source": [
    "from sklearn.metrics import confusion_matrix\n",
    "import matplotlib.pyplot as plt\n",
    "import seaborn as sns\n",
    "\n",
    "cm = confusion_matrix(y_true, y_pred)\n",
    "\n",
    "print(\"Confusion Matrix:\")\n",
    "print(cm)\n",
    "plt.figure(figsize=(6, 6))\n",
    "sns.heatmap(cm, annot=True, fmt=\"d\", cmap=\"Blues\", cbar=False,\n",
    "            xticklabels=[\"Real\", \"Fake\"], yticklabels=[\"Real\", \"Fake\"])\n",
    "plt.xlabel(\"Predicted\")\n",
    "plt.ylabel(\"Actual\")\n",
    "plt.title(\"Confusion Matrix\")\n",
    "plt.show()"
   ]
  },
  {
   "cell_type": "code",
   "execution_count": null,
   "metadata": {},
   "outputs": [],
   "source": []
  },
  {
   "cell_type": "code",
   "execution_count": null,
   "metadata": {},
   "outputs": [],
   "source": []
  },
  {
   "cell_type": "code",
   "execution_count": null,
   "metadata": {},
   "outputs": [],
   "source": []
  },
  {
   "cell_type": "code",
   "execution_count": null,
   "metadata": {},
   "outputs": [],
   "source": []
  },
  {
   "cell_type": "code",
   "execution_count": null,
   "metadata": {},
   "outputs": [],
   "source": []
  },
  {
   "cell_type": "code",
   "execution_count": null,
   "metadata": {},
   "outputs": [],
   "source": []
  },
  {
   "cell_type": "code",
   "execution_count": null,
   "metadata": {},
   "outputs": [],
   "source": []
  },
  {
   "cell_type": "code",
   "execution_count": null,
   "metadata": {},
   "outputs": [],
   "source": []
  },
  {
   "cell_type": "code",
   "execution_count": null,
   "metadata": {},
   "outputs": [],
   "source": []
  },
  {
   "cell_type": "code",
   "execution_count": null,
   "metadata": {},
   "outputs": [],
   "source": []
  },
  {
   "cell_type": "code",
   "execution_count": null,
   "metadata": {},
   "outputs": [],
   "source": []
  },
  {
   "cell_type": "code",
   "execution_count": null,
   "metadata": {},
   "outputs": [],
   "source": []
  },
  {
   "cell_type": "code",
   "execution_count": null,
   "metadata": {},
   "outputs": [],
   "source": []
  },
  {
   "cell_type": "code",
   "execution_count": null,
   "metadata": {},
   "outputs": [],
   "source": []
  },
  {
   "cell_type": "code",
   "execution_count": null,
   "metadata": {},
   "outputs": [],
   "source": []
  },
  {
   "cell_type": "code",
   "execution_count": null,
   "metadata": {},
   "outputs": [],
   "source": []
  },
  {
   "cell_type": "code",
   "execution_count": null,
   "metadata": {},
   "outputs": [],
   "source": []
  },
  {
   "cell_type": "code",
   "execution_count": null,
   "metadata": {},
   "outputs": [],
   "source": []
  },
  {
   "cell_type": "code",
   "execution_count": null,
   "metadata": {},
   "outputs": [],
   "source": []
  },
  {
   "cell_type": "code",
   "execution_count": null,
   "metadata": {},
   "outputs": [],
   "source": []
  }
 ],
 "metadata": {
  "kaggle": {
   "accelerator": "none",
   "dataSources": [
    {
     "datasetId": 6815368,
     "sourceId": 10955414,
     "sourceType": "datasetVersion"
    }
   ],
   "dockerImageVersionId": 30918,
   "isGpuEnabled": false,
   "isInternetEnabled": false,
   "language": "python",
   "sourceType": "notebook"
  },
  "kernelspec": {
   "display_name": "Python 3 (ipykernel)",
   "language": "python",
   "name": "python3"
  },
  "language_info": {
   "codemirror_mode": {
    "name": "ipython",
    "version": 3
   },
   "file_extension": ".py",
   "mimetype": "text/x-python",
   "name": "python",
   "nbconvert_exporter": "python",
   "pygments_lexer": "ipython3",
   "version": "3.12.4"
  }
 },
 "nbformat": 4,
 "nbformat_minor": 4
}
