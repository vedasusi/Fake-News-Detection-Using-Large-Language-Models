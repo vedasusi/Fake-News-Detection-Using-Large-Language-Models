{
 "cells": [
  {
   "cell_type": "markdown",
   "id": "ab2f6af7-f76f-4c15-84c1-c0f65d0d98d6",
   "metadata": {},
   "source": [
    "mBERT (Multilingual BERT) is a pre-trained transformer model developed by Google, designed to handle multiple languages using a single model. It is trained on Wikipedia text in 104 languages using a masked language modeling (MLM) objective.\n",
    "\n",
    "In fake news detection project, mBERT is likely being used for:\n",
    "\n",
    "Text Embeddings: Converting news text into meaningful vector representations.\n",
    "\n",
    "Classification: Fine-tuning mBERT on a labeled dataset to classify news as real or fake.\n",
    "\n",
    "Tokenizer: Using DistilBertTokenizerFast or BertTokenizer to preprocess text before feeding it into the model."
   ]
  },
  {
   "cell_type": "code",
   "execution_count": 31,
   "id": "bd5aa227-b4b9-459c-9aa5-5cb805bfdb03",
   "metadata": {},
   "outputs": [],
   "source": [
    "import pandas as pd\n",
    "import torch\n",
    "from sklearn.model_selection import train_test_split\n",
    "from transformers import BertTokenizer, BertForSequenceClassification, Trainer, TrainingArguments\n",
    "from datasets import Dataset\n",
    "import tensorflow as tf\n",
    "from tensorflow import keras\n",
    "from transformers import TrainingArguments"
   ]
  },
  {
   "cell_type": "code",
   "execution_count": 37,
   "id": "bf73c827-46ff-4f67-846a-3d5165756e8d",
   "metadata": {},
   "outputs": [
    {
     "name": "stdout",
     "output_type": "stream",
     "text": [
      "(2000, 2)\n"
     ]
    }
   ],
   "source": [
    "import pandas as pd\n",
    "\n",
    "# Load dataset\n",
    "dff = pd.read_csv(\"final_data.csv\")\n",
    "\n",
    "# Select first 5000 rows\n",
    "first_5k = dff.iloc[:5000]\n",
    "\n",
    "# Select last 15000 rows\n",
    "last_15k = dff.iloc[5000:]\n",
    "\n",
    "# Take 500 random rows from the first 5k\n",
    "subset_1 = first_5k.sample(n=500, random_state=42)\n",
    "\n",
    "# Take 1500 random rows from the last 15k\n",
    "subset_2 = last_15k.sample(n=1500, random_state=42)\n",
    "\n",
    "# Combine both subsets\n",
    "df = pd.concat([subset_1, subset_2])\n",
    "\n",
    "# Shuffle final dataset (optional)\n",
    "df = df.sample(frac=1, random_state=42).reset_index(drop=True)\n",
    "\n",
    "# Print dataset size\n",
    "print(df.shape)  # Should be (2000, columns)\n"
   ]
  },
  {
   "cell_type": "code",
   "execution_count": 39,
   "id": "c4c9175e-312e-4433-aa09-208cedd1cc7b",
   "metadata": {},
   "outputs": [
    {
     "data": {
      "text/html": [
       "<div>\n",
       "<style scoped>\n",
       "    .dataframe tbody tr th:only-of-type {\n",
       "        vertical-align: middle;\n",
       "    }\n",
       "\n",
       "    .dataframe tbody tr th {\n",
       "        vertical-align: top;\n",
       "    }\n",
       "\n",
       "    .dataframe thead th {\n",
       "        text-align: right;\n",
       "    }\n",
       "</style>\n",
       "<table border=\"1\" class=\"dataframe\">\n",
       "  <thead>\n",
       "    <tr style=\"text-align: right;\">\n",
       "      <th></th>\n",
       "      <th>text</th>\n",
       "      <th>label</th>\n",
       "    </tr>\n",
       "  </thead>\n",
       "  <tbody>\n",
       "    <tr>\n",
       "      <th>0</th>\n",
       "      <td>दुनिया में सबसे अधिक कर राष्ट्र थे।</td>\n",
       "      <td>1</td>\n",
       "    </tr>\n",
       "    <tr>\n",
       "      <th>1</th>\n",
       "      <td>doral, fla./washington (reuters) - u.s. republ...</td>\n",
       "      <td>0</td>\n",
       "    </tr>\n",
       "    <tr>\n",
       "      <th>2</th>\n",
       "      <td>ஜோன் க்ளோப்பன்பர்க் ஒரு சமமான சமுதாயத்தை ஊக்கு...</td>\n",
       "      <td>0</td>\n",
       "    </tr>\n",
       "    <tr>\n",
       "      <th>3</th>\n",
       "      <td>SEATTLE (रायटर) - सिएटल की नगर परिषद ने सर्वसम...</td>\n",
       "      <td>0</td>\n",
       "    </tr>\n",
       "    <tr>\n",
       "      <th>4</th>\n",
       "      <td>जब अन्य लोगों के पैसे वेनेजुएला में एक एनजीओ क...</td>\n",
       "      <td>1</td>\n",
       "    </tr>\n",
       "    <tr>\n",
       "      <th>5</th>\n",
       "      <td>वाशिंगटन (रायटर) - राष्ट्रपति डोनाल्ड ट्रम्प क...</td>\n",
       "      <td>0</td>\n",
       "    </tr>\n",
       "    <tr>\n",
       "      <th>6</th>\n",
       "      <td>फॉक्स न्यूज ने राष्ट्रपति ओबामा को एक बार डोना...</td>\n",
       "      <td>1</td>\n",
       "    </tr>\n",
       "    <tr>\n",
       "      <th>7</th>\n",
       "      <td>सबसे खराब मंदी के दो साल बाद हम में से अधिकांश...</td>\n",
       "      <td>0</td>\n",
       "    </tr>\n",
       "    <tr>\n",
       "      <th>8</th>\n",
       "      <td>washington (reuters) - during a visit from sin...</td>\n",
       "      <td>0</td>\n",
       "    </tr>\n",
       "    <tr>\n",
       "      <th>9</th>\n",
       "      <td>మాజీ హౌస్ స్పీకర్ న్యూట్ జిన్రిచ్ ఆర్థిక వృద్ధ...</td>\n",
       "      <td>1</td>\n",
       "    </tr>\n",
       "    <tr>\n",
       "      <th>10</th>\n",
       "      <td>washington (reuters) - commissioner maureen oh...</td>\n",
       "      <td>0</td>\n",
       "    </tr>\n",
       "    <tr>\n",
       "      <th>11</th>\n",
       "      <td>डोनाल्ड ट्रम्प के अपने दूसरे अंतरराष्ट्रीय दौर...</td>\n",
       "      <td>1</td>\n",
       "    </tr>\n",
       "    <tr>\n",
       "      <th>12</th>\n",
       "      <td>2016 ஜனாதிபதித் தேர்தல் ஹிலாரி கிளிண்டன் மற்று...</td>\n",
       "      <td>1</td>\n",
       "    </tr>\n",
       "    <tr>\n",
       "      <th>13</th>\n",
       "      <td>కాంగ్రెస్‌లో మీ ఉత్తమ ప్రయోజనాల కోసం ఎవరైనా ని...</td>\n",
       "      <td>1</td>\n",
       "    </tr>\n",
       "    <tr>\n",
       "      <th>14</th>\n",
       "      <td>washington (reuters) - u.s. democratic preside...</td>\n",
       "      <td>0</td>\n",
       "    </tr>\n",
       "    <tr>\n",
       "      <th>15</th>\n",
       "      <td>jason carter actually opposed more funding for...</td>\n",
       "      <td>0</td>\n",
       "    </tr>\n",
       "    <tr>\n",
       "      <th>16</th>\n",
       "      <td>वाशिंगटन (रायटर) - एक यू.एस.सीनेट पैनल ने एक स...</td>\n",
       "      <td>0</td>\n",
       "    </tr>\n",
       "    <tr>\n",
       "      <th>17</th>\n",
       "      <td>washington (reuters) - u.s. secretary of state...</td>\n",
       "      <td>0</td>\n",
       "    </tr>\n",
       "    <tr>\n",
       "      <th>18</th>\n",
       "      <td>ఆదివారం రాత్రి చర్చలో డొనాల్డ్ ట్రంప్ పదేపదే అ...</td>\n",
       "      <td>1</td>\n",
       "    </tr>\n",
       "    <tr>\n",
       "      <th>19</th>\n",
       "      <td>మీరు మీ గురించి తెల్లగా ఉండటాన్ని పరిగణనలోకి త...</td>\n",
       "      <td>1</td>\n",
       "    </tr>\n",
       "  </tbody>\n",
       "</table>\n",
       "</div>"
      ],
      "text/plain": [
       "                                                 text  label\n",
       "0                 दुनिया में सबसे अधिक कर राष्ट्र थे।      1\n",
       "1   doral, fla./washington (reuters) - u.s. republ...      0\n",
       "2   ஜோன் க்ளோப்பன்பர்க் ஒரு சமமான சமுதாயத்தை ஊக்கு...      0\n",
       "3   SEATTLE (रायटर) - सिएटल की नगर परिषद ने सर्वसम...      0\n",
       "4   जब अन्य लोगों के पैसे वेनेजुएला में एक एनजीओ क...      1\n",
       "5   वाशिंगटन (रायटर) - राष्ट्रपति डोनाल्ड ट्रम्प क...      0\n",
       "6   फॉक्स न्यूज ने राष्ट्रपति ओबामा को एक बार डोना...      1\n",
       "7   सबसे खराब मंदी के दो साल बाद हम में से अधिकांश...      0\n",
       "8   washington (reuters) - during a visit from sin...      0\n",
       "9   మాజీ హౌస్ స్పీకర్ న్యూట్ జిన్రిచ్ ఆర్థిక వృద్ధ...      1\n",
       "10  washington (reuters) - commissioner maureen oh...      0\n",
       "11  डोनाल्ड ट्रम्प के अपने दूसरे अंतरराष्ट्रीय दौर...      1\n",
       "12  2016 ஜனாதிபதித் தேர்தல் ஹிலாரி கிளிண்டன் மற்று...      1\n",
       "13  కాంగ్రెస్‌లో మీ ఉత్తమ ప్రయోజనాల కోసం ఎవరైనా ని...      1\n",
       "14  washington (reuters) - u.s. democratic preside...      0\n",
       "15  jason carter actually opposed more funding for...      0\n",
       "16  वाशिंगटन (रायटर) - एक यू.एस.सीनेट पैनल ने एक स...      0\n",
       "17  washington (reuters) - u.s. secretary of state...      0\n",
       "18  ఆదివారం రాత్రి చర్చలో డొనాల్డ్ ట్రంప్ పదేపదే అ...      1\n",
       "19  మీరు మీ గురించి తెల్లగా ఉండటాన్ని పరిగణనలోకి త...      1"
      ]
     },
     "execution_count": 39,
     "metadata": {},
     "output_type": "execute_result"
    }
   ],
   "source": [
    "df.head(20)"
   ]
  },
  {
   "cell_type": "code",
   "execution_count": 41,
   "id": "afe8e3ba-d0d3-465f-a1ba-54fa49baea46",
   "metadata": {},
   "outputs": [],
   "source": [
    "# Ensure correct column names\n",
    "df = df.rename(columns={df.columns[0]: \"text\", df.columns[1]: \"label\"})"
   ]
  },
  {
   "cell_type": "code",
   "execution_count": 43,
   "id": "bacb2b85-2d32-43ff-b9d2-8b83cd52d4e0",
   "metadata": {},
   "outputs": [],
   "source": [
    "# Train-test split\n",
    "train_texts, val_texts, train_labels, val_labels = train_test_split(df[\"text\"].tolist(), df[\"label\"].tolist(), test_size=0.2, random_state=42)\n"
   ]
  },
  {
   "cell_type": "code",
   "execution_count": 45,
   "id": "2044626a-66e5-40a0-ad41-f4a3ca28b82c",
   "metadata": {},
   "outputs": [],
   "source": [
    "import os\n",
    "os.environ[\"HF_HUB_DISABLE_SYMLINKS_WARNING\"] = \"1\"\n",
    "\n",
    "# Load tokenizer\n",
    "tokenizer = BertTokenizer.from_pretrained(\"bert-base-multilingual-cased\")\n",
    "\n",
    "def tokenize_function(examples):\n",
    "    return tokenizer(examples[\"text\"], padding=\"max_length\", truncation=True, max_length=512)"
   ]
  },
  {
   "cell_type": "code",
   "execution_count": 47,
   "id": "8bb0246a-ee15-4f18-bc39-9f05777bb6a8",
   "metadata": {},
   "outputs": [],
   "source": [
    "# Convert text column to string and handle missing values\n",
    "df[\"text\"] = df[\"text\"].astype(str)  # Convert all values to string\n",
    "df[\"label\"] = df[\"label\"].astype(int)  # Ensure labels are integers\n"
   ]
  },
  {
   "cell_type": "code",
   "execution_count": 49,
   "id": "1b6cc017-748e-4394-9327-e80c84228d49",
   "metadata": {},
   "outputs": [],
   "source": [
    "train_texts, val_texts, train_labels, val_labels = train_test_split(\n",
    "    df[\"text\"].tolist(), df[\"label\"].tolist(), test_size=0.2, random_state=42\n",
    ")"
   ]
  },
  {
   "cell_type": "code",
   "execution_count": 51,
   "id": "03f345f3-6b0d-434f-93e6-ce279f0a0c75",
   "metadata": {},
   "outputs": [],
   "source": [
    "train_dataset = Dataset.from_dict({\"text\": train_texts, \"label\": train_labels})\n",
    "val_dataset = Dataset.from_dict({\"text\": val_texts, \"label\": val_labels})"
   ]
  },
  {
   "cell_type": "code",
   "execution_count": 53,
   "id": "2bbeadaf-74ab-414a-bb70-af6823aecead",
   "metadata": {},
   "outputs": [],
   "source": [
    "import datasets\n",
    "datasets.disable_progress_bars()"
   ]
  },
  {
   "cell_type": "code",
   "execution_count": 55,
   "id": "d627d063-996c-4655-8235-fbff46c94a2d",
   "metadata": {},
   "outputs": [],
   "source": [
    "# Convert data to Hugging Face Dataset\n",
    "train_dataset = train_dataset.map(tokenize_function, batched=True)\n",
    "val_dataset = val_dataset.map(tokenize_function, batched=True)"
   ]
  },
  {
   "cell_type": "code",
   "execution_count": 57,
   "id": "8267f8c4-5380-4a8c-b26b-fa040aa505ca",
   "metadata": {},
   "outputs": [
    {
     "name": "stdout",
     "output_type": "stream",
     "text": [
      "{'text': 'washington (reuters) - the story headlined “u.s. house tax panel chairman says flexible on mortgage deduction” published at 2050 gmt is withdrawn as u.s. house tax panel chairman kevin brady mistook the question which referred to property tax reductions in the republican tax reform plan announced earlier thursday.  there will be no replacement story.', 'label': 0, 'input_ids': [101, 10134, 30809, 11183, 113, 11639, 54092, 10107, 114, 118, 10105, 13617, 13578, 75066, 100, 189, 119, 187, 119, 13215, 25468, 36387, 27627, 22153, 81816, 10135, 12338, 93794, 10104, 54366, 100, 12304, 10160, 110044, 175, 18193, 10124, 84863, 10146, 189, 119, 187, 119, 13215, 25468, 36387, 27627, 11163, 15478, 67603, 12355, 12606, 86995, 10105, 20210, 10319, 19884, 10114, 18381, 25468, 51608, 10107, 10106, 10105, 108499, 10206, 25468, 34800, 13065, 13854, 18905, 23886, 10943, 24558, 119, 11155, 11337, 10347, 10192, 41636, 13617, 119, 102, 0, 0, 0, 0, 0, 0, 0, 0, 0, 0, 0, 0, 0, 0, 0, 0, 0, 0, 0, 0, 0, 0, 0, 0, 0, 0, 0, 0, 0, 0, 0, 0, 0, 0, 0, 0, 0, 0, 0, 0, 0, 0, 0, 0, 0, 0, 0, 0, 0, 0, 0, 0, 0, 0, 0, 0, 0, 0, 0, 0, 0, 0, 0, 0, 0, 0, 0, 0, 0, 0, 0, 0, 0, 0, 0, 0, 0, 0, 0, 0, 0, 0, 0, 0, 0, 0, 0, 0, 0, 0, 0, 0, 0, 0, 0, 0, 0, 0, 0, 0, 0, 0, 0, 0, 0, 0, 0, 0, 0, 0, 0, 0, 0, 0, 0, 0, 0, 0, 0, 0, 0, 0, 0, 0, 0, 0, 0, 0, 0, 0, 0, 0, 0, 0, 0, 0, 0, 0, 0, 0, 0, 0, 0, 0, 0, 0, 0, 0, 0, 0, 0, 0, 0, 0, 0, 0, 0, 0, 0, 0, 0, 0, 0, 0, 0, 0, 0, 0, 0, 0, 0, 0, 0, 0, 0, 0, 0, 0, 0, 0, 0, 0, 0, 0, 0, 0, 0, 0, 0, 0, 0, 0, 0, 0, 0, 0, 0, 0, 0, 0, 0, 0, 0, 0, 0, 0, 0, 0, 0, 0, 0, 0, 0, 0, 0, 0, 0, 0, 0, 0, 0, 0, 0, 0, 0, 0, 0, 0, 0, 0, 0, 0, 0, 0, 0, 0, 0, 0, 0, 0, 0, 0, 0, 0, 0, 0, 0, 0, 0, 0, 0, 0, 0, 0, 0, 0, 0, 0, 0, 0, 0, 0, 0, 0, 0, 0, 0, 0, 0, 0, 0, 0, 0, 0, 0, 0, 0, 0, 0, 0, 0, 0, 0, 0, 0, 0, 0, 0, 0, 0, 0, 0, 0, 0, 0, 0, 0, 0, 0, 0, 0, 0, 0, 0, 0, 0, 0, 0, 0, 0, 0, 0, 0, 0, 0, 0, 0, 0, 0, 0, 0, 0, 0, 0, 0, 0, 0, 0, 0, 0, 0, 0, 0, 0, 0, 0, 0, 0, 0, 0, 0, 0, 0, 0, 0, 0, 0, 0, 0, 0, 0, 0, 0, 0, 0, 0, 0, 0, 0, 0, 0, 0, 0, 0, 0, 0, 0, 0, 0, 0, 0, 0, 0, 0, 0, 0, 0, 0, 0, 0, 0, 0, 0, 0, 0, 0, 0, 0, 0, 0, 0, 0, 0, 0, 0, 0, 0, 0, 0, 0, 0, 0, 0, 0, 0, 0, 0, 0, 0, 0, 0, 0, 0, 0, 0, 0, 0, 0, 0, 0, 0, 0, 0, 0, 0, 0, 0, 0, 0], 'token_type_ids': [0, 0, 0, 0, 0, 0, 0, 0, 0, 0, 0, 0, 0, 0, 0, 0, 0, 0, 0, 0, 0, 0, 0, 0, 0, 0, 0, 0, 0, 0, 0, 0, 0, 0, 0, 0, 0, 0, 0, 0, 0, 0, 0, 0, 0, 0, 0, 0, 0, 0, 0, 0, 0, 0, 0, 0, 0, 0, 0, 0, 0, 0, 0, 0, 0, 0, 0, 0, 0, 0, 0, 0, 0, 0, 0, 0, 0, 0, 0, 0, 0, 0, 0, 0, 0, 0, 0, 0, 0, 0, 0, 0, 0, 0, 0, 0, 0, 0, 0, 0, 0, 0, 0, 0, 0, 0, 0, 0, 0, 0, 0, 0, 0, 0, 0, 0, 0, 0, 0, 0, 0, 0, 0, 0, 0, 0, 0, 0, 0, 0, 0, 0, 0, 0, 0, 0, 0, 0, 0, 0, 0, 0, 0, 0, 0, 0, 0, 0, 0, 0, 0, 0, 0, 0, 0, 0, 0, 0, 0, 0, 0, 0, 0, 0, 0, 0, 0, 0, 0, 0, 0, 0, 0, 0, 0, 0, 0, 0, 0, 0, 0, 0, 0, 0, 0, 0, 0, 0, 0, 0, 0, 0, 0, 0, 0, 0, 0, 0, 0, 0, 0, 0, 0, 0, 0, 0, 0, 0, 0, 0, 0, 0, 0, 0, 0, 0, 0, 0, 0, 0, 0, 0, 0, 0, 0, 0, 0, 0, 0, 0, 0, 0, 0, 0, 0, 0, 0, 0, 0, 0, 0, 0, 0, 0, 0, 0, 0, 0, 0, 0, 0, 0, 0, 0, 0, 0, 0, 0, 0, 0, 0, 0, 0, 0, 0, 0, 0, 0, 0, 0, 0, 0, 0, 0, 0, 0, 0, 0, 0, 0, 0, 0, 0, 0, 0, 0, 0, 0, 0, 0, 0, 0, 0, 0, 0, 0, 0, 0, 0, 0, 0, 0, 0, 0, 0, 0, 0, 0, 0, 0, 0, 0, 0, 0, 0, 0, 0, 0, 0, 0, 0, 0, 0, 0, 0, 0, 0, 0, 0, 0, 0, 0, 0, 0, 0, 0, 0, 0, 0, 0, 0, 0, 0, 0, 0, 0, 0, 0, 0, 0, 0, 0, 0, 0, 0, 0, 0, 0, 0, 0, 0, 0, 0, 0, 0, 0, 0, 0, 0, 0, 0, 0, 0, 0, 0, 0, 0, 0, 0, 0, 0, 0, 0, 0, 0, 0, 0, 0, 0, 0, 0, 0, 0, 0, 0, 0, 0, 0, 0, 0, 0, 0, 0, 0, 0, 0, 0, 0, 0, 0, 0, 0, 0, 0, 0, 0, 0, 0, 0, 0, 0, 0, 0, 0, 0, 0, 0, 0, 0, 0, 0, 0, 0, 0, 0, 0, 0, 0, 0, 0, 0, 0, 0, 0, 0, 0, 0, 0, 0, 0, 0, 0, 0, 0, 0, 0, 0, 0, 0, 0, 0, 0, 0, 0, 0, 0, 0, 0, 0, 0, 0, 0, 0, 0, 0, 0, 0, 0, 0, 0, 0, 0, 0, 0, 0, 0, 0, 0, 0, 0, 0, 0, 0, 0, 0, 0, 0, 0, 0, 0, 0, 0, 0, 0, 0, 0, 0, 0, 0, 0, 0, 0], 'attention_mask': [1, 1, 1, 1, 1, 1, 1, 1, 1, 1, 1, 1, 1, 1, 1, 1, 1, 1, 1, 1, 1, 1, 1, 1, 1, 1, 1, 1, 1, 1, 1, 1, 1, 1, 1, 1, 1, 1, 1, 1, 1, 1, 1, 1, 1, 1, 1, 1, 1, 1, 1, 1, 1, 1, 1, 1, 1, 1, 1, 1, 1, 1, 1, 1, 1, 1, 1, 1, 1, 1, 1, 1, 1, 1, 1, 1, 1, 1, 1, 1, 1, 1, 1, 0, 0, 0, 0, 0, 0, 0, 0, 0, 0, 0, 0, 0, 0, 0, 0, 0, 0, 0, 0, 0, 0, 0, 0, 0, 0, 0, 0, 0, 0, 0, 0, 0, 0, 0, 0, 0, 0, 0, 0, 0, 0, 0, 0, 0, 0, 0, 0, 0, 0, 0, 0, 0, 0, 0, 0, 0, 0, 0, 0, 0, 0, 0, 0, 0, 0, 0, 0, 0, 0, 0, 0, 0, 0, 0, 0, 0, 0, 0, 0, 0, 0, 0, 0, 0, 0, 0, 0, 0, 0, 0, 0, 0, 0, 0, 0, 0, 0, 0, 0, 0, 0, 0, 0, 0, 0, 0, 0, 0, 0, 0, 0, 0, 0, 0, 0, 0, 0, 0, 0, 0, 0, 0, 0, 0, 0, 0, 0, 0, 0, 0, 0, 0, 0, 0, 0, 0, 0, 0, 0, 0, 0, 0, 0, 0, 0, 0, 0, 0, 0, 0, 0, 0, 0, 0, 0, 0, 0, 0, 0, 0, 0, 0, 0, 0, 0, 0, 0, 0, 0, 0, 0, 0, 0, 0, 0, 0, 0, 0, 0, 0, 0, 0, 0, 0, 0, 0, 0, 0, 0, 0, 0, 0, 0, 0, 0, 0, 0, 0, 0, 0, 0, 0, 0, 0, 0, 0, 0, 0, 0, 0, 0, 0, 0, 0, 0, 0, 0, 0, 0, 0, 0, 0, 0, 0, 0, 0, 0, 0, 0, 0, 0, 0, 0, 0, 0, 0, 0, 0, 0, 0, 0, 0, 0, 0, 0, 0, 0, 0, 0, 0, 0, 0, 0, 0, 0, 0, 0, 0, 0, 0, 0, 0, 0, 0, 0, 0, 0, 0, 0, 0, 0, 0, 0, 0, 0, 0, 0, 0, 0, 0, 0, 0, 0, 0, 0, 0, 0, 0, 0, 0, 0, 0, 0, 0, 0, 0, 0, 0, 0, 0, 0, 0, 0, 0, 0, 0, 0, 0, 0, 0, 0, 0, 0, 0, 0, 0, 0, 0, 0, 0, 0, 0, 0, 0, 0, 0, 0, 0, 0, 0, 0, 0, 0, 0, 0, 0, 0, 0, 0, 0, 0, 0, 0, 0, 0, 0, 0, 0, 0, 0, 0, 0, 0, 0, 0, 0, 0, 0, 0, 0, 0, 0, 0, 0, 0, 0, 0, 0, 0, 0, 0, 0, 0, 0, 0, 0, 0, 0, 0, 0, 0, 0, 0, 0, 0, 0, 0, 0, 0, 0, 0, 0, 0, 0, 0, 0, 0, 0, 0, 0, 0, 0, 0, 0, 0, 0, 0, 0, 0, 0, 0, 0, 0, 0, 0, 0, 0, 0, 0, 0, 0, 0, 0, 0, 0, 0, 0, 0]}\n",
      "{'text': 'BEIRUT (रायटर) - इजरायली मिसाइलों ने दमिश्क और सीरिया की वायु रक्षा प्रणाली के पास एक सैन्य स्थिति मारा, शनिवार को जवाब दिया, उनमें से दो को नष्ट कर दिया, सीरियाई राज्य टेलीविजन ने कहा।इजरायल के दुश्मन ने लॉन्च किया ... एक सैन्य स्थिति की ओर कई सतह-से-सतह मिसाइलें, यह कहा, साइट पर भौतिक नुकसान हुआ था।एक इजरायली सैन्य प्रवक्ता ने रात भर इस तरह के हमले की पहले की रिपोर्टों पर टिप्पणी करने से इनकार कर दिया था।सीरियाई ऑब्जर्वेटरी फॉर ह्यूमन राइट्स ने कहा कि मिसाइल, शायद इजरायल की सेना द्वारा निकाल दी गई, आधी रात के बाद सीरियाई सेना या उसके मित्र देशों की सेनाओं के एक हथियार डिपो को मारा।ब्रिटेन स्थित समूह, जो सीरिया में संपर्कों के एक नेटवर्क के माध्यम से युद्ध की निगरानी करता है, ने कहा कि हमले ने राजधानी दमिश्क के दक्षिण में अल-किसवा शहर के पास हमला किया, जिससे जोर से विस्फोट हुआ।इजरायली वायु सेना ने कहा है कि उसने सीरियाई युद्ध के छह साल से अधिक समय के दौरान सीरियाई सेना और लेबनान के हिजबुल्लाह के हथियारों का काफिला मारा।इज़राइल ने संघर्ष के दौरान ईरान के विस्तार से ईरान के विस्तार से गहराई से चिंतित हो गए हैं, और चेतावनी दी है कि वह अपने क्षेत्रीय दुश्मन तेहरान से किसी भी खतरे के खिलाफ काम करेगा।ईरान ने सीरियाई विद्रोहियों और इस्लामिक स्टेट के आतंकवादियों से लड़ने में राष्ट्रपति बशर अल-असद की सेना को महत्वपूर्ण सहायता प्रदान की है।हिजबुल्लाह सहित ईरान समर्थित शि इटे मिलिशिया ने दमिश्क को देश के स्वाथों पर नियंत्रण हासिल करने में मदद की है।अक्टूबर में दमिश्क की यात्रा पर, ईरान के सैन्य प्रमुख ने इजरायल को सीरियाई हवाई क्षेत्र या क्षेत्र के उल्लंघन के खिलाफ चेतावनी दी।', 'label': 0, 'input_ids': [101, 46291, 73522, 65729, 113, 891, 49604, 57134, 114, 118, 853, 17413, 31277, 13874, 15658, 889, 29822, 11208, 84237, 11497, 13088, 882, 13841, 65475, 28197, 10977, 53596, 93856, 10826, 37038, 69083, 891, 51617, 73652, 10412, 52331, 11186, 898, 38174, 14251, 74038, 32629, 31277, 117, 896, 51230, 52884, 11267, 872, 28960, 18351, 20226, 117, 68993, 54490, 11072, 29784, 11267, 884, 36997, 16192, 20226, 117, 53596, 93856, 15801, 16916, 875, 92344, 72233, 36667, 13088, 31608, 920, 853, 17413, 31277, 13874, 11714, 10412, 11854, 21835, 33270, 11453, 13088, 893, 69016, 20429, 16940, 13016, 119, 119, 119, 11186, 898, 38174, 14251, 74038, 10826, 45056, 26041, 898, 11845, 17110, 118, 11072, 118, 898, 11845, 17110, 889, 29822, 11208, 84237, 42057, 117, 13525, 31608, 117, 898, 11208, 65423, 12213, 888, 78530, 70341, 884, 97571, 35127, 11453, 21971, 13794, 920, 11186, 853, 17413, 31277, 13874, 15658, 898, 38174, 14251, 885, 18321, 15070, 36907, 11208, 13088, 891, 15919, 103733, 14265, 35872, 10412, 105127, 13665, 10826, 29474, 10826, 891, 106872, 108502, 11497, 12213, 875, 106872, 20429, 18187, 29624, 16257, 11072, 30114, 25561, 16192, 20226, 13794, 920, 53596, 93856, 15801, 862, 18351, 73649, 11549, 72312, 57134, 10914, 886, 111211, 11549, 899, 92896, 62752, 891, 11208, 65423, 18869, 13088, 31608, 14117, 889, 29822, 11208, 84237, 117, 896, 49604, 15552, 853, 17413, 31277, 13874, 11714, 10826, 75750, 16338, 884, 34028, 11714, 41607, 32447, 117, 852, 33856, 891, 15919, 10412, 18867, 53596, 93856, 15801, 75750, 12194, 34829, 889, 46312, 83910, 10826, 75750, 18906, 10412, 11186, 899, 30534, 21394, 11549, 877, 106872, 13718, 11267, 32629, 31277, 920, 887, 18321, 80858, 39800, 24233, 66596, 117, 15134, 53596, 93856, 10532, 28466, 61533, 28197, 11497, 10412, 11186, 13088, 14835, 22568, 28197, 10412, 77078, 11072, 50500, 10826, 884, 12878, 45086, 53271, 26244, 10569, 117, 13088, 31608, 14117, 105127, 13665, 13088, 62028, 882, 13841, 65475, 28197, 10412, 23528, 10532, 851, 11714, 118, 14117, 13432, 28960, 32062, 10412, 52331, 105127, 14334, 13016, 117, 80558, 15134, 11549, 11072, 55190, 13432, 75315, 82858, 21971, 920, 853, 17413, 31277, 13874, 15658, 37038, 69083, 75750, 13088, 31608, 10569, 14117, 80368, 53596, 93856, 15801, 50500, 10412, 871, 17110, 53749, 11072, 23586, 23141, 10412, 49131, 53596, 93856, 15801, 75750, 10977, 57865, 18351, 16380, 11453, 10412, 899, 12878, 17413, 18351, 52736, 50101, 66921, 10412, 899, 30534, 21394, 71533, 11081, 11081, 28863, 33156, 32629, 31277, 920, 853, 50460, 31277, 84237, 13088, 63911, 71069, 10412, 49131, 854, 31277, 11453, 10412, 55190, 57523, 19885, 11072, 854, 31277, 11453, 10412, 55190, 57523, 19885, 11072, 867, 49050, 30472, 11072, 870, 103435, 24877, 11845, 13220, 29026, 11716, 117, 10977, 870, 53316, 36471, 19810, 41607, 10569, 14117, 21547, 19346, 21582, 21571, 11854, 21835, 33270, 11453, 24578, 49050, 21202, 11072, 27692, 13286, 866, 47224, 11554, 10412, 866, 33156, 28863, 28043, 16192, 11554, 43263, 920, 854, 31277, 11453, 13088, 53596, 93856, 15801, 55190, 96637, 13718, 17110, 19966, 10977, 14265, 50101, 49362, 13671, 898, 25695, 39680, 10412, 852, 11845, 90696, 44608, 19966, 11072, 893, 43733, 13466, 10532, 72998, 71555, 887, 21835, 11549, 851, 11714, 118, 851, 104096, 10826, 75750, 11267, 57136, 104629, 49758, 10826, 10569, 920, 899, 12878, 17413, 18351, 52736, 50101, 66921, 101498, 854, 31277, 11453, 898, 102], 'token_type_ids': [0, 0, 0, 0, 0, 0, 0, 0, 0, 0, 0, 0, 0, 0, 0, 0, 0, 0, 0, 0, 0, 0, 0, 0, 0, 0, 0, 0, 0, 0, 0, 0, 0, 0, 0, 0, 0, 0, 0, 0, 0, 0, 0, 0, 0, 0, 0, 0, 0, 0, 0, 0, 0, 0, 0, 0, 0, 0, 0, 0, 0, 0, 0, 0, 0, 0, 0, 0, 0, 0, 0, 0, 0, 0, 0, 0, 0, 0, 0, 0, 0, 0, 0, 0, 0, 0, 0, 0, 0, 0, 0, 0, 0, 0, 0, 0, 0, 0, 0, 0, 0, 0, 0, 0, 0, 0, 0, 0, 0, 0, 0, 0, 0, 0, 0, 0, 0, 0, 0, 0, 0, 0, 0, 0, 0, 0, 0, 0, 0, 0, 0, 0, 0, 0, 0, 0, 0, 0, 0, 0, 0, 0, 0, 0, 0, 0, 0, 0, 0, 0, 0, 0, 0, 0, 0, 0, 0, 0, 0, 0, 0, 0, 0, 0, 0, 0, 0, 0, 0, 0, 0, 0, 0, 0, 0, 0, 0, 0, 0, 0, 0, 0, 0, 0, 0, 0, 0, 0, 0, 0, 0, 0, 0, 0, 0, 0, 0, 0, 0, 0, 0, 0, 0, 0, 0, 0, 0, 0, 0, 0, 0, 0, 0, 0, 0, 0, 0, 0, 0, 0, 0, 0, 0, 0, 0, 0, 0, 0, 0, 0, 0, 0, 0, 0, 0, 0, 0, 0, 0, 0, 0, 0, 0, 0, 0, 0, 0, 0, 0, 0, 0, 0, 0, 0, 0, 0, 0, 0, 0, 0, 0, 0, 0, 0, 0, 0, 0, 0, 0, 0, 0, 0, 0, 0, 0, 0, 0, 0, 0, 0, 0, 0, 0, 0, 0, 0, 0, 0, 0, 0, 0, 0, 0, 0, 0, 0, 0, 0, 0, 0, 0, 0, 0, 0, 0, 0, 0, 0, 0, 0, 0, 0, 0, 0, 0, 0, 0, 0, 0, 0, 0, 0, 0, 0, 0, 0, 0, 0, 0, 0, 0, 0, 0, 0, 0, 0, 0, 0, 0, 0, 0, 0, 0, 0, 0, 0, 0, 0, 0, 0, 0, 0, 0, 0, 0, 0, 0, 0, 0, 0, 0, 0, 0, 0, 0, 0, 0, 0, 0, 0, 0, 0, 0, 0, 0, 0, 0, 0, 0, 0, 0, 0, 0, 0, 0, 0, 0, 0, 0, 0, 0, 0, 0, 0, 0, 0, 0, 0, 0, 0, 0, 0, 0, 0, 0, 0, 0, 0, 0, 0, 0, 0, 0, 0, 0, 0, 0, 0, 0, 0, 0, 0, 0, 0, 0, 0, 0, 0, 0, 0, 0, 0, 0, 0, 0, 0, 0, 0, 0, 0, 0, 0, 0, 0, 0, 0, 0, 0, 0, 0, 0, 0, 0, 0, 0, 0, 0, 0, 0, 0, 0, 0, 0, 0, 0, 0, 0, 0, 0, 0, 0, 0, 0, 0, 0, 0, 0, 0, 0, 0, 0, 0, 0, 0, 0, 0, 0, 0, 0, 0, 0, 0, 0, 0, 0, 0, 0, 0, 0, 0, 0, 0, 0, 0, 0, 0, 0, 0, 0, 0, 0, 0], 'attention_mask': [1, 1, 1, 1, 1, 1, 1, 1, 1, 1, 1, 1, 1, 1, 1, 1, 1, 1, 1, 1, 1, 1, 1, 1, 1, 1, 1, 1, 1, 1, 1, 1, 1, 1, 1, 1, 1, 1, 1, 1, 1, 1, 1, 1, 1, 1, 1, 1, 1, 1, 1, 1, 1, 1, 1, 1, 1, 1, 1, 1, 1, 1, 1, 1, 1, 1, 1, 1, 1, 1, 1, 1, 1, 1, 1, 1, 1, 1, 1, 1, 1, 1, 1, 1, 1, 1, 1, 1, 1, 1, 1, 1, 1, 1, 1, 1, 1, 1, 1, 1, 1, 1, 1, 1, 1, 1, 1, 1, 1, 1, 1, 1, 1, 1, 1, 1, 1, 1, 1, 1, 1, 1, 1, 1, 1, 1, 1, 1, 1, 1, 1, 1, 1, 1, 1, 1, 1, 1, 1, 1, 1, 1, 1, 1, 1, 1, 1, 1, 1, 1, 1, 1, 1, 1, 1, 1, 1, 1, 1, 1, 1, 1, 1, 1, 1, 1, 1, 1, 1, 1, 1, 1, 1, 1, 1, 1, 1, 1, 1, 1, 1, 1, 1, 1, 1, 1, 1, 1, 1, 1, 1, 1, 1, 1, 1, 1, 1, 1, 1, 1, 1, 1, 1, 1, 1, 1, 1, 1, 1, 1, 1, 1, 1, 1, 1, 1, 1, 1, 1, 1, 1, 1, 1, 1, 1, 1, 1, 1, 1, 1, 1, 1, 1, 1, 1, 1, 1, 1, 1, 1, 1, 1, 1, 1, 1, 1, 1, 1, 1, 1, 1, 1, 1, 1, 1, 1, 1, 1, 1, 1, 1, 1, 1, 1, 1, 1, 1, 1, 1, 1, 1, 1, 1, 1, 1, 1, 1, 1, 1, 1, 1, 1, 1, 1, 1, 1, 1, 1, 1, 1, 1, 1, 1, 1, 1, 1, 1, 1, 1, 1, 1, 1, 1, 1, 1, 1, 1, 1, 1, 1, 1, 1, 1, 1, 1, 1, 1, 1, 1, 1, 1, 1, 1, 1, 1, 1, 1, 1, 1, 1, 1, 1, 1, 1, 1, 1, 1, 1, 1, 1, 1, 1, 1, 1, 1, 1, 1, 1, 1, 1, 1, 1, 1, 1, 1, 1, 1, 1, 1, 1, 1, 1, 1, 1, 1, 1, 1, 1, 1, 1, 1, 1, 1, 1, 1, 1, 1, 1, 1, 1, 1, 1, 1, 1, 1, 1, 1, 1, 1, 1, 1, 1, 1, 1, 1, 1, 1, 1, 1, 1, 1, 1, 1, 1, 1, 1, 1, 1, 1, 1, 1, 1, 1, 1, 1, 1, 1, 1, 1, 1, 1, 1, 1, 1, 1, 1, 1, 1, 1, 1, 1, 1, 1, 1, 1, 1, 1, 1, 1, 1, 1, 1, 1, 1, 1, 1, 1, 1, 1, 1, 1, 1, 1, 1, 1, 1, 1, 1, 1, 1, 1, 1, 1, 1, 1, 1, 1, 1, 1, 1, 1, 1, 1, 1, 1, 1, 1, 1, 1, 1, 1, 1, 1, 1, 1, 1, 1, 1, 1, 1, 1, 1, 1, 1, 1, 1, 1, 1, 1, 1, 1, 1, 1, 1, 1, 1, 1, 1, 1, 1, 1, 1]}\n"
     ]
    }
   ],
   "source": [
    "print(train_dataset[0])  # Print first tokenized sample\n",
    "print(val_dataset[0])"
   ]
  },
  {
   "cell_type": "code",
   "execution_count": 59,
   "id": "ddaee3fe-19a2-4959-bf56-09b5430877b4",
   "metadata": {},
   "outputs": [
    {
     "name": "stderr",
     "output_type": "stream",
     "text": [
      "Some weights of BertForSequenceClassification were not initialized from the model checkpoint at C:/models/bert-base-multilingual-cased and are newly initialized: ['classifier.bias', 'classifier.weight']\n",
      "You should probably TRAIN this model on a down-stream task to be able to use it for predictions and inference.\n"
     ]
    }
   ],
   "source": [
    "model_path = \"C:/models/bert-base-multilingual-cased\"  # Adjust path as needed\n",
    "model = BertForSequenceClassification.from_pretrained(model_path, num_labels=len(set(df[\"label\"])))\n",
    "tokenizer = BertTokenizer.from_pretrained(model_path)"
   ]
  },
  {
   "cell_type": "code",
   "execution_count": 61,
   "id": "abdf0d15-16e8-4a75-ba84-427d0ccfd51a",
   "metadata": {},
   "outputs": [
    {
     "name": "stdout",
     "output_type": "stream",
     "text": [
      "4.48.2\n"
     ]
    }
   ],
   "source": [
    "import transformers\n",
    "print(transformers.__version__)  # Prints installed version\n"
   ]
  },
  {
   "cell_type": "code",
   "execution_count": 35,
   "id": "2b35b95e-0a56-49e4-917c-735ca6205a3b",
   "metadata": {},
   "outputs": [
    {
     "name": "stdout",
     "output_type": "stream",
     "text": [
      "Requirement already satisfied: transformers in c:\\users\\vedas\\anaconda3\\lib\\site-packages (4.48.2)\n",
      "Requirement already satisfied: filelock in c:\\users\\vedas\\anaconda3\\lib\\site-packages (from transformers) (3.13.1)\n",
      "Requirement already satisfied: huggingface-hub<1.0,>=0.24.0 in c:\\users\\vedas\\anaconda3\\lib\\site-packages (from transformers) (0.26.1)\n",
      "Requirement already satisfied: numpy>=1.17 in c:\\users\\vedas\\anaconda3\\lib\\site-packages (from transformers) (1.26.4)\n",
      "Requirement already satisfied: packaging>=20.0 in c:\\users\\vedas\\anaconda3\\lib\\site-packages (from transformers) (23.2)\n",
      "Requirement already satisfied: pyyaml>=5.1 in c:\\users\\vedas\\anaconda3\\lib\\site-packages (from transformers) (6.0.1)\n",
      "Requirement already satisfied: regex!=2019.12.17 in c:\\users\\vedas\\anaconda3\\lib\\site-packages (from transformers) (2023.10.3)\n",
      "Requirement already satisfied: requests in c:\\users\\vedas\\anaconda3\\lib\\site-packages (from transformers) (2.32.2)\n",
      "Requirement already satisfied: tokenizers<0.22,>=0.21 in c:\\users\\vedas\\anaconda3\\lib\\site-packages (from transformers) (0.21.0)\n",
      "Requirement already satisfied: safetensors>=0.4.1 in c:\\users\\vedas\\anaconda3\\lib\\site-packages (from transformers) (0.4.5)\n",
      "Requirement already satisfied: tqdm>=4.27 in c:\\users\\vedas\\anaconda3\\lib\\site-packages (from transformers) (4.66.4)\n",
      "Requirement already satisfied: fsspec>=2023.5.0 in c:\\users\\vedas\\anaconda3\\lib\\site-packages (from huggingface-hub<1.0,>=0.24.0->transformers) (2024.3.1)\n",
      "Requirement already satisfied: typing-extensions>=3.7.4.3 in c:\\users\\vedas\\anaconda3\\lib\\site-packages (from huggingface-hub<1.0,>=0.24.0->transformers) (4.11.0)\n",
      "Requirement already satisfied: colorama in c:\\users\\vedas\\anaconda3\\lib\\site-packages (from tqdm>=4.27->transformers) (0.4.6)\n",
      "Requirement already satisfied: charset-normalizer<4,>=2 in c:\\users\\vedas\\anaconda3\\lib\\site-packages (from requests->transformers) (2.0.4)\n",
      "Requirement already satisfied: idna<4,>=2.5 in c:\\users\\vedas\\anaconda3\\lib\\site-packages (from requests->transformers) (2.10)\n",
      "Requirement already satisfied: urllib3<3,>=1.21.1 in c:\\users\\vedas\\anaconda3\\lib\\site-packages (from requests->transformers) (2.2.2)\n",
      "Requirement already satisfied: certifi>=2017.4.17 in c:\\users\\vedas\\anaconda3\\lib\\site-packages (from requests->transformers) (2025.1.31)\n"
     ]
    }
   ],
   "source": [
    "!pip install --upgrade transformers"
   ]
  },
  {
   "cell_type": "code",
   "execution_count": 39,
   "id": "55409d3f-6c00-43b6-8827-30a0657d8e68",
   "metadata": {},
   "outputs": [
    {
     "name": "stdout",
     "output_type": "stream",
     "text": [
      "Collecting accelerate\n",
      "  Downloading accelerate-1.3.0-py3-none-any.whl.metadata (19 kB)\n",
      "Requirement already satisfied: numpy<3.0.0,>=1.17 in c:\\users\\vedas\\anaconda3\\lib\\site-packages (from accelerate) (1.26.4)\n",
      "Requirement already satisfied: packaging>=20.0 in c:\\users\\vedas\\anaconda3\\lib\\site-packages (from accelerate) (23.2)\n",
      "Requirement already satisfied: psutil in c:\\users\\vedas\\anaconda3\\lib\\site-packages (from accelerate) (5.9.0)\n",
      "Requirement already satisfied: pyyaml in c:\\users\\vedas\\anaconda3\\lib\\site-packages (from accelerate) (6.0.1)\n",
      "Requirement already satisfied: torch>=2.0.0 in c:\\users\\vedas\\anaconda3\\lib\\site-packages (from accelerate) (2.5.1)\n",
      "Requirement already satisfied: huggingface-hub>=0.21.0 in c:\\users\\vedas\\anaconda3\\lib\\site-packages (from accelerate) (0.26.1)\n",
      "Requirement already satisfied: safetensors>=0.4.3 in c:\\users\\vedas\\anaconda3\\lib\\site-packages (from accelerate) (0.4.5)\n",
      "Requirement already satisfied: filelock in c:\\users\\vedas\\anaconda3\\lib\\site-packages (from huggingface-hub>=0.21.0->accelerate) (3.13.1)\n",
      "Requirement already satisfied: fsspec>=2023.5.0 in c:\\users\\vedas\\anaconda3\\lib\\site-packages (from huggingface-hub>=0.21.0->accelerate) (2024.3.1)\n",
      "Requirement already satisfied: requests in c:\\users\\vedas\\anaconda3\\lib\\site-packages (from huggingface-hub>=0.21.0->accelerate) (2.32.2)\n",
      "Requirement already satisfied: tqdm>=4.42.1 in c:\\users\\vedas\\anaconda3\\lib\\site-packages (from huggingface-hub>=0.21.0->accelerate) (4.66.4)\n",
      "Requirement already satisfied: typing-extensions>=3.7.4.3 in c:\\users\\vedas\\anaconda3\\lib\\site-packages (from huggingface-hub>=0.21.0->accelerate) (4.11.0)\n",
      "Requirement already satisfied: networkx in c:\\users\\vedas\\anaconda3\\lib\\site-packages (from torch>=2.0.0->accelerate) (3.2.1)\n",
      "Requirement already satisfied: jinja2 in c:\\users\\vedas\\anaconda3\\lib\\site-packages (from torch>=2.0.0->accelerate) (3.1.4)\n",
      "Requirement already satisfied: setuptools in c:\\users\\vedas\\anaconda3\\lib\\site-packages (from torch>=2.0.0->accelerate) (69.5.1)\n",
      "Requirement already satisfied: sympy==1.13.1 in c:\\users\\vedas\\anaconda3\\lib\\site-packages (from torch>=2.0.0->accelerate) (1.13.1)\n",
      "Requirement already satisfied: mpmath<1.4,>=1.1.0 in c:\\users\\vedas\\anaconda3\\lib\\site-packages (from sympy==1.13.1->torch>=2.0.0->accelerate) (1.3.0)\n",
      "Requirement already satisfied: colorama in c:\\users\\vedas\\anaconda3\\lib\\site-packages (from tqdm>=4.42.1->huggingface-hub>=0.21.0->accelerate) (0.4.6)\n",
      "Requirement already satisfied: MarkupSafe>=2.0 in c:\\users\\vedas\\anaconda3\\lib\\site-packages (from jinja2->torch>=2.0.0->accelerate) (2.1.3)\n",
      "Requirement already satisfied: charset-normalizer<4,>=2 in c:\\users\\vedas\\anaconda3\\lib\\site-packages (from requests->huggingface-hub>=0.21.0->accelerate) (2.0.4)\n",
      "Requirement already satisfied: idna<4,>=2.5 in c:\\users\\vedas\\anaconda3\\lib\\site-packages (from requests->huggingface-hub>=0.21.0->accelerate) (2.10)\n",
      "Requirement already satisfied: urllib3<3,>=1.21.1 in c:\\users\\vedas\\anaconda3\\lib\\site-packages (from requests->huggingface-hub>=0.21.0->accelerate) (2.2.2)\n",
      "Requirement already satisfied: certifi>=2017.4.17 in c:\\users\\vedas\\anaconda3\\lib\\site-packages (from requests->huggingface-hub>=0.21.0->accelerate) (2025.1.31)\n",
      "Downloading accelerate-1.3.0-py3-none-any.whl (336 kB)\n",
      "Installing collected packages: accelerate\n",
      "Successfully installed accelerate-1.3.0\n"
     ]
    }
   ],
   "source": [
    "!pip install --upgrade accelerate"
   ]
  },
  {
   "cell_type": "code",
   "execution_count": 63,
   "id": "15df3efa-0b9a-4597-b88e-25c72866c885",
   "metadata": {},
   "outputs": [],
   "source": [
    "# Training arguments\n",
    "training_args = TrainingArguments(\n",
    "    output_dir=\"./results\",\n",
    "    eval_strategy=\"epoch\",\n",
    "    save_strategy=\"epoch\",\n",
    "    per_device_train_batch_size=8,\n",
    "    per_device_eval_batch_size=8,\n",
    "    num_train_epochs=3,\n",
    "    weight_decay=0.01,\n",
    "    logging_dir=\"./logs\",\n",
    ")"
   ]
  },
  {
   "cell_type": "code",
   "execution_count": null,
   "id": "a2e3dbae-22d1-4a32-93d0-8f08d5ccd110",
   "metadata": {},
   "outputs": [],
   "source": [
    "training_args = TrainingArguments(\n",
    "    output_dir=\"./results\",\n",
    "    evaluation_strategy=\"epoch\",\n",
    "    save_strategy=\"epoch\",\n",
    "    logging_strategy=\"epoch\",  # ✅ Logs training loss every epoch\n",
    "    per_device_train_batch_size=8,\n",
    "    per_device_eval_batch_size=8,\n",
    "    num_train_epochs=3,\n",
    "    weight_decay=0.01,\n",
    "    logging_dir=\"./logs\",\n",
    ")\n"
   ]
  },
  {
   "cell_type": "code",
   "execution_count": 65,
   "id": "3f43b7c0-bc29-4a93-89e8-5684dae1a0b5",
   "metadata": {},
   "outputs": [],
   "source": [
    "# Trainer\n",
    "trainer = Trainer(\n",
    "    model=model,\n",
    "    args=training_args,\n",
    "    train_dataset=train_dataset,\n",
    "    eval_dataset=val_dataset,\n",
    ")"
   ]
  },
  {
   "cell_type": "code",
   "execution_count": 67,
   "id": "973205ac-5b49-4ec1-9c8c-20ae95f56104",
   "metadata": {},
   "outputs": [
    {
     "data": {
      "text/html": [
       "\n",
       "    <div>\n",
       "      \n",
       "      <progress value='600' max='600' style='width:300px; height:20px; vertical-align: middle;'></progress>\n",
       "      [600/600 9:05:27, Epoch 3/3]\n",
       "    </div>\n",
       "    <table border=\"1\" class=\"dataframe\">\n",
       "  <thead>\n",
       " <tr style=\"text-align: left;\">\n",
       "      <th>Epoch</th>\n",
       "      <th>Training Loss</th>\n",
       "      <th>Validation Loss</th>\n",
       "    </tr>\n",
       "  </thead>\n",
       "  <tbody>\n",
       "    <tr>\n",
       "      <td>1</td>\n",
       "      <td>No log</td>\n",
       "      <td>0.266462</td>\n",
       "    </tr>\n",
       "    <tr>\n",
       "      <td>2</td>\n",
       "      <td>No log</td>\n",
       "      <td>0.188540</td>\n",
       "    </tr>\n",
       "    <tr>\n",
       "      <td>3</td>\n",
       "      <td>0.235700</td>\n",
       "      <td>0.345475</td>\n",
       "    </tr>\n",
       "  </tbody>\n",
       "</table><p>"
      ],
      "text/plain": [
       "<IPython.core.display.HTML object>"
      ]
     },
     "metadata": {},
     "output_type": "display_data"
    },
    {
     "data": {
      "text/plain": [
       "TrainOutput(global_step=600, training_loss=0.22625314394632975, metrics={'train_runtime': 32770.1211, 'train_samples_per_second': 0.146, 'train_steps_per_second': 0.018, 'total_flos': 1262933065728000.0, 'train_loss': 0.22625314394632975, 'epoch': 3.0})"
      ]
     },
     "execution_count": 67,
     "metadata": {},
     "output_type": "execute_result"
    }
   ],
   "source": [
    "# Train model\n",
    "trainer.train()"
   ]
  },
  {
   "cell_type": "code",
   "execution_count": 69,
   "id": "9f301ebb-4d72-4456-ad0c-5d5b31424a8a",
   "metadata": {},
   "outputs": [
    {
     "data": {
      "text/plain": [
       "('mbbert_fake_news\\\\tokenizer_config.json',\n",
       " 'mbbert_fake_news\\\\special_tokens_map.json',\n",
       " 'mbbert_fake_news\\\\vocab.txt',\n",
       " 'mbbert_fake_news\\\\added_tokens.json')"
      ]
     },
     "execution_count": 69,
     "metadata": {},
     "output_type": "execute_result"
    }
   ],
   "source": [
    "# Save model\n",
    "model.save_pretrained(\"mbbert_fake_news\")\n",
    "tokenizer.save_pretrained(\"mbbert_fake_news\")"
   ]
  },
  {
   "cell_type": "code",
   "execution_count": 71,
   "id": "c9b0cc12-0af0-4bcc-bd59-47d7be58c620",
   "metadata": {},
   "outputs": [
    {
     "name": "stdout",
     "output_type": "stream",
     "text": [
      "[{'eval_loss': 0.26646187901496887, 'eval_runtime': 369.1993, 'eval_samples_per_second': 1.083, 'eval_steps_per_second': 0.135, 'epoch': 1.0, 'step': 200}, {'eval_loss': 0.18854011595249176, 'eval_runtime': 567.7953, 'eval_samples_per_second': 0.704, 'eval_steps_per_second': 0.088, 'epoch': 2.0, 'step': 400}, {'loss': 0.2357, 'grad_norm': 0.16605998575687408, 'learning_rate': 8.333333333333334e-06, 'epoch': 2.5, 'step': 500}, {'eval_loss': 0.34547463059425354, 'eval_runtime': 356.5449, 'eval_samples_per_second': 1.122, 'eval_steps_per_second': 0.14, 'epoch': 3.0, 'step': 600}, {'train_runtime': 32770.1211, 'train_samples_per_second': 0.146, 'train_steps_per_second': 0.018, 'total_flos': 1262933065728000.0, 'train_loss': 0.22625314394632975, 'epoch': 3.0, 'step': 600}]\n"
     ]
    }
   ],
   "source": [
    "print(trainer.state.log_history)"
   ]
  },
  {
   "cell_type": "code",
   "execution_count": 85,
   "id": "159056c6-70b0-40a9-b0a4-29f47c40c7e5",
   "metadata": {},
   "outputs": [
    {
     "name": "stdout",
     "output_type": "stream",
     "text": [
      "Requirement already satisfied: datasets in c:\\users\\vedas\\anaconda3\\lib\\site-packages (3.2.0)\n",
      "Requirement already satisfied: filelock in c:\\users\\vedas\\anaconda3\\lib\\site-packages (from datasets) (3.13.1)\n",
      "Requirement already satisfied: numpy>=1.17 in c:\\users\\vedas\\anaconda3\\lib\\site-packages (from datasets) (1.26.4)\n",
      "Requirement already satisfied: pyarrow>=15.0.0 in c:\\users\\vedas\\anaconda3\\lib\\site-packages (from datasets) (19.0.0)\n",
      "Requirement already satisfied: dill<0.3.9,>=0.3.0 in c:\\users\\vedas\\anaconda3\\lib\\site-packages (from datasets) (0.3.8)\n",
      "Requirement already satisfied: pandas in c:\\users\\vedas\\anaconda3\\lib\\site-packages (from datasets) (2.2.2)\n",
      "Requirement already satisfied: requests>=2.32.2 in c:\\users\\vedas\\anaconda3\\lib\\site-packages (from datasets) (2.32.2)\n",
      "Requirement already satisfied: tqdm>=4.66.3 in c:\\users\\vedas\\anaconda3\\lib\\site-packages (from datasets) (4.66.4)\n",
      "Requirement already satisfied: xxhash in c:\\users\\vedas\\anaconda3\\lib\\site-packages (from datasets) (3.5.0)\n",
      "Requirement already satisfied: multiprocess<0.70.17 in c:\\users\\vedas\\anaconda3\\lib\\site-packages (from datasets) (0.70.16)\n",
      "Requirement already satisfied: fsspec<=2024.9.0,>=2023.1.0 in c:\\users\\vedas\\anaconda3\\lib\\site-packages (from fsspec[http]<=2024.9.0,>=2023.1.0->datasets) (2024.3.1)\n",
      "Requirement already satisfied: aiohttp in c:\\users\\vedas\\anaconda3\\lib\\site-packages (from datasets) (3.9.5)\n",
      "Requirement already satisfied: huggingface-hub>=0.23.0 in c:\\users\\vedas\\anaconda3\\lib\\site-packages (from datasets) (0.26.1)\n",
      "Requirement already satisfied: packaging in c:\\users\\vedas\\anaconda3\\lib\\site-packages (from datasets) (23.2)\n",
      "Requirement already satisfied: pyyaml>=5.1 in c:\\users\\vedas\\anaconda3\\lib\\site-packages (from datasets) (6.0.1)\n",
      "Requirement already satisfied: aiosignal>=1.1.2 in c:\\users\\vedas\\anaconda3\\lib\\site-packages (from aiohttp->datasets) (1.2.0)\n",
      "Requirement already satisfied: attrs>=17.3.0 in c:\\users\\vedas\\anaconda3\\lib\\site-packages (from aiohttp->datasets) (23.1.0)\n",
      "Requirement already satisfied: frozenlist>=1.1.1 in c:\\users\\vedas\\anaconda3\\lib\\site-packages (from aiohttp->datasets) (1.4.0)\n",
      "Requirement already satisfied: multidict<7.0,>=4.5 in c:\\users\\vedas\\anaconda3\\lib\\site-packages (from aiohttp->datasets) (6.0.4)\n",
      "Requirement already satisfied: yarl<2.0,>=1.0 in c:\\users\\vedas\\anaconda3\\lib\\site-packages (from aiohttp->datasets) (1.9.3)\n",
      "Requirement already satisfied: typing-extensions>=3.7.4.3 in c:\\users\\vedas\\anaconda3\\lib\\site-packages (from huggingface-hub>=0.23.0->datasets) (4.11.0)\n",
      "Requirement already satisfied: charset-normalizer<4,>=2 in c:\\users\\vedas\\anaconda3\\lib\\site-packages (from requests>=2.32.2->datasets) (2.0.4)\n",
      "Requirement already satisfied: idna<4,>=2.5 in c:\\users\\vedas\\anaconda3\\lib\\site-packages (from requests>=2.32.2->datasets) (2.10)\n",
      "Requirement already satisfied: urllib3<3,>=1.21.1 in c:\\users\\vedas\\anaconda3\\lib\\site-packages (from requests>=2.32.2->datasets) (2.2.2)\n",
      "Requirement already satisfied: certifi>=2017.4.17 in c:\\users\\vedas\\anaconda3\\lib\\site-packages (from requests>=2.32.2->datasets) (2025.1.31)\n",
      "Requirement already satisfied: colorama in c:\\users\\vedas\\anaconda3\\lib\\site-packages (from tqdm>=4.66.3->datasets) (0.4.6)\n",
      "Requirement already satisfied: python-dateutil>=2.8.2 in c:\\users\\vedas\\anaconda3\\lib\\site-packages (from pandas->datasets) (2.9.0.post0)\n",
      "Requirement already satisfied: pytz>=2020.1 in c:\\users\\vedas\\anaconda3\\lib\\site-packages (from pandas->datasets) (2024.1)\n",
      "Requirement already satisfied: tzdata>=2022.7 in c:\\users\\vedas\\anaconda3\\lib\\site-packages (from pandas->datasets) (2023.3)\n",
      "Requirement already satisfied: six>=1.5 in c:\\users\\vedas\\anaconda3\\lib\\site-packages (from python-dateutil>=2.8.2->pandas->datasets) (1.16.0)\n"
     ]
    }
   ],
   "source": [
    "!pip install --upgrade datasets"
   ]
  },
  {
   "cell_type": "code",
   "execution_count": 87,
   "id": "6368a719-11ac-4e37-8a3d-6d742ff34279",
   "metadata": {},
   "outputs": [
    {
     "name": "stdout",
     "output_type": "stream",
     "text": [
      "Name: datasets\n",
      "Version: 3.2.0\n",
      "Summary: HuggingFace community-driven open-source library of datasets\n",
      "Home-page: https://github.com/huggingface/datasets\n",
      "Author: HuggingFace Inc.\n",
      "Author-email: thomas@huggingface.co\n",
      "License: Apache 2.0\n",
      "Location: C:\\Users\\vedas\\anaconda3\\Lib\\site-packages\n",
      "Requires: aiohttp, dill, filelock, fsspec, huggingface-hub, multiprocess, numpy, packaging, pandas, pyarrow, pyyaml, requests, tqdm, xxhash\n",
      "Required-by: \n"
     ]
    }
   ],
   "source": [
    "import sys\n",
    "!{sys.executable} -m pip show datasets"
   ]
  },
  {
   "cell_type": "code",
   "execution_count": 97,
   "id": "3a30bf0c-51ff-460f-b91b-b607b8e031e3",
   "metadata": {},
   "outputs": [],
   "source": [
    "from sklearn.metrics import accuracy_score, precision_recall_fscore_support\n",
    "\n",
    "def compute_metrics(eval_pred):\n",
    "    logits, labels = eval_pred\n",
    "    predictions = logits.argmax(axis=-1)  # Convert logits to class predictions\n",
    "\n",
    "    accuracy = accuracy_score(labels, predictions)\n",
    "    precision, recall, f1, _ = precision_recall_fscore_support(labels, predictions, average=\"weighted\")\n",
    "\n",
    "    return {\n",
    "        \"accuracy\": accuracy,\n",
    "        \"precision\": precision,\n",
    "        \"recall\": recall,\n",
    "        \"f1\": f1\n",
    "    }"
   ]
  },
  {
   "cell_type": "code",
   "execution_count": 99,
   "id": "c4f7c794-325d-4d28-8082-4c74e8ae5c64",
   "metadata": {},
   "outputs": [],
   "source": [
    "trainer = Trainer(\n",
    "    model=model,\n",
    "    args=training_args,\n",
    "    train_dataset=train_dataset,\n",
    "    eval_dataset=val_dataset,\n",
    "    compute_metrics=compute_metrics,  # ✅ Now using Scikit-Learn\n",
    ")\n"
   ]
  },
  {
   "cell_type": "code",
   "execution_count": 101,
   "id": "09ab5147-4833-45d8-9322-1bc7b73c88a2",
   "metadata": {},
   "outputs": [
    {
     "data": {
      "text/html": [
       "\n",
       "    <div>\n",
       "      \n",
       "      <progress value='50' max='50' style='width:300px; height:20px; vertical-align: middle;'></progress>\n",
       "      [50/50 10:08]\n",
       "    </div>\n",
       "    "
      ],
      "text/plain": [
       "<IPython.core.display.HTML object>"
      ]
     },
     "metadata": {},
     "output_type": "display_data"
    },
    {
     "name": "stdout",
     "output_type": "stream",
     "text": [
      "{'eval_loss': 0.34547463059425354, 'eval_model_preparation_time': 0.0154, 'eval_accuracy': 0.8975, 'eval_precision': 0.8977054897631472, 'eval_recall': 0.8975, 'eval_f1': 0.8975521281338098, 'eval_runtime': 621.6676, 'eval_samples_per_second': 0.643, 'eval_steps_per_second': 0.08}\n"
     ]
    }
   ],
   "source": [
    "eval_results = trainer.evaluate()\n",
    "print(eval_results)  # ✅ Displays accuracy, precision, recall, and F1 score"
   ]
  },
  {
   "cell_type": "code",
   "execution_count": 109,
   "id": "4e4fecf9-3c8b-4369-aa09-c5ca52451964",
   "metadata": {},
   "outputs": [],
   "source": [
    "from sklearn.metrics import accuracy_score\n",
    "\n",
    "def compute_metrics(eval_pred):\n",
    "    logits, labels = eval_pred\n",
    "    predictions = logits.argmax(axis=-1)  # Convert logits to class predictions\n",
    "\n",
    "    accuracy = accuracy_score(labels, predictions)\n",
    "    return {\"accuracy\": accuracy}  # ✅ Returns only accuracy\n",
    "\n",
    "trainer = Trainer(\n",
    "    model=model,\n",
    "    args=training_args,\n",
    "    train_dataset=train_dataset,\n",
    "    eval_dataset=val_dataset,\n",
    "    compute_metrics=compute_metrics,  # ✅ Now calculates only accuracy\n",
    ")\n"
   ]
  },
  {
   "cell_type": "code",
   "execution_count": 111,
   "id": "d33d0858-af6d-49d4-93ab-5f09b856f97e",
   "metadata": {},
   "outputs": [
    {
     "data": {
      "text/html": [
       "\n",
       "    <div>\n",
       "      \n",
       "      <progress value='50' max='50' style='width:300px; height:20px; vertical-align: middle;'></progress>\n",
       "      [50/50 10:16]\n",
       "    </div>\n",
       "    "
      ],
      "text/plain": [
       "<IPython.core.display.HTML object>"
      ]
     },
     "metadata": {},
     "output_type": "display_data"
    },
    {
     "name": "stdout",
     "output_type": "stream",
     "text": [
      "Accuracy: 0.8975\n"
     ]
    }
   ],
   "source": [
    "eval_results = trainer.evaluate()\n",
    "print(\"Accuracy:\", eval_results[\"eval_accuracy\"])  # ✅ Prints only accuracy"
   ]
  },
  {
   "cell_type": "code",
   "execution_count": 119,
   "id": "73709885-2478-4acb-acef-b339626fe6a5",
   "metadata": {},
   "outputs": [
    {
     "data": {
      "text/plain": [
       "BertForSequenceClassification(\n",
       "  (bert): BertModel(\n",
       "    (embeddings): BertEmbeddings(\n",
       "      (word_embeddings): Embedding(119547, 768, padding_idx=0)\n",
       "      (position_embeddings): Embedding(512, 768)\n",
       "      (token_type_embeddings): Embedding(2, 768)\n",
       "      (LayerNorm): LayerNorm((768,), eps=1e-12, elementwise_affine=True)\n",
       "      (dropout): Dropout(p=0.1, inplace=False)\n",
       "    )\n",
       "    (encoder): BertEncoder(\n",
       "      (layer): ModuleList(\n",
       "        (0-11): 12 x BertLayer(\n",
       "          (attention): BertAttention(\n",
       "            (self): BertSdpaSelfAttention(\n",
       "              (query): Linear(in_features=768, out_features=768, bias=True)\n",
       "              (key): Linear(in_features=768, out_features=768, bias=True)\n",
       "              (value): Linear(in_features=768, out_features=768, bias=True)\n",
       "              (dropout): Dropout(p=0.1, inplace=False)\n",
       "            )\n",
       "            (output): BertSelfOutput(\n",
       "              (dense): Linear(in_features=768, out_features=768, bias=True)\n",
       "              (LayerNorm): LayerNorm((768,), eps=1e-12, elementwise_affine=True)\n",
       "              (dropout): Dropout(p=0.1, inplace=False)\n",
       "            )\n",
       "          )\n",
       "          (intermediate): BertIntermediate(\n",
       "            (dense): Linear(in_features=768, out_features=3072, bias=True)\n",
       "            (intermediate_act_fn): GELUActivation()\n",
       "          )\n",
       "          (output): BertOutput(\n",
       "            (dense): Linear(in_features=3072, out_features=768, bias=True)\n",
       "            (LayerNorm): LayerNorm((768,), eps=1e-12, elementwise_affine=True)\n",
       "            (dropout): Dropout(p=0.1, inplace=False)\n",
       "          )\n",
       "        )\n",
       "      )\n",
       "    )\n",
       "    (pooler): BertPooler(\n",
       "      (dense): Linear(in_features=768, out_features=768, bias=True)\n",
       "      (activation): Tanh()\n",
       "    )\n",
       "  )\n",
       "  (dropout): Dropout(p=0.1, inplace=False)\n",
       "  (classifier): Linear(in_features=768, out_features=2, bias=True)\n",
       ")"
      ]
     },
     "execution_count": 119,
     "metadata": {},
     "output_type": "execute_result"
    }
   ],
   "source": [
    "from transformers import BertTokenizer, BertForSequenceClassification\n",
    "import torch\n",
    "\n",
    "# Load the fine-tuned model and tokenizer\n",
    "model_path = \"mbbert_fake_news\"  # Path where you saved the model\n",
    "model = BertForSequenceClassification.from_pretrained(model_path)\n",
    "tokenizer = BertTokenizer.from_pretrained(model_path)\n",
    "\n",
    "# Set model to evaluation mode (no training)\n",
    "model.eval()"
   ]
  },
  {
   "cell_type": "code",
   "execution_count": 121,
   "id": "b676dbe3-8d94-4e65-ae4c-22cd6d971dbc",
   "metadata": {},
   "outputs": [],
   "source": [
    "def predict_fake_news(text):\n",
    "    # Tokenize input text\n",
    "    inputs = tokenizer(text, return_tensors=\"pt\", truncation=True, padding=True, max_length=512)\n",
    "\n",
    "    # Get model predictions\n",
    "    with torch.no_grad():\n",
    "        outputs = model(**inputs)\n",
    "    \n",
    "    # Convert logits to class (0 or 1)\n",
    "    predicted_class = torch.argmax(outputs.logits, dim=1).item()\n",
    "\n",
    "    # Map prediction to label\n",
    "    label_map = {0: \"Real\", 1: \"Fake\"}  # Adjust this if your labels are different\n",
    "    return label_map[predicted_class]"
   ]
  },
  {
   "cell_type": "code",
   "execution_count": 123,
   "id": "0da67e18-ccc0-4837-bb7f-f1a74c046066",
   "metadata": {},
   "outputs": [
    {
     "name": "stdout",
     "output_type": "stream",
     "text": [
      "Prediction: Fake\n"
     ]
    }
   ],
   "source": [
    "news_text = \"Breaking: Government launches new cybersecurity policy to combat online threats.\"\n",
    "prediction = predict_fake_news(news_text)\n",
    "print(f\"Prediction: {prediction}\")  # Output: \"Real\" or \"Fake\""
   ]
  },
  {
   "cell_type": "code",
   "execution_count": 127,
   "id": "bba41521-b0f4-4cec-8185-583933671fba",
   "metadata": {},
   "outputs": [
    {
     "name": "stdin",
     "output_type": "stream",
     "text": [
      "Enter a news headline/article (or type 'exit' to quit):  \ttext 6\ta texas republican congressman blamed female republicans for the gop s cruel health care bill, which would be more aptly named death care. rep. blake farenthold (r-tx) suggested that if they were men, he would challenge them to a gunfight.to make matters worse, he singled out the female republicans saying that it s absolutely repugnant that the gop-led senate hasn t had the ability to repeal the health care law even though they ve had seven years to come up with a viable alternative.farenthold called out the female senators from the northeast in reference to maine sen. susan collins, shelley moore capito of west virginia, and lisa murkowski of alaska (someone should point him to a map).on friday, during a radio interview on a corpus christi station last friday, farenthold said he finds it absolutely repugnant that the senate does not have the courage to do some of the things that every republican in the senate promised to do. some of the people that are opposed to this [repealing obamacare] there are some female senators from the northeast, farenthold said. if it was a guy from south texas i might ask them to step outside and settle this aaron burr-style. in 1804, aaron burr famously shot and killed his political adversary, alexander hamilton, in a new jersey duel.here s the audio:senate majority leader mitch mcconnell tried to push through an obamacare repeal bill without a replacement, thus making the markets chaotic while leaving millions uninsured. after a few months, the three republican women announced that they could not support repealing obamacare. sen. collins called the obamacare repeal bill unacceptable because it would leave millions of americans without insurance. i have deep concerns and am opposed to the senate bill,  she said, then added that the bill would make sweeping changes to the medicaid program, and would take out of the medicaid program more than $700 billion dollars. you don t take a safety net program that has been operating for more than 50 years and change it in fundamental ways without having a single hearing to evaluate its impact, she said.rep. blake farenthold really shouldn t challenge her to any kind of a fight. we re pretty sure he would lose.image via twitter.\n"
     ]
    },
    {
     "name": "stdout",
     "output_type": "stream",
     "text": [
      "Prediction: Fake\n"
     ]
    },
    {
     "name": "stdin",
     "output_type": "stream",
     "text": [
      "Enter a news headline/article (or type 'exit' to quit):  90 percent of babies with down syndrome are aborted.\n"
     ]
    },
    {
     "name": "stdout",
     "output_type": "stream",
     "text": [
      "Prediction: Real\n"
     ]
    },
    {
     "name": "stdin",
     "output_type": "stream",
     "text": [
      "Enter a news headline/article (or type 'exit' to quit):  \ttext 14009\tవాషింగ్టన్ (రాయిటర్స్) - యు.ఎస్.హౌస్ ఆఫ్ రిప్రజెంటేటివ్స్ స్పీకర్ పాల్ ర్యాన్ గురువారం మాట్లాడుతూ, రాబర్ట్ ముల్లెర్‌ను ప్రత్యేక న్యాయవాదిగా నియమించడం రష్యా మరియు 2016 యు.ఎస్.ఎన్నికలు.ర్యాన్ తన వీక్లీ వార్తా సమావేశంలో మాట్లాడుతూ గత రాత్రి డిప్యూటీ అటార్నీ జనరల్ రాడ్ రోసెన్‌స్టెయిన్ మరియు కాంగ్రెస్ నాయకులతో సమావేశంలో ఉందని, అయితే ఈ చర్చపై వ్యాఖ్యానించరని చెప్పారు.\n"
     ]
    },
    {
     "name": "stdout",
     "output_type": "stream",
     "text": [
      "Prediction: Real\n"
     ]
    },
    {
     "name": "stdin",
     "output_type": "stream",
     "text": [
      "Enter a news headline/article (or type 'exit' to quit):  \ttext 14010\tஒரு விருப்பம் எங்கே, ஒரு வழி இருக்கிறது, இந்த அற்புதமான மாணவர்களுக்கு நிச்சயமாக அவர்களின் விலைமதிப்பற்ற முதல் திருத்தத்தை சரியாகப் பாதுகாப்பதற்கான தேடலில் வெற்றிபெற விருப்பம் இல்லை!டிரம்ப் அத்தியாயத்திற்கான போர்ட்லேண்ட் ஸ்டேட் யுனிவர்சிட்டி மாணவர்கள் மீண்டும் வந்தனர், இந்த நேரத்தில் பில்ட் தி வால் என்ற நிகழ்வை நடத்தினர், அங்கு அவர்கள் உண்மையில் ஒரு பிரதி சுவரை வளாகத்திற்கு கொண்டு வந்தனர். முதல் வளாக காவல்துறையினர் அதை பல்கலைக்கழக சொத்தில் கொண்டு வர முடியாது என்று சொன்னார்கள்ஒரு கட்டமைப்பு மற்றும் அவர்களுக்கு அனுமதி இல்லை.இதைப் பற்றி மிகவும் சுவாரஸ்யமானது என்னவென்றால், வளாகத்தில் உள்ள வாக்ஜோப் எஸ்.ஜே.டபிள்யூ குழுக்கள் தங்கள் ஆர்ப்பாட்டங்கள் மற்றும் அணிவகுப்புகளின் போது கொள்கைக்குப் பிறகு கொள்கையை மீறுவதைத் தவிர்த்து வருகின்றன.அவர்கள் பெருக்கப்பட்ட சாதனங்களைப் பயன்படுத்துகிறார்கள், கட்டிடங்களின் அரங்குகள் வழியாக கத்துகிறார்கள், கத்துகிறார்கள், அவர்கள் உண்மையில் ஒரு பி.எஸ்.யூ அறங்காவலர் குழு கூட்டத்தை எடுத்துக் கொண்டனர், இது வாரிய உறுப்பினர்கள் தப்பி ஓட காரணமாகிறது, மேலும் அவர்கள் தெருவில் ஒரு இறப்பை நடத்தினர், இவை அனைத்தும் புறக்கணிக்கப்பட்டனவளாக காவல்துறை மற்றும், இந்த எழுத்தாளர் சொல்ல முடிந்தவரை, எந்த தண்டனையும் வழங்கப்படவில்லை.இருந்தால், அவர்கள் மிகவும் லேசாக இருந்தார்கள், அடுத்த ஆர்ப்பாட்டத்தில் மீண்டும் அனைத்தையும் செய்வதற்கு முன்பு எந்த மாணவர்களும் இருமுறை சிந்திக்க மாட்டார்கள். மாணவர்கள் வளாகத்திலிருந்து சுவரை அமைக்கத் தொடங்கினர், பின்னர் வளாக காவல்துறையினர் என்ன என்பதை உணர்ந்தனர்கொள்கைகள் எதுவும் செயல்படுத்தப்படாது, எனவே அவை வளாகத்தின் மையத்தில் உள்ள பூங்கா தொகுதிகளுக்கு திரும்பின.இந்த முறை ஒரு சிட்டி பார்க் ரேஞ்சர் சுவர் செல்ல வேண்டும் என்று அவர்களிடம் சொல்ல முடிவு செய்தார்.சுவர் ஒரு அடையாளம் மற்றும் ஒரு கட்டமைப்பு அல்ல என்று மாணவர்கள் வழக்கை உருவாக்கினர்.ரேஞ்சர் தன்னைத் துடைத்துக் கொண்டார், மாணவர்கள் தொடர்ந்தனர், பொலிஸ் இருவரையும் சீருடையில் தரையில் கண்காணித்து, அருகிலுள்ள கட்டிடத்தின் பால்கனியில் இருந்து வெற்று ஆடைகளில், ஒரு அதிகாரி ஒரு வீடியோ கேமரா வைத்திருந்தார் மற்றும் நிகழ்வை படமாக்கிக் கொண்டிருந்தார்: இங்கே பாருங்கள்: பாருங்கள்இந்த அற்புதமான மாணவர்கள் புண்படுத்தப்பட்ட தாராளவாதிகளுக்கு சகிப்புத்தன்மை மற்றும் சத்தியத்தில் ஒரு பாடத்தை வழங்குகிறார்கள்: மேலும் டிரம்பிற்கு எல்ஜிபிடி களை விட தாராளவாதியை புண்படுத்தக்கூடியது எது?ரேஸ் விவகாரம் குறித்து தெளிவுபடுத்துமாறு டிரம்ப் மாணவர்களை பிரதான ஊடகங்கள் கேட்டுக்கொண்டன.டிரம்பின் குடியேற்றக் கொள்கை எவ்வாறு இனவெறி என்பது பற்றி ஒரு பழைய பையும் அவரது மகளும் (?) சென்றனர், மேலும் ஒரு டிரம்ப் ஆதரவாளர் அமைதியாக பதிலளிக்கும் அதே வேளையில், இளம் ஹாக்லிங் தான் போகட்டும் என்று கூறுகிறார்.டொனால்ட் டிரம்ப், வழக்கம் போல், அனைவரையும் புரட்டுகிறார். வியா: முற்போக்குவாதிகள் இன்று\n"
     ]
    },
    {
     "name": "stdout",
     "output_type": "stream",
     "text": [
      "Prediction: Fake\n"
     ]
    },
    {
     "name": "stdin",
     "output_type": "stream",
     "text": [
      "Enter a news headline/article (or type 'exit' to quit):  \ttext 14013\tவாஷிங்டன் (ராய்ட்டர்ஸ்) - யு.எஸ்.கியூபா ஜனாதிபதி ரவுல் காஸ்ட்ரோவின் “கொடுங்கோன்மை சர்வாதிகாரத்தை” இந்த பயணம் சட்டபூர்வமாக்குகிறது என்று ஜனாதிபதி பராக் ஒபாமாவின் கியூபாவுக்கு விஜயம் செய்ததாக பிரதிநிதிகள் சபாநாயகர் பால் ரியான் செவ்வாய்க்கிழமை கண்டித்தார்.ஒபாமா தனது வரலாற்று சிறப்புமிக்க ஹவானாவுக்குச் சென்றதால் ரியான் வாஷிங்டனில் செய்தியாளர்களிடம் தனது கருத்துக்களை தெரிவித்தார் - இது மனித உரிமை மீறல்கள் தொடர்பாக அமெரிக்க மற்றும் கியூபா தலைவர்களிடையே ஏற்பட்ட மோதல்களால் குறிக்கப்பட்ட பயணம்.\n"
     ]
    },
    {
     "name": "stdout",
     "output_type": "stream",
     "text": [
      "Prediction: Real\n"
     ]
    },
    {
     "name": "stdin",
     "output_type": "stream",
     "text": [
      "Enter a news headline/article (or type 'exit' to quit):  \ttext 14020\tअधिक अमेरिकियों को निजी क्षेत्र में काम करने की तुलना में खाद्य सहायता प्राप्त होती है।\n"
     ]
    },
    {
     "name": "stdout",
     "output_type": "stream",
     "text": [
      "Prediction: Fake\n"
     ]
    },
    {
     "name": "stdin",
     "output_type": "stream",
     "text": [
      "Enter a news headline/article (or type 'exit' to quit):  \ttext 14035\tTOKYO (रायटर) - जापान सटीक एयर -लॉन्च की गई मिसाइलों का अधिग्रहण करने की तैयारी कर रहा है, जो पहली बार उत्तर कोरियाई मिसाइल साइटों पर प्रहार करने की क्षमता देगी, इस मामले के प्रत्यक्ष ज्ञान के साथ दो स्रोतों ने कहा।जापान ने अप्रैल से शुरू होने वाले अपने अगले रक्षा बजट में पैसे डालने की योजना बनाई है कि क्या इसके एफ -15 फाइटर्स लॉकहीड मार्टिन कॉर्प एस एक्सटेंडेड-रेंज संयुक्त एयर-टू-सरफेस स्टैंडऑफ मिसाइल (JASSM-ER) सहित लंबी दूरी की मिसाइलों को लॉन्च कर सकते हैं, जो1,000 किमी (620 मील) दूर लक्ष्य को हिट कर सकते हैं, एक स्रोत ने कहा कि योजना के ज्ञान के साथ।लंबी दूरी की मिसाइलों का उपयोग करने के लिए एक वैश्विक प्रवृत्ति है और यह केवल स्वाभाविक है कि जापान उन पर विचार करना चाहेगा, उन्होंने कहा।सूत्रों ने गुमनाम रहने के लिए कहा क्योंकि वे मीडिया से बात करने के लिए अधिकृत नहीं थे।फूजी टेलीविजन ने पहले बताया कि जापान ने नॉर्वे के कोंग्सबर्ग डिफेंस एंड एयरोस्पेस द्वारा डिजाइन किए जाने वाले 500 किमी-रेंज संयुक्त स्ट्राइक मिसाइल को खरीदने में भी रुचि रखी है।सूत्रों ने कहा कि उन दो वस्तुओं में से कोई भी 5.26 ट्रिलियन येन ($ 46.76 बिलियन) के बजट अनुरोध में शामिल नहीं है, जो पहले से ही जापान के रक्षा मंत्रालय द्वारा प्रस्तुत किया गया है, हालांकि इन मिसाइलों की खरीद का मूल्यांकन करने के लिए अतिरिक्त धनराशि उपलब्ध कराई जाएगी।परिवर्तन से पता चलता है कि उत्तर कोरियाई बैलिस्टिक मिसाइलों द्वारा उत्पन्न बढ़ते खतरे ने सैन्य योजना में ऊपरी हाथ को हड़ताल क्षमता के समर्थकों को दिया है।इसके युद्ध-नवीनीकरण संविधान द्वारा लगाए गए हड़ताल हथियारों पर प्रतिबंध का मतलब है कि जापान की मिसाइल बल 300 किलोमीटर (186 मील) से कम की सीमाओं के साथ विमान-रोधी और शिप-रोधी मुनियों से बना है।उत्तर कोरिया या यहां तक ​​कि चीनी मुख्य भूमि पर हड़ताली करने में सक्षम लंबे समय तक हथियार खरीदने का कोई भी निर्णय इसलिए विवादास्पद होगा, लेकिन समर्थकों का तर्क है कि स्ट्राइक हथियार एक रक्षात्मक भूमिका निभा सकते हैं।हम वर्तमान में इसके लिए धन नहीं देख रहे हैं, जापानी रक्षा मंत्री इटुनोरी ओनोडेरा ने मंगलवार को एक नियमित प्रेस ब्रीफिंग में कहा।उन्होंने कहा कि दुश्मन के ठिकानों पर हमला करने के लिए हम संयुक्त राज्य पर भरोसा करते हैं और हम अपनी भूमिकाओं को साझा करने के लिए कोई बदलाव नहीं कर रहे हैं।अगस्त में अपना पद संभालने से पहले, ओनोडेरा ने सत्तारूढ़ लिबरल डेमोक्रेटिक पार्टी के सांसदों के एक समूह का नेतृत्व किया, जिसने जापान को जापान पर किसी भी हमले को शुरू करने से रोकने के लिए जापान को हड़ताल हथियारों का अधिग्रहण करने की सिफारिश की।उत्तर कोरिया ने जापान पर बैलिस्टिक मिसाइलों को निकाल दिया है और पिछले हफ्ते एक नए प्रकार की इंटरकांटिनेंटल बैलिस्टिक मिसाइल का परीक्षण किया है जो जापान के अनन्य आर्थिक क्षेत्र के भीतर जापान के समुद्र में छींटाकशी करने से पहले 4,000 किमी से अधिक की ऊंचाई पर चढ़ गया था।\n"
     ]
    },
    {
     "name": "stdout",
     "output_type": "stream",
     "text": [
      "Prediction: Real\n"
     ]
    },
    {
     "name": "stdin",
     "output_type": "stream",
     "text": [
      "Enter a news headline/article (or type 'exit' to quit):  exit\n"
     ]
    },
    {
     "name": "stdout",
     "output_type": "stream",
     "text": [
      "Exiting...\n"
     ]
    }
   ],
   "source": [
    "from transformers import BertTokenizer, BertForSequenceClassification\n",
    "import torch\n",
    "\n",
    "# Load fine-tuned model and tokenizer\n",
    "model_path = \"mbbert_fake_news\"  # Make sure this path is correct\n",
    "model = BertForSequenceClassification.from_pretrained(model_path)\n",
    "tokenizer = BertTokenizer.from_pretrained(model_path)\n",
    "\n",
    "# Set model to evaluation mode (no training)\n",
    "model.eval()\n",
    "\n",
    "# Function to predict if news is real or fake\n",
    "def predict_fake_news(text):\n",
    "    # Tokenize input text\n",
    "    inputs = tokenizer(text, return_tensors=\"pt\", truncation=True, padding=True, max_length=512)\n",
    "\n",
    "    # Get model predictions\n",
    "    with torch.no_grad():\n",
    "        outputs = model(**inputs)\n",
    "\n",
    "    # Convert logits to class (0 or 1)\n",
    "    predicted_class = torch.argmax(outputs.logits, dim=1).item()\n",
    "\n",
    "    # Map prediction to label\n",
    "    label_map = {0: \"Real\", 1: \"Fake\"}  # Adjust based on your dataset labels\n",
    "    return label_map[predicted_class]\n",
    "\n",
    "# Ask for user input and predict\n",
    "while True:\n",
    "    news_text = input(\"Enter a news headline/article (or type 'exit' to quit): \")\n",
    "    if news_text.lower() == 'exit':\n",
    "        print(\"Exiting...\")\n",
    "        break\n",
    "    prediction = predict_fake_news(news_text)\n",
    "    print(f\"Prediction: {prediction}\")\n"
   ]
  },
  {
   "cell_type": "code",
   "execution_count": 129,
   "id": "d2816fe3-a56f-4d48-8faf-39558470ea1b",
   "metadata": {},
   "outputs": [
    {
     "name": "stdin",
     "output_type": "stream",
     "text": [
      "Enter a news headline/article (or type 'exit' to quit):  ‘We didn’t give false hopes to the poor but brought real change’: PM Modi’s dig at Congress\n"
     ]
    },
    {
     "name": "stdout",
     "output_type": "stream",
     "text": [
      "Prediction: Fake\n"
     ]
    },
    {
     "name": "stdin",
     "output_type": "stream",
     "text": [
      "Enter a news headline/article (or type 'exit' to quit):  'Modi worships those ignored by everyone else': Prime Minister in Parliament\n"
     ]
    },
    {
     "name": "stdout",
     "output_type": "stream",
     "text": [
      "Prediction: Fake\n"
     ]
    },
    {
     "name": "stdin",
     "output_type": "stream",
     "text": [
      "Enter a news headline/article (or type 'exit' to quit):  \ttext 772\t(reuters) - new abortion regulations took effect on tuesday in missouri that critics argue will make it more difficult for women to access the procedure. a judge on monday declined to block a requirement that physicians performing abortions inform their patients about abortion risks at least 72 hours before their procedure. previously, a different provider could give that mandated information. that means repeat doctor visits for women seeking abortions, some of whom must travel hundreds of miles to reach one of missouri’s three clinics, said bonyen lee-gilmore, a spokeswoman for planned parenthood great plains. there is also a shortage of abortion doctors, she said. the organization had sued to stop the new regulations because of the provider requirement. “this is about making it as difficult as possible to obtain an abortion,” lee-gilmore said in a phone interview on tuesday. “abortion access is chipped away one seemingly moderate restriction at a time.” missouri attorney general josh hawley praised the law in a statement issued late on monday, saying, “sb5 enacts sensible regulations that protect the health of women in missouri and we will continue to vigorously defend these.” the provider restriction was part of broader abortion regulations that went into effect on monday after they were passed by missouri lawmakers during a july special session called by republican governor eric greitens. among other things, the law gives the attorney general power to enforce abortion laws, requires annual surprise inspections of clinics and exempts pregnancy resource centers, which counsel against abortions, from a local st. louis law banning employers from discriminating against those who have had an abortion. critics of the st. louis ordinance believed it could require the centers to hire workers who favor abortion rights. the legislative session was called after a federal judge in april blocked requirements for clinics to meet standards for surgical centers and for doctors to have hospital privileges as unconstitutional barriers to access. since then, doctors in missouri, formerly one of seven states down to only one clinic providing abortions, have begun offering them at three locations, in st. louis, columbia and kansas city. but the new regulation offsets the benefits of those new locations, lee-gilmore said. u.s. state legislatures enacted 41 new abortion restrictions in the first half of 2017, according to the guttmacher institute, a reproductive health think tank that supports abortion rights.\n"
     ]
    },
    {
     "name": "stdout",
     "output_type": "stream",
     "text": [
      "Prediction: Real\n"
     ]
    },
    {
     "name": "stdin",
     "output_type": "stream",
     "text": [
      "Enter a news headline/article (or type 'exit' to quit):  exit\n"
     ]
    },
    {
     "name": "stdout",
     "output_type": "stream",
     "text": [
      "Exited\n"
     ]
    }
   ],
   "source": [
    "from transformers import BertTokenizer, BertForSequenceClassification\n",
    "import torch\n",
    "\n",
    "# Load fine-tuned model and tokenizer\n",
    "model_path = \"mbbert_fake_news\"  # Make sure this path is correct\n",
    "model = BertForSequenceClassification.from_pretrained(model_path)\n",
    "tokenizer = BertTokenizer.from_pretrained(model_path)\n",
    "\n",
    "# Set model to evaluation mode (no training)\n",
    "model.eval()\n",
    "\n",
    "# Function to predict if news is real or fake\n",
    "def predict_fake_news(text):\n",
    "    # Tokenize input text\n",
    "    inputs = tokenizer(text, return_tensors=\"pt\", truncation=True, padding=True, max_length=512)\n",
    "\n",
    "    # Get model predictions\n",
    "    with torch.no_grad():\n",
    "        outputs = model(**inputs)\n",
    "\n",
    "    # Convert logits to class (0 or 1)\n",
    "    predicted_class = torch.argmax(outputs.logits, dim=1).item()\n",
    "\n",
    "    # Map prediction to label\n",
    "    label_map = {0: \"Real\", 1: \"Fake\"}  # Adjust based on your dataset labels\n",
    "    return label_map[predicted_class]\n",
    "\n",
    "# Ask for user input and predict\n",
    "while True:\n",
    "    news_text = input(\"Enter a news headline/article (or type 'exit' to quit): \")\n",
    "    if news_text.lower() == 'exit':\n",
    "        print(\"Exited\")\n",
    "        break\n",
    "    prediction = predict_fake_news(news_text)\n",
    "    print(f\"Prediction: {prediction}\")\n"
   ]
  },
  {
   "cell_type": "code",
   "execution_count": 1,
   "id": "b0301f8e-fb8b-4da4-915d-801ce93fec43",
   "metadata": {},
   "outputs": [
    {
     "name": "stderr",
     "output_type": "stream",
     "text": [
      "Asking to truncate to max_length but no maximum length is provided and the model has no predefined maximum length. Default to no truncation.\n",
      "BertSdpaSelfAttention is used but `torch.nn.functional.scaled_dot_product_attention` does not support non-absolute `position_embedding_type` or `output_attentions=True` or `head_mask`. Falling back to the manual attention implementation, but specifying the manual implementation will be required from Transformers version v5.0.0 onwards. This warning can be removed using the argument `attn_implementation=\"eager\"` when loading the model.\n"
     ]
    },
    {
     "data": {
      "image/png": "[encoded data removed]",
      "text/plain": [
       "<Figure size 1000x600 with 2 Axes>"
      ]
     },
     "metadata": {},
     "output_type": "display_data"
    }
   ],
   "source": [
    "import torch\n",
    "import matplotlib.pyplot as plt\n",
    "import seaborn as sns\n",
    "from transformers import BertTokenizer, BertForSequenceClassification\n",
    "\n",
    "# Load mBERT model & tokenizer\n",
    "model_name = \"mbbert_fake_news\"  # Change if using a fine-tuned version\n",
    "tokenizer = BertTokenizer.from_pretrained(model_name)\n",
    "model = BertForSequenceClassification.from_pretrained(model_name, output_attentions=True)\n",
    "model.eval()\n",
    "\n",
    "# Input text\n",
    "text = \"This is an example of fake news detection.\"\n",
    "tokens = tokenizer(text, return_tensors=\"pt\", truncation=True, padding=True)\n",
    "input_ids = tokens[\"input_ids\"]\n",
    "\n",
    "# Get model outputs (including attention scores)\n",
    "with torch.no_grad():\n",
    "    outputs = model(**tokens)\n",
    "\n",
    "# Extract attention scores from the last layer\n",
    "attention = outputs.attentions[-1]  # Shape: (batch_size, num_heads, seq_len, seq_len)\n",
    "attention = attention.mean(dim=1).squeeze(0)  # Average over all heads\n",
    "\n",
    "# Convert token IDs to words\n",
    "tokens_list = tokenizer.convert_ids_to_tokens(input_ids.squeeze().tolist())\n",
    "\n",
    "# Plot Heatmap\n",
    "plt.figure(figsize=(10, 6))\n",
    "sns.heatmap(attention.numpy(), xticklabels=tokens_list, yticklabels=tokens_list, cmap=\"Blues\", annot=True, fmt=\".2f\")\n",
    "plt.title(\"mBERT Attention Heatmap\")\n",
    "plt.xlabel(\"Tokens\")\n",
    "plt.ylabel(\"Tokens\")\n",
    "plt.show()\n"
   ]
  },
  {
   "cell_type": "code",
   "execution_count": null,
   "id": "a9974c4c-c531-4e6f-8877-ee8e49afca09",
   "metadata": {},
   "outputs": [],
   "source": []
  }
 ],
 "metadata": {
  "kernelspec": {
   "display_name": "Python 3 (ipykernel)",
   "language": "python",
   "name": "python3"
  },
  "language_info": {
   "codemirror_mode": {
    "name": "ipython",
    "version": 3
   },
   "file_extension": ".py",
   "mimetype": "text/x-python",
   "name": "python",
   "nbconvert_exporter": "python",
   "pygments_lexer": "ipython3",
   "version": "3.12.4"
  }
 },
 "nbformat": 4,
 "nbformat_minor": 5
}
