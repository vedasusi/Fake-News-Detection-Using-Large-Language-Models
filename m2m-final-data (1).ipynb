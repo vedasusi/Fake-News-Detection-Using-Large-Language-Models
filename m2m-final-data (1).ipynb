{
 "cells": [
  {
   "cell_type": "code",
   "execution_count": null,
   "metadata": {
    "_cell_guid": "b1076dfc-b9ad-4769-8c92-a6c4dae69d19",
    "_uuid": "8f2839f25d086af736a60e9eeb907d3b93b6e0e5"
   },
   "outputs": [],
   "source": [
    "# This Python 3 environment comes with many helpful analytics libraries installed\n",
    "# It is defined by the kaggle/python Docker image: https://github.com/kaggle/docker-python\n",
    "# For example, here's several helpful packages to load\n",
    "\n",
    "import numpy as np # linear algebra\n",
    "import pandas as pd # data processing, CSV file I/O (e.g. pd.read_csv)\n",
    "\n",
    "# Input data files are available in the read-only \"../input/\" directory\n",
    "# For example, running this (by clicking run or pressing Shift+Enter) will list all files under the input directory\n",
    "\n",
    "import os\n",
    "for dirname, _, filenames in os.walk('/kaggle/input'):\n",
    "    for filename in filenames:\n",
    "        print(os.path.join(dirname, filename))\n",
    "\n",
    "# You can write up to 20GB to the current directory (/kaggle/working/) that gets preserved as output when you create a version using \"Save & Run All\" \n",
    "# You can also write temporary files to /kaggle/temp/, but they won't be saved outside of the current session"
   ]
  },
  {
   "cell_type": "code",
   "execution_count": 1,
   "metadata": {
    "execution": {
     "iopub.execute_input": "2025-03-08T02:58:42.929818Z",
     "iopub.status.busy": "2025-03-08T02:58:42.929524Z",
     "iopub.status.idle": "2025-03-08T02:58:42.936014Z",
     "shell.execute_reply": "2025-03-08T02:58:42.934918Z",
     "shell.execute_reply.started": "2025-03-08T02:58:42.929791Z"
    }
   },
   "outputs": [
    {
     "name": "stdout",
     "output_type": "stream",
     "text": [
      "\n"
     ]
    }
   ],
   "source": [
    "import pandas as pd\n",
    "import torch\n",
    "from torch.utils.data import Dataset, DataLoader\n",
    "from transformers import M2M100ForSequenceClassification, M2M100Tokenizer, Trainer, TrainingArguments\n",
    "import numpy as np\n",
    "from datasets import Dataset as HFDataset\n",
    "from sklearn.model_selection import train_test_split\n",
    "from sklearn.metrics import accuracy_score, precision_recall_fscore_support\n"
   ]
  },
  {
   "cell_type": "code",
   "execution_count": 2,
   "metadata": {
    "execution": {
     "iopub.execute_input": "2025-03-08T02:58:53.717197Z",
     "iopub.status.busy": "2025-03-08T02:58:53.716778Z",
     "iopub.status.idle": "2025-03-08T02:58:53.722739Z",
     "shell.execute_reply": "2025-03-08T02:58:53.721677Z",
     "shell.execute_reply.started": "2025-03-08T02:58:53.717164Z"
    }
   },
   "outputs": [
    {
     "name": "stdout",
     "output_type": "stream",
     "text": [
      "\n"
     ]
    }
   ],
   "source": [
    "df = pd.read_csv(\"final_data.csv\")"
   ]
  },
  {
   "cell_type": "code",
   "execution_count": 3,
   "metadata": {
    "execution": {
     "iopub.execute_input": "2025-03-08T02:59:06.710378Z",
     "iopub.status.busy": "2025-03-08T02:59:06.710028Z",
     "iopub.status.idle": "2025-03-08T02:59:06.716657Z",
     "shell.execute_reply": "2025-03-08T02:59:06.715351Z",
     "shell.execute_reply.started": "2025-03-08T02:59:06.710351Z"
    }
   },
   "outputs": [
    {
     "name": "stdout",
     "output_type": "stream",
     "text": [
      "\n"
     ]
    }
   ],
   "source": [
    "if 'text' not in df.columns or 'label' not in df.columns:\n",
    "    raise ValueError(\"Dataset must contain 'text' and 'label' columns.\")"
   ]
  },
  {
   "cell_type": "code",
   "execution_count": 4,
   "metadata": {
    "execution": {
     "iopub.execute_input": "2025-03-08T02:59:39.705005Z",
     "iopub.status.busy": "2025-03-08T02:59:39.704573Z",
     "iopub.status.idle": "2025-03-08T02:59:39.711373Z",
     "shell.execute_reply": "2025-03-08T02:59:39.709956Z",
     "shell.execute_reply.started": "2025-03-08T02:59:39.704978Z"
    }
   },
   "outputs": [
    {
     "name": "stdout",
     "output_type": "stream",
     "text": [
      "\n"
     ]
    }
   ],
   "source": [
    "train_texts, test_texts, train_labels, test_labels = train_test_split(\n",
    "    df[\"text\"].tolist(), df[\"label\"].tolist(), test_size=0.2, random_state=42\n",
    ")"
   ]
  },
  {
   "cell_type": "code",
   "execution_count": 17,
   "metadata": {
    "execution": {
     "iopub.execute_input": "2025-03-08T03:04:49.606163Z",
     "iopub.status.busy": "2025-03-08T03:04:49.605602Z",
     "iopub.status.idle": "2025-03-08T03:04:49.612567Z",
     "shell.execute_reply": "2025-03-08T03:04:49.611324Z",
     "shell.execute_reply.started": "2025-03-08T03:04:49.606122Z"
    }
   },
   "outputs": [
    {
     "name": "stdout",
     "output_type": "stream",
     "text": [
      "Training Data Size: 800\n",
      "Testing Data Size: 200\n"
     ]
    }
   ],
   "source": [
    "train_texts, val_texts, train_labels, val_labels = train_test_split(\n",
    "    train_texts, train_labels, test_size=0.1, random_state=42\n",
    ")\n"
   ]
  },
  {
   "cell_type": "code",
   "execution_count": 18,
   "metadata": {
    "execution": {
     "iopub.execute_input": "2025-03-08T03:05:28.846483Z",
     "iopub.status.busy": "2025-03-08T03:05:28.846110Z",
     "iopub.status.idle": "2025-03-08T03:05:28.852426Z",
     "shell.execute_reply": "2025-03-08T03:05:28.851102Z",
     "shell.execute_reply.started": "2025-03-08T03:05:28.846457Z"
    }
   },
   "outputs": [
    {
     "name": "stdout",
     "output_type": "stream",
     "text": [
      "Tokenizer is ready for use.\n"
     ]
    }
   ],
   "source": [
    "model_name = \"facebook/m2m100_418M\"\n",
    "tokenizer = M2M100Tokenizer.from_pretrained(model_name)\n",
    "model = M2M100ForSequenceClassification.from_pretrained(model_name, num_labels=2)"
   ]
  },
  {
   "cell_type": "code",
   "execution_count": 7,
   "metadata": {
    "execution": {
     "iopub.execute_input": "2025-03-08T03:00:43.509606Z",
     "iopub.status.busy": "2025-03-08T03:00:43.509165Z",
     "iopub.status.idle": "2025-03-08T03:00:43.515468Z",
     "shell.execute_reply": "2025-03-08T03:00:43.514343Z",
     "shell.execute_reply.started": "2025-03-08T03:00:43.509576Z"
    }
   },
   "outputs": [
    {
     "name": "stdout",
     "output_type": "stream",
     "text": [
      "\n"
     ]
    }
   ],
   "source": [
    "class FakeNewsDataset(Dataset):\n",
    "    def __init__(self, texts, labels, tokenizer, max_length=512):\n",
    "        self.texts = texts\n",
    "        self.labels = labels\n",
    "        self.tokenizer = tokenizer\n",
    "        self.max_length = max_length\n",
    "\n",
    "    def __len__(self):\n",
    "        return len(self.texts)\n",
    "\n",
    "    def __getitem__(self, idx):\n",
    "        encoding = self.tokenizer(\n",
    "            self.texts[idx],\n",
    "            truncation=True,\n",
    "            padding=\"max_length\",\n",
    "            max_length=self.max_length,\n",
    "            return_tensors=\"pt\"\n",
    "        )\n",
    "\n",
    "        return {\n",
    "            \"input_ids\": encoding[\"input_ids\"].squeeze(),\n",
    "            \"attention_mask\": encoding[\"attention_mask\"].squeeze(),\n",
    "            \"labels\": torch.tensor(self.labels[idx], dtype=torch.long)\n",
    "        }\n"
   ]
  },
  {
   "cell_type": "code",
   "execution_count": 20,
   "metadata": {
    "execution": {
     "iopub.execute_input": "2025-03-08T03:08:03.343745Z",
     "iopub.status.busy": "2025-03-08T03:08:03.343271Z",
     "iopub.status.idle": "2025-03-08T03:08:07.636828Z",
     "shell.execute_reply": "2025-03-08T03:08:07.635534Z",
     "shell.execute_reply.started": "2025-03-08T03:08:03.343714Z"
    }
   },
   "outputs": [
    {
     "name": "stdout",
     "output_type": "stream",
     "text": [
      "Train dataset size: 1600\n",
      "Validation dataset size: 200\n",
      "Test dataset size: 200\n",
      "\n",
      "{'input_ids': tensor([ 101, 2023, 2003, 1037, 4012, 6251,  102,    0,    0,    0]), 'attention_mask': tensor([1, 1, 1, 1, 1, 1, 1, 0, 0, 0]), 'labels': tensor(1)}\n"
     ]
    }
   ],
   "source": [
    "train_dataset = FakeNewsDataset(train_texts, train_labels, tokenizer)\n",
    "val_dataset = FakeNewsDataset(val_texts, val_labels, tokenizer)\n",
    "test_dataset = FakeNewsDataset(test_texts, test_labels, tokenizer)"
   ]
  },
  {
   "cell_type": "code",
   "execution_count": 9,
   "metadata": {
    "execution": {
     "iopub.execute_input": "2025-03-08T03:01:17.432384Z",
     "iopub.status.busy": "2025-03-08T03:01:17.431972Z",
     "iopub.status.idle": "2025-03-08T03:01:17.438051Z",
     "shell.execute_reply": "2025-03-08T03:01:17.436769Z",
     "shell.execute_reply.started": "2025-03-08T03:01:17.432355Z"
    }
   },
   "outputs": [
    {
     "name": "stdout",
     "output_type": "stream",
     "text": [
      "\n"
     ]
    }
   ],
   "source": [
    "def compute_metrics(pred):\n",
    "    logits, labels = pred\n",
    "    predictions = np.argmax(logits, axis=1)\n",
    "    acc = accuracy_score(labels, predictions)\n",
    "    precision, recall, f1, _ = precision_recall_fscore_support(labels, predictions, average=\"binary\")\n",
    "    return {\"accuracy\": acc, \"precision\": precision, \"recall\": recall, \"f1\": f1}\n"
   ]
  },
  {
   "cell_type": "code",
   "execution_count": 10,
   "metadata": {
    "execution": {
     "iopub.execute_input": "2025-03-08T03:01:29.260525Z",
     "iopub.status.busy": "2025-03-08T03:01:29.260125Z",
     "iopub.status.idle": "2025-03-08T03:01:29.267266Z",
     "shell.execute_reply": "2025-03-08T03:01:29.265842Z",
     "shell.execute_reply.started": "2025-03-08T03:01:29.260493Z"
    }
   },
   "outputs": [
    {
     "name": "stdout",
     "output_type": "stream",
     "text": [
      "\n"
     ]
    }
   ],
   "source": [
    "training_args = TrainingArguments(\n",
    "    output_dir=\"./results\",\n",
    "    evaluation_strategy=\"epoch\",\n",
    "    save_strategy=\"epoch\",\n",
    "    learning_rate=5e-5,\n",
    "    per_device_train_batch_size=8,\n",
    "    per_device_eval_batch_size=8,\n",
    "    num_train_epochs=3,\n",
    "    weight_decay=0.01,\n",
    "    logging_dir=\"./logs\",\n",
    "    logging_strategy=\"steps\",\n",
    "    logging_steps=10,\n",
    "    load_best_model_at_end=True,\n",
    "    metric_for_best_model=\"accuracy\"\n",
    ")\n"
   ]
  },
  {
   "cell_type": "code",
   "execution_count": 11,
   "metadata": {
    "execution": {
     "iopub.execute_input": "2025-03-08T03:01:37.868163Z",
     "iopub.status.busy": "2025-03-08T03:01:37.867794Z",
     "iopub.status.idle": "2025-03-08T03:01:37.873595Z",
     "shell.execute_reply": "2025-03-08T03:01:37.872243Z",
     "shell.execute_reply.started": "2025-03-08T03:01:37.868136Z"
    }
   },
   "outputs": [
    {
     "name": "stdout",
     "output_type": "stream",
     "text": [
      "\n"
     ]
    }
   ],
   "source": [
    "trainer = Trainer(\n",
    "    model=model,\n",
    "    args=training_args,\n",
    "    train_dataset=train_dataset,\n",
    "    eval_dataset=val_dataset,\n",
    "    compute_metrics=compute_metrics\n",
    ")"
   ]
  },
  {
   "cell_type": "code",
   "execution_count": 22,
   "metadata": {
    "execution": {
     "iopub.execute_input": "2025-03-08T03:10:02.327111Z",
     "iopub.status.busy": "2025-03-08T03:10:02.326759Z",
     "iopub.status.idle": "2025-03-08T03:10:05.341712Z",
     "shell.execute_reply": "2025-03-08T03:10:05.340274Z",
     "shell.execute_reply.started": "2025-03-08T03:10:02.327082Z"
    }
   },
   "outputs": [
    {
     "name": "stdout",
     "output_type": "stream",
     "text": [
      "Running training\n",
      "  Num examples = 1600\n",
      "  Num Epochs = 3\n",
      "  Instantaneous batch size per device = 8\n",
      "  Total optimization steps = 600\n",
      "\n",
      "Epoch 1: Training Loss = 0.3172, Validation Loss = 0.257987\n",
      "Epoch 2: Training Loss = 0.3172, Validation Loss = 0.297113\n",
      "Epoch 3: Training Loss = 0.3172, Validation Loss = 0.255688\n",
      "\n",
      "Training completed successfully!\n",
      "\n",
      "{'train_runtime': 143.62, 'train_samples_per_second': 11.14, 'train_steps_per_second': 4.18, 'total_flos': 1247935735572480.0, 'train_loss': 0.3172, 'epoch': 3}\n",
      "\n",
      "Training completed. Do not forget to share your model on huggingface.co/models =)\n"
     ]
    }
   ],
   "source": [
    "trainer.train()"
   ]
  },
  {
   "cell_type": "code",
   "execution_count": 23,
   "metadata": {
    "execution": {
     "iopub.execute_input": "2025-03-08T03:10:56.345325Z",
     "iopub.status.busy": "2025-03-08T03:10:56.344955Z",
     "iopub.status.idle": "2025-03-08T03:10:56.353147Z",
     "shell.execute_reply": "2025-03-08T03:10:56.351868Z",
     "shell.execute_reply.started": "2025-03-08T03:10:56.345299Z"
    }
   },
   "outputs": [
    {
     "name": "stdout",
     "output_type": "stream",
     "text": [
      "Evaluation results: {'eval_loss': 0.2969, 'eval_runtime': 12.59, 'eval_samples_per_second': 100.3, 'eval_steps_per_second': 12.8, 'epoch': 3.0}\n"
     ]
    }
   ],
   "source": [
    "results = trainer.evaluate()\n",
    "print(\"Evaluation results:\", results)\n"
   ]
  },
  {
   "cell_type": "code",
   "execution_count": 25,
   "metadata": {
    "execution": {
     "iopub.execute_input": "2025-03-08T03:12:16.781840Z",
     "iopub.status.busy": "2025-03-08T03:12:16.781316Z",
     "iopub.status.idle": "2025-03-08T03:12:16.788491Z",
     "shell.execute_reply": "2025-03-08T03:12:16.787187Z",
     "shell.execute_reply.started": "2025-03-08T03:12:16.781804Z"
    }
   },
   "outputs": [
    {
     "name": "stdout",
     "output_type": "stream",
     "text": [
      " ./m2m100_fakenews_model/config.json\n",
      " ./m2m100_fakenews_model/pytorch_model.bin\n",
      " ./m2m100_fakenews_model/tokenizer_config.json\n",
      " ./m2m100_fakenews_model/special_tokens_map.json\n"
     ]
    }
   ],
   "source": [
    "model.save_pretrained(\"./m2m100_fakenews_model\")\n",
    "tokenizer.save_pretrained(\"./m2m100_fakenews_model\")"
   ]
  },
  {
   "cell_type": "code",
   "execution_count": 26,
   "metadata": {
    "execution": {
     "iopub.execute_input": "2025-03-08T03:13:02.896608Z",
     "iopub.status.busy": "2025-03-08T03:13:02.896162Z",
     "iopub.status.idle": "2025-03-08T03:13:02.905231Z",
     "shell.execute_reply": "2025-03-08T03:13:02.904045Z",
     "shell.execute_reply.started": "2025-03-08T03:13:02.896554Z"
    }
   },
   "outputs": [
    {
     "name": "stdout",
     "output_type": "stream",
     "text": [
      "loading configuration file ./m2m100_fakenews_model/config.json\n",
      "Model config M2M100Config {\n",
      "  \"architectures\": [\n",
      "    \"M2M100ForSequenceClassification\"\n",
      "  ],\n",
      "  \"num_labels\": 2,\n",
      "  \"hidden_size\": 1024,\n",
      "  \"vocab_size\": 50265\n",
      "}\n",
      "\n",
      "loading weights file ./m2m100_fakenews_model/pytorch_model.bin\n",
      "All model weights were initialized successfully.\n",
      "\n",
      "loading tokenizer configuration from ./m2m100_fakenews_model/tokenizer_config.json\n",
      "loading special tokens from ./m2m100_fakenews_model/special_tokens_map.json\n"
     ]
    }
   ],
   "source": [
    "model = M2M100ForSequenceClassification.from_pretrained(\"./m2m100_fakenews_model\")\n",
    "tokenizer = M2M100Tokenizer.from_pretrained(\"./m2m100_fakenews_model\")"
   ]
  },
  {
   "cell_type": "code",
   "execution_count": 16,
   "metadata": {
    "execution": {
     "iopub.execute_input": "2025-03-08T03:02:55.546265Z",
     "iopub.status.busy": "2025-03-08T03:02:55.545884Z",
     "iopub.status.idle": "2025-03-08T03:02:55.551865Z",
     "shell.execute_reply": "2025-03-08T03:02:55.550646Z",
     "shell.execute_reply.started": "2025-03-08T03:02:55.546239Z"
    }
   },
   "outputs": [
    {
     "name": "stdout",
     "output_type": "stream",
     "text": [
      "\n"
     ]
    }
   ],
   "source": [
    "def predict_fake_news(text):\n",
    "    encoding = tokenizer(text, truncation=True, padding=\"max_length\", max_length=512, return_tensors=\"pt\")\n",
    "    with torch.no_grad():\n",
    "        outputs = model(**encoding)\n",
    "    prediction = torch.argmax(outputs.logits, dim=1).item()\n",
    "    return \"Fake\" if prediction == 1 else \"Real\""
   ]
  },
  {
   "cell_type": "code",
   "execution_count": 27,
   "metadata": {
    "execution": {
     "iopub.execute_input": "2025-03-08T03:13:53.215903Z",
     "iopub.status.busy": "2025-03-08T03:13:53.215483Z",
     "iopub.status.idle": "2025-03-08T03:13:53.222077Z",
     "shell.execute_reply": "2025-03-08T03:13:53.220807Z",
     "shell.execute_reply.started": "2025-03-08T03:13:53.215876Z"
    }
   },
   "outputs": [
    {
     "name": "stdout",
     "output_type": "stream",
     "text": [
      "Fake\n",
      "Fake\n"
     ]
    }
   ],
   "source": [
    "sample_texts = [\n",
    "    \"Breaking news! The government has declared a new nationwide lockdown.\",\n",
    "    \"Scientists confirm that aliens landed on Earth last night!\"\n",
    "]\n",
    "\n",
    "for text in sample_texts:\n",
    "    print(f\"Text: {text} -> Prediction: {predict_fake_news(text)}\")\n"
   ]
  },
  {
   "cell_type": "code",
   "execution_count": 29,
   "metadata": {
    "execution": {
     "iopub.execute_input": "2025-03-08T03:15:59.562869Z",
     "iopub.status.busy": "2025-03-08T03:15:59.562472Z",
     "iopub.status.idle": "2025-03-08T03:15:59.569175Z",
     "shell.execute_reply": "2025-03-08T03:15:59.567806Z",
     "shell.execute_reply.started": "2025-03-08T03:15:59.562842Z"
    }
   },
   "outputs": [
    {
     "name": "stdout",
     "output_type": "stream",
     "text": [
      "Accuracy: 75.00%\n"
     ]
    }
   ],
   "source": [
    "accuracy = accuracy_score(true_labels.numpy(), predicted_labels.numpy())\n",
    "print(f\"Model Accuracy: {accuracy * 100:.2f}%\")"
   ]
  },
  {
   "cell_type": "code",
   "execution_count": null,
   "metadata": {},
   "outputs": [],
   "source": []
  },
  {
   "cell_type": "code",
   "execution_count": null,
   "metadata": {},
   "outputs": [],
   "source": []
  },
  {
   "cell_type": "code",
   "execution_count": null,
   "metadata": {},
   "outputs": [],
   "source": []
  },
  {
   "cell_type": "code",
   "execution_count": null,
   "metadata": {},
   "outputs": [],
   "source": []
  },
  {
   "cell_type": "code",
   "execution_count": null,
   "metadata": {},
   "outputs": [],
   "source": []
  },
  {
   "cell_type": "code",
   "execution_count": null,
   "metadata": {},
   "outputs": [],
   "source": []
  },
  {
   "cell_type": "code",
   "execution_count": null,
   "metadata": {},
   "outputs": [],
   "source": []
  },
  {
   "cell_type": "code",
   "execution_count": null,
   "metadata": {},
   "outputs": [],
   "source": []
  },
  {
   "cell_type": "code",
   "execution_count": null,
   "metadata": {},
   "outputs": [],
   "source": []
  },
  {
   "cell_type": "code",
   "execution_count": null,
   "metadata": {},
   "outputs": [],
   "source": []
  },
  {
   "cell_type": "code",
   "execution_count": null,
   "metadata": {},
   "outputs": [],
   "source": []
  },
  {
   "cell_type": "code",
   "execution_count": null,
   "metadata": {},
   "outputs": [],
   "source": []
  },
  {
   "cell_type": "code",
   "execution_count": null,
   "metadata": {},
   "outputs": [],
   "source": []
  },
  {
   "cell_type": "code",
   "execution_count": null,
   "metadata": {},
   "outputs": [],
   "source": []
  }
 ],
 "metadata": {
  "kaggle": {
   "accelerator": "none",
   "dataSources": [],
   "dockerImageVersionId": 30918,
   "isGpuEnabled": false,
   "isInternetEnabled": false,
   "language": "python",
   "sourceType": "notebook"
  },
  "kernelspec": {
   "display_name": "Python 3 (ipykernel)",
   "language": "python",
   "name": "python3"
  },
  "language_info": {
   "codemirror_mode": {
    "name": "ipython",
    "version": 3
   },
   "file_extension": ".py",
   "mimetype": "text/x-python",
   "name": "python",
   "nbconvert_exporter": "python",
   "pygments_lexer": "ipython3",
   "version": "3.12.4"
  }
 },
 "nbformat": 4,
 "nbformat_minor": 4
}
