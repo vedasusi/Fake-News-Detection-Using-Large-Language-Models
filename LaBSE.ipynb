{
 "cells": [
  {
   "cell_type": "code",
   "execution_count": 1,
   "id": "557379e0-7016-4be2-a0dd-5a3d1ae22ff7",
   "metadata": {},
   "outputs": [
    {
     "name": "stdout",
     "output_type": "stream",
     "text": [
      "Requirement already satisfied: pandas in c:\\users\\vedas\\anaconda3\\lib\\site-packages (2.2.2)\n",
      "Requirement already satisfied: transformers in c:\\users\\vedas\\anaconda3\\lib\\site-packages (4.48.2)\n",
      "Collecting sentence-transformers\n",
      "  Downloading sentence_transformers-3.4.1-py3-none-any.whl.metadata (10 kB)\n",
      "Requirement already satisfied: torch in c:\\users\\vedas\\anaconda3\\lib\\site-packages (2.5.1)\n",
      "Requirement already satisfied: scikit-learn in c:\\users\\vedas\\anaconda3\\lib\\site-packages (1.4.2)\n",
      "Requirement already satisfied: numpy>=1.26.0 in c:\\users\\vedas\\anaconda3\\lib\\site-packages (from pandas) (1.26.4)\n",
      "Requirement already satisfied: python-dateutil>=2.8.2 in c:\\users\\vedas\\anaconda3\\lib\\site-packages (from pandas) (2.9.0.post0)\n",
      "Requirement already satisfied: pytz>=2020.1 in c:\\users\\vedas\\anaconda3\\lib\\site-packages (from pandas) (2024.1)\n",
      "Requirement already satisfied: tzdata>=2022.7 in c:\\users\\vedas\\anaconda3\\lib\\site-packages (from pandas) (2023.3)\n",
      "Requirement already satisfied: filelock in c:\\users\\vedas\\anaconda3\\lib\\site-packages (from transformers) (3.13.1)\n",
      "Requirement already satisfied: huggingface-hub<1.0,>=0.24.0 in c:\\users\\vedas\\anaconda3\\lib\\site-packages (from transformers) (0.26.1)\n",
      "Requirement already satisfied: packaging>=20.0 in c:\\users\\vedas\\anaconda3\\lib\\site-packages (from transformers) (23.2)\n",
      "Requirement already satisfied: pyyaml>=5.1 in c:\\users\\vedas\\anaconda3\\lib\\site-packages (from transformers) (6.0.1)\n",
      "Requirement already satisfied: regex!=2019.12.17 in c:\\users\\vedas\\anaconda3\\lib\\site-packages (from transformers) (2023.10.3)\n",
      "Requirement already satisfied: requests in c:\\users\\vedas\\anaconda3\\lib\\site-packages (from transformers) (2.32.2)\n",
      "Requirement already satisfied: tokenizers<0.22,>=0.21 in c:\\users\\vedas\\anaconda3\\lib\\site-packages (from transformers) (0.21.0)\n",
      "Requirement already satisfied: safetensors>=0.4.1 in c:\\users\\vedas\\anaconda3\\lib\\site-packages (from transformers) (0.4.5)\n",
      "Requirement already satisfied: tqdm>=4.27 in c:\\users\\vedas\\anaconda3\\lib\\site-packages (from transformers) (4.66.4)\n",
      "Requirement already satisfied: scipy in c:\\users\\vedas\\anaconda3\\lib\\site-packages (from sentence-transformers) (1.13.1)\n",
      "Requirement already satisfied: Pillow in c:\\users\\vedas\\anaconda3\\lib\\site-packages (from sentence-transformers) (10.3.0)\n",
      "Requirement already satisfied: typing-extensions>=4.8.0 in c:\\users\\vedas\\anaconda3\\lib\\site-packages (from torch) (4.11.0)\n",
      "Requirement already satisfied: networkx in c:\\users\\vedas\\anaconda3\\lib\\site-packages (from torch) (3.2.1)\n",
      "Requirement already satisfied: jinja2 in c:\\users\\vedas\\anaconda3\\lib\\site-packages (from torch) (3.1.4)\n",
      "Requirement already satisfied: fsspec in c:\\users\\vedas\\anaconda3\\lib\\site-packages (from torch) (2024.3.1)\n",
      "Requirement already satisfied: setuptools in c:\\users\\vedas\\anaconda3\\lib\\site-packages (from torch) (69.5.1)\n",
      "Requirement already satisfied: sympy==1.13.1 in c:\\users\\vedas\\anaconda3\\lib\\site-packages (from torch) (1.13.1)\n",
      "Requirement already satisfied: mpmath<1.4,>=1.1.0 in c:\\users\\vedas\\anaconda3\\lib\\site-packages (from sympy==1.13.1->torch) (1.3.0)\n",
      "Requirement already satisfied: joblib>=1.2.0 in c:\\users\\vedas\\anaconda3\\lib\\site-packages (from scikit-learn) (1.4.2)\n",
      "Requirement already satisfied: threadpoolctl>=2.0.0 in c:\\users\\vedas\\anaconda3\\lib\\site-packages (from scikit-learn) (2.2.0)\n",
      "Requirement already satisfied: six>=1.5 in c:\\users\\vedas\\anaconda3\\lib\\site-packages (from python-dateutil>=2.8.2->pandas) (1.16.0)\n",
      "Requirement already satisfied: colorama in c:\\users\\vedas\\anaconda3\\lib\\site-packages (from tqdm>=4.27->transformers) (0.4.6)\n",
      "Requirement already satisfied: MarkupSafe>=2.0 in c:\\users\\vedas\\anaconda3\\lib\\site-packages (from jinja2->torch) (2.1.3)\n",
      "Requirement already satisfied: charset-normalizer<4,>=2 in c:\\users\\vedas\\anaconda3\\lib\\site-packages (from requests->transformers) (2.0.4)\n",
      "Requirement already satisfied: idna<4,>=2.5 in c:\\users\\vedas\\anaconda3\\lib\\site-packages (from requests->transformers) (2.10)\n",
      "Requirement already satisfied: urllib3<3,>=1.21.1 in c:\\users\\vedas\\anaconda3\\lib\\site-packages (from requests->transformers) (2.2.2)\n",
      "Requirement already satisfied: certifi>=2017.4.17 in c:\\users\\vedas\\anaconda3\\lib\\site-packages (from requests->transformers) (2025.1.31)\n",
      "Downloading sentence_transformers-3.4.1-py3-none-any.whl (275 kB)\n",
      "Installing collected packages: sentence-transformers\n",
      "Successfully installed sentence-transformers-3.4.1\n",
      "Note: you may need to restart the kernel to use updated packages.\n"
     ]
    }
   ],
   "source": [
    "pip install pandas transformers sentence-transformers torch scikit-learn"
   ]
  },
  {
   "cell_type": "code",
   "execution_count": 1,
   "id": "71e80eb4-e741-4e55-85c5-3ee888ae1c06",
   "metadata": {},
   "outputs": [
    {
     "name": "stdout",
     "output_type": "stream",
     "text": [
      "(2000, 2)\n"
     ]
    }
   ],
   "source": [
    "import pandas as pd\n",
    "\n",
    "# Load dataset\n",
    "dff = pd.read_csv(\"final_data.csv\")\n",
    "\n",
    "# Select first 5000 rows\n",
    "first_5k = dff.iloc[:5000]\n",
    "\n",
    "# Select last 15000 rows\n",
    "last_15k = dff.iloc[5000:]\n",
    "\n",
    "# Take 500 random rows from the first 5k\n",
    "subset_1 = first_5k.sample(n=500, random_state=42)\n",
    "\n",
    "# Take 1500 random rows from the last 15k\n",
    "subset_2 = last_15k.sample(n=1500, random_state=42)\n",
    "\n",
    "# Combine both subsets\n",
    "df = pd.concat([subset_1, subset_2])\n",
    "\n",
    "# Shuffle final dataset (optional)\n",
    "df = df.sample(frac=1, random_state=42).reset_index(drop=True)\n",
    "\n",
    "# Print dataset size\n",
    "print(df.shape)  # Should be (2000, columns)\n"
   ]
  },
  {
   "cell_type": "code",
   "execution_count": 9,
   "id": "8bfee1c4-c0ab-46d3-b374-f51720651ea4",
   "metadata": {},
   "outputs": [],
   "source": [
    "import pandas as pd\n",
    "from sentence_transformers import SentenceTransformer\n",
    "from sklearn.metrics.pairwise import cosine_similarity"
   ]
  },
  {
   "cell_type": "code",
   "execution_count": 11,
   "id": "2df88e55-1a41-4cc0-bacd-3c1a0b9ef8c3",
   "metadata": {},
   "outputs": [],
   "source": [
    "# Load your dataset\n",
    "#df = pd.read_csv(\"your_dataset.csv\")  # Update with your file path\n",
    "text_column = \"text\"  # Update with the actual column name in your dataset\n"
   ]
  },
  {
   "cell_type": "code",
   "execution_count": 13,
   "id": "8961eea8-db28-49b4-a50c-60edb6b894b1",
   "metadata": {},
   "outputs": [],
   "source": [
    "# Load LaBSE model\n",
    "model = SentenceTransformer(\"sentence-transformers/LaBSE\")"
   ]
  },
  {
   "cell_type": "code",
   "execution_count": 15,
   "id": "5e215a5a-ff26-4dd6-a85e-b40d82670eb8",
   "metadata": {},
   "outputs": [],
   "source": [
    "# Ensure all values are strings and handle missing values\n",
    "df[text_column] = df[text_column].fillna(\"\").astype(str)"
   ]
  },
  {
   "cell_type": "code",
   "execution_count": 17,
   "id": "4e1c5216-5962-4545-9d1a-3c1f559e22b9",
   "metadata": {},
   "outputs": [],
   "source": [
    "# Generate embeddings safely\n",
    "df[\"embeddings\"] = df[text_column].apply(lambda text: model.encode(text) if isinstance(text, str) and text.strip() else None)"
   ]
  },
  {
   "cell_type": "code",
   "execution_count": 19,
   "id": "06fe421b-ac56-4e57-9275-8cbe6ac18437",
   "metadata": {},
   "outputs": [
    {
     "name": "stdout",
     "output_type": "stream",
     "text": [
      "Similarity Score: 0.1864808350801468\n"
     ]
    }
   ],
   "source": [
    "# Example: Compute similarity between two news articles\n",
    "similarity = cosine_similarity([df[\"embeddings\"][0]], [df[\"embeddings\"][1]])\n",
    "print(f\"Similarity Score: {similarity[0][0]}\")"
   ]
  },
  {
   "cell_type": "code",
   "execution_count": 29,
   "id": "f691e752-905b-432b-a834-4d6fa46ff309",
   "metadata": {},
   "outputs": [],
   "source": [
    "df = df.dropna(subset=[\"embeddings\", \"label\"])  # Remove rows with missing values"
   ]
  },
  {
   "cell_type": "code",
   "execution_count": 31,
   "id": "c1d0b334-4c23-41c6-ab8f-ba651db83e42",
   "metadata": {},
   "outputs": [
    {
     "name": "stdout",
     "output_type": "stream",
     "text": [
      "X shape: (1994, 768), y shape: (1994,)\n"
     ]
    }
   ],
   "source": [
    "X = np.vstack(df[\"embeddings\"].values)  # Convert embeddings into a NumPy array\n",
    "y = df[\"label\"].values  \n",
    "\n",
    "print(f\"X shape: {X.shape}, y shape: {y.shape}\")  # Check sizes"
   ]
  },
  {
   "cell_type": "code",
   "execution_count": 33,
   "id": "080b3393-e159-430a-b04d-5ae56eae0c01",
   "metadata": {},
   "outputs": [],
   "source": [
    "from sklearn.model_selection import train_test_split\n",
    "X_train, X_test, y_train, y_test = train_test_split(X, y, test_size=0.2, random_state=42)"
   ]
  },
  {
   "cell_type": "code",
   "execution_count": 35,
   "id": "bbbcd078-b96d-4f35-acba-cc0752462d6b",
   "metadata": {},
   "outputs": [
    {
     "name": "stdout",
     "output_type": "stream",
     "text": [
      "X shape: (1994, 768), y shape: (1994,)\n"
     ]
    }
   ],
   "source": [
    "print(f\"X shape: {X.shape}, y shape: {y.shape}\")"
   ]
  },
  {
   "cell_type": "code",
   "execution_count": 37,
   "id": "d3bed82f-cbe5-4dbc-b5e2-af28ce904f9a",
   "metadata": {},
   "outputs": [
    {
     "name": "stdout",
     "output_type": "stream",
     "text": [
      "Accuracy: 0.8872\n"
     ]
    }
   ],
   "source": [
    "from sklearn.model_selection import train_test_split\n",
    "\n",
    "X_train, X_test, y_train, y_test = train_test_split(X, y, test_size=0.2, random_state=42)\n",
    "\n",
    "# Train the classifier\n",
    "from sklearn.ensemble import RandomForestClassifier\n",
    "\n",
    "clf = RandomForestClassifier(n_estimators=100, random_state=42)\n",
    "clf.fit(X_train, y_train)\n",
    "\n",
    "# Check accuracy\n",
    "from sklearn.metrics import accuracy_score\n",
    "\n",
    "y_pred = clf.predict(X_test)\n",
    "print(f\"Accuracy: {accuracy_score(y_test, y_pred):.4f}\")"
   ]
  },
  {
   "cell_type": "code",
   "execution_count": 39,
   "id": "60fffce9-5793-4b47-a5c7-e93dd69daa5f",
   "metadata": {},
   "outputs": [],
   "source": [
    "def predict_fake_news(text, model, clf):\n",
    "    embedding = model.encode([text])  # Convert input text to an embedding\n",
    "    prediction = clf.predict(embedding)[0]  # Predict using trained classifier\n",
    "    return \"Fake News\" if prediction == 1 else \"Real News\""
   ]
  },
  {
   "cell_type": "code",
   "execution_count": 41,
   "id": "f1ef09fa-4ceb-47d0-9e1c-e32ee7a2f98b",
   "metadata": {},
   "outputs": [
    {
     "name": "stdout",
     "output_type": "stream",
     "text": [
      "Prediction: Fake News\n"
     ]
    }
   ],
   "source": [
    "new_text = \"Government announces new tax policies for next year.\"\n",
    "result = predict_fake_news(new_text, model, clf)\n",
    "print(f\"Prediction: {result}\")"
   ]
  },
  {
   "cell_type": "code",
   "execution_count": 43,
   "id": "f51a662b-76e4-4a75-881a-48fb85f93c75",
   "metadata": {},
   "outputs": [
    {
     "name": "stdin",
     "output_type": "stream",
     "text": [
      "Enter news text (or type 'exit' to quit):  \ttext 3\ta leaked video shows a group of probation officers brutally beating a teen inside a california detention center.the video, which was leaked to witness la by someone from inside the probation department, shows four probation officers beating the teen, while a supervisor looks on.according to witness la, the video was recorded inside barry j. nidorf juvenile hall, located in sylmar, california.the video has no sound, but it does show the 17-year-old talking to the supervisor moments before the attack. the footage does not show the teen threatening the officer in any way.a second officer rushes in from the hallway and begins hitting the teen from behind. as more officers rush into the room, the teenager is tackled and thrown to onto the cell s cot.the officers pile on top of him. video shows them punching the kid over and over again. at this point he is on his stomach, but his head and upper body are no longer on the cot.the supervisor remains standing near the doorway, watching the entire incident unfold.according to witness la:the supervisor, who appeared to be overseeing the beating, was reportedly the facility s officer of the day meaning, he was like a watch commander at a police or sheriff s station. he was the guy in charge of the whole place.about a minute into the beating another uniformed officer can be seen entering the cell. he watches for a few brief seconds, then exits the room, leaving the officers to continue beating the minor who is in their charge.witness la reports that this person was a second supervisor.the beating lasts nearly two minutes.after being seen briefly by a nurse, the teenager was taken to a hospital where he was treated for multiple injuries, including bruising, black eyes, swelling and abrasions. he was also treated for a sprain.witness la did not release the entire video. a portion of it was published by abc 7. watch the footage below, via youtube. image credit: video screen capture via abc 7 news on youtube\n"
     ]
    },
    {
     "name": "stdout",
     "output_type": "stream",
     "text": [
      "Prediction: Fake News\n"
     ]
    },
    {
     "name": "stdin",
     "output_type": "stream",
     "text": [
      "Enter news text (or type 'exit' to quit):  \ttext 4\t(reuters) - five democratic u.s. senators, including presidential candidate bernie sanders, told the justice department and federal communications commission on thursday that they had “significant concerns” about charter communications inc’s (chtr.o) planned acquisition of time warner cable inc twc.n and bright house networks. the senators, who also included elizabeth warren, ed markey, ron wyden and al franken, said in a letter to the agencies that are reviewing the proposal that the deal would create “a nationwide broadband duopoly,” with charter and comcast corp (cmcsa.o) in nearly two-thirds of u.s. high-speed broadband homes. the senators urged the government to thoroughly address all potential harm to consumers. they also raised concerns that charter will take on significant debt that could harm its ability to honor commitments to build out its network, including in rural areas. the fcc has said u.s. broadband prices are among the world’s most expensive, according to the senators, who urged more competition. the merger could lead to higher prices and fewer innovative services, they added. charter said in may that it would buy time warner cable in a $56 billion cash-and-stock deal that would make it the no. 2 u.s. internet and cable company after comcast. shareholders of both companies and most u.s. states have approved the deal, which still awaits clearance from the federal government. on wednesday, charter said it had won approval from new jersey and was only awaiting clearance from two states where it will operate as new charter. the company agreed to return time warner cable call centers to the united states and add jobs. “having demonstrated that the pending transactions with time warner cable and bright house networks are squarely in the public interest, charter remains confident they will close in a timely fashion,” the company said on wednesday. new charter would be the third-largest cable provider in the country, serving roughly 17.3 million customers, and the second-largest broadband provider, with 19.4 million subscribers. it would be in nearly 40 states. charter and time warner cable did not immediately respond to requests for comment on thursday. fcc spokeswoman kim hart said the commission had received the letter and was reviewing it. the fcc hopes to complete its review by the end of march. in april, comcast withdrew its $45 billion offer for time warner cable after u.s. regulators raised concerns that the deal would give it an unfair advantage in the cable tv and internet-based services market.\n"
     ]
    },
    {
     "name": "stdout",
     "output_type": "stream",
     "text": [
      "Prediction: Real News\n"
     ]
    },
    {
     "name": "stdin",
     "output_type": "stream",
     "text": [
      "Enter news text (or type 'exit' to quit):  \ttext 7183\tवाशिंगटन (रायटर) - दो यू.एस.सीनेटरों ने गुरुवार को संघीय अधिकारियों से आग्रह किया कि वे 1 बिलियन डॉलर के हवाई अड्डे के चेहरे की स्कैनिंग कार्यक्रम के नियोजित विस्तार को रोकें, उन्होंने कहा कि तकनीक नौ यू.एस. से प्रस्थान करने वाली कुछ उड़ानों पर यात्रियों की पहचान करने के लिए इस्तेमाल की गई थी।अंतर्राष्ट्रीय गंतव्यों के लिए हवाई अड्डे पर्याप्त सटीक नहीं हो सकते हैं और गोपनीयता की चिंताओं को बढ़ाते हैं।कांग्रेस ने गैर-अमेरिकी के लिए कार्यक्रम के उपयोग को मंजूरी दे दी है।नागरिकों, लेकिन कभी भी स्पष्ट रूप से अमेरिकियों के लिए इसके उपयोग को अधिकृत नहीं किया।होमलैंड सिक्योरिटी विभाग ने कहा है कि सिस्टम को यात्रियों को किसी और की पहचान का उपयोग करके देश छोड़ने से रोकने और संयुक्त राज्य अमेरिका में आगंतुकों को अपने वीजा को खत्म करने से रोकने के लिए आवश्यक है।सीनेटर माइक ली, एक रिपब्लिकन, और एडवर्ड मार्की, एक डेमोक्रेट, डिपार्टमेंट ऑफ होमलैंड के सुरक्षा सचिव किर्स्टजेन नीलसन को एक पत्र में, ने चिंता जताई कि बहुत से यात्रियों को दोषपूर्ण स्कैन परिणामों से असुविधाजनक होगा और सवाल किया कि अमेरिकियों को स्क्रीन के अधीन क्यों किया जा रहा है,बायोमेट्रिक एग्जिट डिटेक्शन टेक्नोलॉजी के रूप में जाना जाता है।पत्र में, उन्होंने नौ हवाई अड्डों से परे कार्यक्रम का विस्तार करने के लिए आपत्तियों को उठाया जहां यह पहले से ही उपयोग में है।“हम अनुरोध करते हैं कि डीएचएस इस कार्यक्रम के विस्तार को रोकें और कांग्रेस को अपने स्पष्ट वैधानिक प्राधिकरण के साथ प्रदान करें और यू.एस.नागरिक, \"सीनेटरों ने लिखा।\"यदि कोई विशिष्ट प्राधिकरण नहीं है, तो हम इस बात के लिए एक स्पष्टीकरण का अनुरोध करते हैं कि डीएचएस का मानना ​​है कि उसके पास आगे बढ़ने का अधिकार है\" उन्होंने गुरुवार को जॉर्जटाउन यूनिवर्सिटी लॉ स्कूल के सेंटर ऑन प्राइवेसी एंड टेक्नोलॉजी द्वारा जारी एक रिपोर्ट का हवाला दिया, जिसमें पाया गया कि डीएचएस ने स्कैन का संचालन किया है \"बेसिक के बिना\"कानूनी और तकनीकी सुरक्षा उपायों - या इसकी बिलियन -डॉलर की लागत का कोई सार्थक औचित्य। ”2016 में कांग्रेस ने चेहरे के स्कैन पर 10 वर्षों में $ 1 बिलियन तक खर्च किया।अमेरिका।सीमा शुल्क और सीमा सुरक्षा (CBP), अपनी वेबसाइट पर, का कहना है कि कार्यक्रम एक उड़ान पर \"संयुक्त राज्य अमेरिका के सभी यात्रियों से चेहरे की छवियां\" एकत्र करता है और पहचान को सत्यापित करने के लिए छवियों का उपयोग करता है।यह कहता है कि छवियों को दो सप्ताह से अधिक समय तक संग्रहीत किया जाता है और कहते हैं कि \"सीबीपी सभी यात्रियों की गोपनीयता की रक्षा के लिए समर्पित है।\"सरकार ने गुरुवार को कहा कि यू.एस.नागरिक चेहरे की स्क्रीनिंग से बाहर निकल सकते हैं और इसके बजाय अपने आईडी दस्तावेजों की एक अलग समीक्षा कर सकते हैं।एक यू.एस.सीमा शुल्क और सीमा सुरक्षा प्रवक्ता ने कहा कि सरकार बायोमेट्रिक निकास कार्यक्रम को स्थापित करने के लिए काम कर रही है \"एक तरह से जो यात्री के लिए सबसे कुशल और सुरक्षित है और यह यात्रा उद्योग के लिए कम से कम विघटनकारी है।\"सिस्टम का उपयोग करने वाले हवाई अड्डों में बोस्टन, लास वेगास, मियामी, न्यूयॉर्क के जॉन एफ शामिल हैं।कैनेडी, वाशिंगटन डुल्ल्स, दोनों ह्यूस्टन हवाई अड्डे, शिकागो ओ'हारे और अटलांटा।सीनेटर चाहते हैं कि डीएचएस यह डेटा प्रदान करे कि कार्यक्रम यात्रियों को अस्वीकार नहीं करेगा।डीएचएस ने कहा कि पहले इसका लक्ष्य 96 प्रतिशत \"सही स्वीकार दर\" है, जिसका अर्थ है कि प्रौद्योगिकी सकारात्मक रूप से 96 प्रतिशत चेहरों की पहचान कर सकती है।हालांकि, सीनेटरों ने कहा कि इसका मतलब था कि \"अभी भी 25 यात्रियों में से एक के लिए एक गलत इनकार होगा।इसके अलावा इस बात के सबूत हैं कि कुछ फेस स्कैन स्कैन किए जाने वाले व्यक्ति की दौड़ या लिंग के आधार पर अलग -अलग त्रुटि दर प्रदर्शित करते हैं। ”डीएचएस ने कहा है कि जिन यात्रियों को सत्यापित नहीं किया जा सकता है, उन्हें दूसरे क्षेत्र में ले जाया जाता है, जहां सीमा शुल्क और सीमा गश्ती दल अपनी पहचान को सत्यापित करने के लिए अन्य तरीकों का उपयोग करते हैं।जॉर्जटाउन लॉ रिपोर्ट ने यह भी कहा कि डीएचएस ने कार्यक्रम को नियंत्रित करने वाले किसी भी नियम की स्थापना नहीं की है।केंद्र के डिप्टी डायरेक्टर और रिपोर्ट के सह-लेखक लॉरा मोय ने कहा, \"ऐसा लगता है कि डीएचएस ने आईडी की जांच करने के लिए एक अरब-डॉलर बाउंसर को काम पर रखा है, लेकिन कभी भी यह जाँच नहीं की है कि वह नकली स्पॉट करने में कितना अच्छा है।\"\"वे यह भी नहीं जानते कि क्या वह लोगों के कुछ समूहों के खिलाफ पक्षपाती है।\"सीनेटरों ने कहा कि डीएचएस को यह सुनिश्चित करने के लिए सुरक्षा उपायों की भी आवश्यकता है कि चेहरे का डेटा अन्य यू.एस. के साथ साझा नहीं किया गया हैएजेंसियां।\n"
     ]
    },
    {
     "name": "stdout",
     "output_type": "stream",
     "text": [
      "Prediction: Real News\n"
     ]
    },
    {
     "name": "stdin",
     "output_type": "stream",
     "text": [
      "Enter news text (or type 'exit' to quit):  \ttext 7184\tవాషింగ్టన్ (రాయిటర్స్) - రెండు యు.ఎస్.Billion 1 బిలియన్ల విమానాశ్రయ ఫేషియల్ స్కానింగ్ ప్రోగ్రాం యొక్క ప్రణాళికాబద్ధమైన విస్తరణను నిలిపివేయాలని సెనేటర్లు గురువారం ఫెడరల్ అధికారులను కోరారు, తొమ్మిది యు.ఎస్.అంతర్జాతీయ గమ్యస్థానాలకు విమానాశ్రయాలు తగినంత ఖచ్చితమైనవి కాకపోవచ్చు మరియు గోప్యతా సమస్యలను లేవనెత్తుతాయి.యు.ఎస్. కానివారికి ఈ కార్యక్రమాన్ని ఉపయోగించడాన్ని కాంగ్రెస్ ఆమోదించింది.పౌరులు, కానీ అమెరికన్ల కోసం దాని ఉపయోగానికి ఎప్పుడూ అధికారం ఇవ్వలేదు.ప్రయాణికులు వేరొకరి గుర్తింపును ఉపయోగించి దేశాన్ని విడిచిపెట్టకుండా నిరోధించడానికి మరియు యునైటెడ్ స్టేట్స్కు సందర్శకులను వారి వీసాలను అధిగమించకుండా నిరోధించడానికి ఈ వ్యవస్థ అవసరమని హోంల్యాండ్ సెక్యూరిటీ విభాగం తెలిపింది.సెనేటర్లు మైక్ లీ, రిపబ్లికన్ మరియు ఎడ్వర్డ్ మార్కీ, డెమొక్రాట్, హోంల్యాండ్ సెక్యూరిటీ సెక్రటరీ కిర్స్ట్జెన్ నీల్సెన్ విభాగానికి రాసిన లేఖలో, చాలా మంది ప్రయాణికులు తప్పు స్కాన్ ఫలితాల వల్ల అసౌకర్యానికి గురవుతారని మరియు అమెరికన్లు తెరలకు ఎందుకు గురవుతున్నారని ప్రశ్నించారు.బయోమెట్రిక్ ఎగ్జిట్ డిటెక్షన్ టెక్నాలజీ అని పిలుస్తారు.లేఖలో, వారు ఇప్పటికే వాడుకలో ఉన్న తొమ్మిది విమానాశ్రయాలకు మించి ఈ కార్యక్రమాన్ని విస్తరించడానికి అభ్యంతరాలను లేవనెత్తారు.\"ఈ కార్యక్రమం యొక్క విస్తరణను DHS ఆపివేయాలని మరియు U.S. లో బయోమెట్రిక్ ఎగ్జిట్ ప్రోగ్రామ్‌ను ఉపయోగించడానికి మరియు విస్తరించడానికి కాంగ్రెస్‌కు దాని స్పష్టమైన చట్టబద్ధమైన అధికారాన్ని అందించాలని మేము అభ్యర్థిస్తున్నాము.పౌరులు, ”సెనేటర్లు రాశారు.\"నిర్దిష్ట అధికారం లేకపోతే, కొనసాగడానికి అధికారం ఉందని DHS ఎందుకు నమ్ముతుందో మేము ఒక వివరణను అభ్యర్థిస్తున్నాము\" వారు జార్జ్‌టౌన్ యూనివర్శిటీ లా స్కూల్ యొక్క గోప్యత & సాంకేతిక పరిజ్ఞానంపై గురువారం విడుదల చేసిన ఒక నివేదికను వారు ఉదహరించారు, DHS \"ప్రాథమిక లేకుండా స్కాన్లను నిర్వహిస్తున్నట్లు కనుగొన్నారు.చట్టపరమైన మరియు సాంకేతిక భద్రతలు - లేదా దాని బిలియన్ డాలర్ల ఖర్చు యొక్క ఏదైనా అర్ధవంతమైన సమర్థన. ”2016 లో కాంగ్రెస్ ముఖ స్కాన్‌లపై 10 సంవత్సరాలలో 1 బిలియన్ డాలర్ల వరకు ఖర్చు చేయడానికి అధికారం ఇచ్చింది.యు.ఎస్.కస్టమ్స్ అండ్ బోర్డర్ ప్రొటెక్షన్ (సిబిపి), తన వెబ్‌సైట్‌లో, ఈ కార్యక్రమం విమానంలో “యునైటెడ్ స్టేట్స్ నుండి వచ్చిన అన్ని ప్రయాణికుల నుండి ముఖ చిత్రాలను” సేకరిస్తుంది మరియు గుర్తింపులను ధృవీకరించడానికి చిత్రాలను ఉపయోగిస్తుంది.చిత్రాలు రెండు వారాల కన్నా ఎక్కువ నిల్వ చేయబడవు మరియు \"సిబిపి అన్ని ప్రయాణికుల గోప్యతను రక్షించడానికి అంకితం చేయబడింది\" అని చెప్పింది.యు.ఎస్.పౌరులు ముఖ స్క్రీనింగ్ నుండి వైదొలగవచ్చు మరియు బదులుగా వారి ID పత్రాల యొక్క ప్రత్యేక సమీక్షను కలిగి ఉండవచ్చు.యు.ఎస్.కస్టమ్స్ అండ్ బోర్డర్ ప్రొటెక్షన్ ప్రతినిధి మాట్లాడుతూ, బయోమెట్రిక్ నిష్క్రమణ కార్యక్రమాన్ని \"యాత్రికుడికి అత్యంత సమర్థవంతమైన మరియు సురక్షితమైన విధంగా మరియు ప్రయాణ పరిశ్రమకు కనీసం అంతరాయం కలిగించే విధంగా\" ప్రభుత్వం కృషి చేస్తోందని అన్నారు.వ్యవస్థను ఉపయోగించే విమానాశ్రయాలలో బోస్టన్, లాస్ వెగాస్, మయామి, న్యూయార్క్ జాన్ ఎఫ్.కెన్నెడీ, వాషింగ్టన్ డల్లెస్, హ్యూస్టన్ విమానాశ్రయాలు, చికాగో ఓ హేర్ మరియు అట్లాంటా.ఈ కార్యక్రమం అనవసరంగా భారం పడకుండా డేటాను అందించాలని సెనేటర్లు కోరుకుంటారు.DHS ఇంతకుముందు తన లక్ష్యం 96 శాతం “నిజమైన అంగీకార రేటు” అని చెప్పారు, అంటే సాంకేతికత 96 శాతం ముఖాలను స్కాన్ చేస్తుంది.అయితే, సెనేటర్లు దీని అర్థం “25 మంది ప్రయాణికులలో ఒకరికి ఇంకా తప్పుడు తిరస్కరణ ఉంటుంది.స్కాన్ చేయబడిన వ్యక్తి యొక్క జాతి లేదా లింగాన్ని బట్టి కొన్ని ఫేస్ స్కాన్లు వేర్వేరు లోపం రేటును ప్రదర్శిస్తాయనడానికి ఆధారాలు ఉన్నాయి. ”ధృవీకరించలేని ప్రయాణికులు మరొక ప్రాంతానికి ఎస్కార్ట్ చేయబడుతున్నారని DHS పేర్కొంది, ఇక్కడ కస్టమ్స్ మరియు బోర్డర్ పెట్రోల్ వారి గుర్తింపును ధృవీకరించడానికి ఇతర పద్ధతులను ఉపయోగిస్తాయి.ఈ కార్యక్రమాన్ని నియంత్రించే ఏ నియమాలను డిహెచ్‌ఎస్ ఏర్పాటు చేయలేదని జార్జ్‌టౌన్ లా రిపోర్ట్ గుర్తించింది.\"ID లను తనిఖీ చేయడానికి DHS ఒక బిలియన్ డాలర్ల బౌన్సర్‌ను నియమించినట్లుగా ఉంది, కాని అతను నకిలీని గుర్తించడంలో ఎంత మంచివాడో ఎప్పుడూ తనిఖీ చేయలేదు\" అని సెంటర్ డిప్యూటీ డైరెక్టర్ మరియు నివేదిక యొక్క సహ రచయిత లారా మోయ్ అన్నారు.\"అతను కొన్ని సమూహాల వ్యక్తులపై పక్షపాతంతో ఉన్నాడో కూడా వారికి తెలియదు.\"ముఖ డేటా ఇతర యు.ఎస్.ఏజెన్సీలు.\n"
     ]
    },
    {
     "name": "stdout",
     "output_type": "stream",
     "text": [
      "Prediction: Real News\n"
     ]
    },
    {
     "name": "stdin",
     "output_type": "stream",
     "text": [
      "Enter news text (or type 'exit' to quit):  \ttext 7185\tகொதிகலன் அறையின் மற்றொரு நேரடி ஒளிபரப்பிற்கு மாற்று தற்போதைய ரேடியோ நெட்வொர்க்கை (ஏ.சி.ஆர்) டியூன் செய்யுங்கள் மாலை 6 மணிக்கு பிஎஸ்டி |ஒவ்வொரு புதன்கிழமையும் இரவு 9 மணி.தணிக்கை செய்யப்படாத, தடையற்ற பேச்சு வானொலியில் எங்களுடன் சேருங்கள், பார்பிளை தத்துவவாதிகள், தவறாக வழிநடத்தப்பட்ட தார்மீகவாதிகள், மசோசிஸ்டுகள், தெரு மூலையில் சுவிசேஷகர்கள், மீடியா-மேனியாக்ஸ், சாவிகள், அரசியல் விலங்குகள் மற்றும் இல்லையெனில் அன்பான ராஸ்கல்கள்21 வேர், ஜெய்ஸ் பகுப்பாய்விலிருந்து ஜே டயர், காளி ட்ரிப்யூன் புகழ் பிரான்கோ மாலிக் மற்றும் கிழக்கின் ஆத்மாவின் டேனியல் ஸ்பால்டிங்.இன்றிரவு கொதிகலன் கும்பல் கொண்டாட்ட பயன்முறையில் உள்ளது, ஏனெனில் எங்கள் ஒரு வருட ஒளிபரப்பு ஆண்டு விழா, பாராட்டுக்கள் வழங்கப்படும், கிளாசிக் கிளிப்புகள் விளையாடப்படும் மற்றும் பிரஸ்ஸல்ஸ், சிரியா, பாமிரா ஆகியவற்றில் புதிய பகுப்பாய்வு காணப்படும்.குழுவினர், பிரஸ்ஸல்ஸ், பாரிஸ், பாஸ்டன் அல்லது சான் பெர்னார்டினோவில் இருக்கலாம்.நீங்கள் பங்கேற்க விரும்பினால், கொதிகலனுக்குள் வீச சுவாரஸ்யமான ஒன்றைக் கொண்டு வாருங்கள் மாற்று தற்போதைய வானொலி அரட்டை அறையில் எங்களுடன் சேருங்கள். பாய்லர் அறை பாலிக்டிகல் சரியான மண்டலம் அல்ல!கீழே உள்ள பிளேயரில் நிகழ்ச்சியைக் கேளுங்கள்!குறிப்பு இணைப்புகள்:\n"
     ]
    },
    {
     "name": "stdout",
     "output_type": "stream",
     "text": [
      "Prediction: Fake News\n"
     ]
    },
    {
     "name": "stdin",
     "output_type": "stream",
     "text": [
      "Enter news text (or type 'exit' to quit):  \ttext 7187\tసాయంత్రం 6 గంటలకు ప్రారంభమయ్యే బాయిలర్ గది యొక్క మరొక ప్రత్యక్ష ప్రసారం కోసం ప్రత్యామ్నాయ ప్రస్తుత రేడియో నెట్‌వర్క్ (ACR) కు ట్యూన్ చేయండిప్రతి బుధవారం 9 PM EST.బార్‌ఫ్లై తత్వవేత్తలు, తప్పుదారి పట్టించే నైతికవాదులు, మాసోకిస్టులు, వీధి మూలలో సువార్తికులు, మీడియా-మానియాక్, సావెంట్లు, రాజకీయ జంతువులు మరియు ప్రేమించదగిన రాస్కల్స్ కోసం సెన్సార్ చేయని, నిరంతరాయమైన టాక్ రేడియో కోసం మాతో చేరండి.21 వైర్, జేస్ విశ్లేషణ నుండి జే డయ్యర్, కాళి ట్రిబ్యూన్ ఫేమ్ యొక్క బ్రాంకో మాలిక్ మరియు ఈస్ట్ యొక్క ఆత్మ యొక్క డేనియల్ స్పాల్డింగ్.టునైట్ బాయిలర్ గ్యాంగ్ వేడుక మోడ్‌లో ఉంది, ఎందుకంటే మేము మా వన్ ఇయర్ ప్రసార వార్షికోత్సవాన్ని తాకినప్పుడు, ప్రశంసలు ఇవ్వబడతాయి, క్లాసిక్ క్లిప్‌లు ఆడబడతాయి మరియు బ్రస్సెల్స్, సిరియా, పామిరాలో కొత్త విశ్లేషణలు కనుగొనబడతాయి మేము జే డైర్ ఎ ఎ మీడియా ఫేకరీపైకి వెళ్తున్నాముసిబ్బంది, ఇది బ్రస్సెల్స్, పారిస్, బోస్టన్ లేదా శాన్ బెర్నార్డినోలో ఉన్నారు.మీరు పాల్గొనాలనుకుంటే, ప్రత్యామ్నాయ ప్రస్తుత రేడియో చాట్ గదిలో మాతో చేరండి బాయిలర్‌లోకి విసిరేయడానికి ఆసక్తికరంగా ఏదైనా తీసుకురండి. బోయిలర్ గది పాలిక్టల్లీ సరైన జోన్ కాదు!దిగువ ఆటగాడిలో ప్రదర్శన వినండి!సూచన లింకులు:\n"
     ]
    },
    {
     "name": "stdout",
     "output_type": "stream",
     "text": [
      "Prediction: Fake News\n"
     ]
    },
    {
     "name": "stdin",
     "output_type": "stream",
     "text": [
      "Enter news text (or type 'exit' to quit):  \ttext 7191\tவாஷிங்டன்.குடியரசுக் கட்சியின் ஜனாதிபதி காப்பீட்டாளர்களிடம், ஒபாமா கேர் என அழைக்கப்படும் சட்டத்திலிருந்து அமெரிக்கர்களை காப்பாற்றவும், சுகாதார விலைகளை குறைக்க முயற்சிக்கவும் அவர்கள் அனைவரும் ஒன்றிணைந்து செயல்பட வேண்டும் என்று கூறினார்.சட்டத்தை ரத்து செய்வதற்கான சுகாதாரத் திட்டத்தில் ஜனநாயகக் கட்சியினருடன் இணைந்து பணியாற்றுவதாக நம்புவதாக அவர் கூறினார், இது மில்லியன் கணக்கான காப்பீடு செய்யப்படாத அமெரிக்கர்களுக்கு பாதுகாப்பு அளித்தது.\n"
     ]
    },
    {
     "name": "stdout",
     "output_type": "stream",
     "text": [
      "Prediction: Real News\n"
     ]
    },
    {
     "name": "stdin",
     "output_type": "stream",
     "text": [
      "Enter news text (or type 'exit' to quit):  exit\n"
     ]
    }
   ],
   "source": [
    "def predict_fake_news(text, model, clf):\n",
    "    embedding = model.encode([text])  # Convert input text to an embedding\n",
    "    prediction = clf.predict(embedding)[0]  # Predict using trained classifier\n",
    "    return \"Fake News\" if prediction == 1 else \"Real News\"\n",
    "\n",
    "# Ask for user input\n",
    "while True:\n",
    "    new_text = input(\"Enter news text (or type 'exit' to quit): \")\n",
    "    if new_text.lower() == \"exit\":\n",
    "        break\n",
    "    result = predict_fake_news(new_text, model, clf)\n",
    "    print(f\"Prediction: {result}\")"
   ]
  },
  {
   "cell_type": "code",
   "execution_count": null,
   "id": "d0e97e18-40cd-4d61-9016-77a179ded73e",
   "metadata": {},
   "outputs": [],
   "source": []
  }
 ],
 "metadata": {
  "kernelspec": {
   "display_name": "Python 3 (ipykernel)",
   "language": "python",
   "name": "python3"
  },
  "language_info": {
   "codemirror_mode": {
    "name": "ipython",
    "version": 3
   },
   "file_extension": ".py",
   "mimetype": "text/x-python",
   "name": "python",
   "nbconvert_exporter": "python",
   "pygments_lexer": "ipython3",
   "version": "3.12.4"
  }
 },
 "nbformat": 4,
 "nbformat_minor": 5
}
